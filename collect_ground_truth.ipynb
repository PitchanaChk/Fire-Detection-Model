{
 "cells": [
  {
   "cell_type": "code",
   "execution_count": 3,
   "metadata": {},
   "outputs": [
    {
     "name": "stdout",
     "output_type": "stream",
     "text": [
      "✅ Ground Truth ถูกบันทึกแล้ว!\n"
     ]
    }
   ],
   "source": [
    "import cv2\n",
    "import pickle\n",
    "\n",
    "# เปิดวิดีโอ\n",
    "video_path = \"test_video/fire_test3.mp4\"\n",
    "cap = cv2.VideoCapture(video_path)\n",
    "\n",
    "if not cap.isOpened():\n",
    "    print(\"Error: Failed to load video!\")\n",
    "    exit()\n",
    "\n",
    "ground_truth = []  # เก็บค่า Ground Truth (1 = ไฟ, 0 = ไม่มีไฟ)\n",
    "\n",
    "while cap.isOpened():\n",
    "    ret, frame = cap.read()\n",
    "    if not ret:\n",
    "        break  # วิดีโอจบ\n",
    "\n",
    "    cv2.imshow(\"กรุณาใส่ Ground Truth (y = ไฟ, n = ไม่มีไฟ)\", frame)\n",
    "    key = cv2.waitKey(0)  # รอให้ผู้ใช้กดปุ่ม\n",
    "\n",
    "    if key == ord('y'):  \n",
    "        ground_truth.append(1)\n",
    "    elif key == ord('n'):  \n",
    "        ground_truth.append(0)\n",
    "    elif key == ord('q'):  \n",
    "        break  # ออกจากโหมดเก็บ Ground Truth\n",
    "\n",
    "cap.release()\n",
    "cv2.destroyAllWindows()\n",
    "\n",
    "# บันทึก Ground Truth ลงไฟล์\n",
    "with open(\"ground_truth3.pkl\", \"wb\") as f:\n",
    "    pickle.dump(ground_truth, f)\n",
    "\n",
    "print(\"✅ Ground Truth ถูกบันทึกแล้ว!\")\n"
   ]
  }
 ],
 "metadata": {
  "kernelspec": {
   "display_name": "dl_env6710405486",
   "language": "python",
   "name": "python3"
  },
  "language_info": {
   "codemirror_mode": {
    "name": "ipython",
    "version": 3
   },
   "file_extension": ".py",
   "mimetype": "text/x-python",
   "name": "python",
   "nbconvert_exporter": "python",
   "pygments_lexer": "ipython3",
   "version": "3.10.15"
  }
 },
 "nbformat": 4,
 "nbformat_minor": 2
}
