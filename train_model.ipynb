{
 "cells": [
  {
   "cell_type": "code",
   "execution_count": 2,
   "metadata": {},
   "outputs": [],
   "source": [
    "from ultralytics import YOLO"
   ]
  },
  {
   "cell_type": "code",
   "execution_count": 7,
   "metadata": {},
   "outputs": [],
   "source": [
    "# Load YOLOv8 model (pretrained)\n",
    "model = YOLO(\"yolov8n.pt\")  # Use 'yolov8s.pt' for a slightly larger model"
   ]
  },
  {
   "cell_type": "code",
   "execution_count": 8,
   "metadata": {},
   "outputs": [
    {
     "name": "stdout",
     "output_type": "stream",
     "text": [
      "DetectionModel(\n",
      "  (model): Sequential(\n",
      "    (0): Conv(\n",
      "      (conv): Conv2d(3, 16, kernel_size=(3, 3), stride=(2, 2), padding=(1, 1), bias=False)\n",
      "      (bn): BatchNorm2d(16, eps=0.001, momentum=0.03, affine=True, track_running_stats=True)\n",
      "      (act): SiLU(inplace=True)\n",
      "    )\n",
      "    (1): Conv(\n",
      "      (conv): Conv2d(16, 32, kernel_size=(3, 3), stride=(2, 2), padding=(1, 1), bias=False)\n",
      "      (bn): BatchNorm2d(32, eps=0.001, momentum=0.03, affine=True, track_running_stats=True)\n",
      "      (act): SiLU(inplace=True)\n",
      "    )\n",
      "    (2): C2f(\n",
      "      (cv1): Conv(\n",
      "        (conv): Conv2d(32, 32, kernel_size=(1, 1), stride=(1, 1), bias=False)\n",
      "        (bn): BatchNorm2d(32, eps=0.001, momentum=0.03, affine=True, track_running_stats=True)\n",
      "        (act): SiLU(inplace=True)\n",
      "      )\n",
      "      (cv2): Conv(\n",
      "        (conv): Conv2d(48, 32, kernel_size=(1, 1), stride=(1, 1), bias=False)\n",
      "        (bn): BatchNorm2d(32, eps=0.001, momentum=0.03, affine=True, track_running_stats=True)\n",
      "        (act): SiLU(inplace=True)\n",
      "      )\n",
      "      (m): ModuleList(\n",
      "        (0): Bottleneck(\n",
      "          (cv1): Conv(\n",
      "            (conv): Conv2d(16, 16, kernel_size=(3, 3), stride=(1, 1), padding=(1, 1), bias=False)\n",
      "            (bn): BatchNorm2d(16, eps=0.001, momentum=0.03, affine=True, track_running_stats=True)\n",
      "            (act): SiLU(inplace=True)\n",
      "          )\n",
      "          (cv2): Conv(\n",
      "            (conv): Conv2d(16, 16, kernel_size=(3, 3), stride=(1, 1), padding=(1, 1), bias=False)\n",
      "            (bn): BatchNorm2d(16, eps=0.001, momentum=0.03, affine=True, track_running_stats=True)\n",
      "            (act): SiLU(inplace=True)\n",
      "          )\n",
      "        )\n",
      "      )\n",
      "    )\n",
      "    (3): Conv(\n",
      "      (conv): Conv2d(32, 64, kernel_size=(3, 3), stride=(2, 2), padding=(1, 1), bias=False)\n",
      "      (bn): BatchNorm2d(64, eps=0.001, momentum=0.03, affine=True, track_running_stats=True)\n",
      "      (act): SiLU(inplace=True)\n",
      "    )\n",
      "    (4): C2f(\n",
      "      (cv1): Conv(\n",
      "        (conv): Conv2d(64, 64, kernel_size=(1, 1), stride=(1, 1), bias=False)\n",
      "        (bn): BatchNorm2d(64, eps=0.001, momentum=0.03, affine=True, track_running_stats=True)\n",
      "        (act): SiLU(inplace=True)\n",
      "      )\n",
      "      (cv2): Conv(\n",
      "        (conv): Conv2d(128, 64, kernel_size=(1, 1), stride=(1, 1), bias=False)\n",
      "        (bn): BatchNorm2d(64, eps=0.001, momentum=0.03, affine=True, track_running_stats=True)\n",
      "        (act): SiLU(inplace=True)\n",
      "      )\n",
      "      (m): ModuleList(\n",
      "        (0-1): 2 x Bottleneck(\n",
      "          (cv1): Conv(\n",
      "            (conv): Conv2d(32, 32, kernel_size=(3, 3), stride=(1, 1), padding=(1, 1), bias=False)\n",
      "            (bn): BatchNorm2d(32, eps=0.001, momentum=0.03, affine=True, track_running_stats=True)\n",
      "            (act): SiLU(inplace=True)\n",
      "          )\n",
      "          (cv2): Conv(\n",
      "            (conv): Conv2d(32, 32, kernel_size=(3, 3), stride=(1, 1), padding=(1, 1), bias=False)\n",
      "            (bn): BatchNorm2d(32, eps=0.001, momentum=0.03, affine=True, track_running_stats=True)\n",
      "            (act): SiLU(inplace=True)\n",
      "          )\n",
      "        )\n",
      "      )\n",
      "    )\n",
      "    (5): Conv(\n",
      "      (conv): Conv2d(64, 128, kernel_size=(3, 3), stride=(2, 2), padding=(1, 1), bias=False)\n",
      "      (bn): BatchNorm2d(128, eps=0.001, momentum=0.03, affine=True, track_running_stats=True)\n",
      "      (act): SiLU(inplace=True)\n",
      "    )\n",
      "    (6): C2f(\n",
      "      (cv1): Conv(\n",
      "        (conv): Conv2d(128, 128, kernel_size=(1, 1), stride=(1, 1), bias=False)\n",
      "        (bn): BatchNorm2d(128, eps=0.001, momentum=0.03, affine=True, track_running_stats=True)\n",
      "        (act): SiLU(inplace=True)\n",
      "      )\n",
      "      (cv2): Conv(\n",
      "        (conv): Conv2d(256, 128, kernel_size=(1, 1), stride=(1, 1), bias=False)\n",
      "        (bn): BatchNorm2d(128, eps=0.001, momentum=0.03, affine=True, track_running_stats=True)\n",
      "        (act): SiLU(inplace=True)\n",
      "      )\n",
      "      (m): ModuleList(\n",
      "        (0-1): 2 x Bottleneck(\n",
      "          (cv1): Conv(\n",
      "            (conv): Conv2d(64, 64, kernel_size=(3, 3), stride=(1, 1), padding=(1, 1), bias=False)\n",
      "            (bn): BatchNorm2d(64, eps=0.001, momentum=0.03, affine=True, track_running_stats=True)\n",
      "            (act): SiLU(inplace=True)\n",
      "          )\n",
      "          (cv2): Conv(\n",
      "            (conv): Conv2d(64, 64, kernel_size=(3, 3), stride=(1, 1), padding=(1, 1), bias=False)\n",
      "            (bn): BatchNorm2d(64, eps=0.001, momentum=0.03, affine=True, track_running_stats=True)\n",
      "            (act): SiLU(inplace=True)\n",
      "          )\n",
      "        )\n",
      "      )\n",
      "    )\n",
      "    (7): Conv(\n",
      "      (conv): Conv2d(128, 256, kernel_size=(3, 3), stride=(2, 2), padding=(1, 1), bias=False)\n",
      "      (bn): BatchNorm2d(256, eps=0.001, momentum=0.03, affine=True, track_running_stats=True)\n",
      "      (act): SiLU(inplace=True)\n",
      "    )\n",
      "    (8): C2f(\n",
      "      (cv1): Conv(\n",
      "        (conv): Conv2d(256, 256, kernel_size=(1, 1), stride=(1, 1), bias=False)\n",
      "        (bn): BatchNorm2d(256, eps=0.001, momentum=0.03, affine=True, track_running_stats=True)\n",
      "        (act): SiLU(inplace=True)\n",
      "      )\n",
      "      (cv2): Conv(\n",
      "        (conv): Conv2d(384, 256, kernel_size=(1, 1), stride=(1, 1), bias=False)\n",
      "        (bn): BatchNorm2d(256, eps=0.001, momentum=0.03, affine=True, track_running_stats=True)\n",
      "        (act): SiLU(inplace=True)\n",
      "      )\n",
      "      (m): ModuleList(\n",
      "        (0): Bottleneck(\n",
      "          (cv1): Conv(\n",
      "            (conv): Conv2d(128, 128, kernel_size=(3, 3), stride=(1, 1), padding=(1, 1), bias=False)\n",
      "            (bn): BatchNorm2d(128, eps=0.001, momentum=0.03, affine=True, track_running_stats=True)\n",
      "            (act): SiLU(inplace=True)\n",
      "          )\n",
      "          (cv2): Conv(\n",
      "            (conv): Conv2d(128, 128, kernel_size=(3, 3), stride=(1, 1), padding=(1, 1), bias=False)\n",
      "            (bn): BatchNorm2d(128, eps=0.001, momentum=0.03, affine=True, track_running_stats=True)\n",
      "            (act): SiLU(inplace=True)\n",
      "          )\n",
      "        )\n",
      "      )\n",
      "    )\n",
      "    (9): SPPF(\n",
      "      (cv1): Conv(\n",
      "        (conv): Conv2d(256, 128, kernel_size=(1, 1), stride=(1, 1), bias=False)\n",
      "        (bn): BatchNorm2d(128, eps=0.001, momentum=0.03, affine=True, track_running_stats=True)\n",
      "        (act): SiLU(inplace=True)\n",
      "      )\n",
      "      (cv2): Conv(\n",
      "        (conv): Conv2d(512, 256, kernel_size=(1, 1), stride=(1, 1), bias=False)\n",
      "        (bn): BatchNorm2d(256, eps=0.001, momentum=0.03, affine=True, track_running_stats=True)\n",
      "        (act): SiLU(inplace=True)\n",
      "      )\n",
      "      (m): MaxPool2d(kernel_size=5, stride=1, padding=2, dilation=1, ceil_mode=False)\n",
      "    )\n",
      "    (10): Upsample(scale_factor=2.0, mode='nearest')\n",
      "    (11): Concat()\n",
      "    (12): C2f(\n",
      "      (cv1): Conv(\n",
      "        (conv): Conv2d(384, 128, kernel_size=(1, 1), stride=(1, 1), bias=False)\n",
      "        (bn): BatchNorm2d(128, eps=0.001, momentum=0.03, affine=True, track_running_stats=True)\n",
      "        (act): SiLU(inplace=True)\n",
      "      )\n",
      "      (cv2): Conv(\n",
      "        (conv): Conv2d(192, 128, kernel_size=(1, 1), stride=(1, 1), bias=False)\n",
      "        (bn): BatchNorm2d(128, eps=0.001, momentum=0.03, affine=True, track_running_stats=True)\n",
      "        (act): SiLU(inplace=True)\n",
      "      )\n",
      "      (m): ModuleList(\n",
      "        (0): Bottleneck(\n",
      "          (cv1): Conv(\n",
      "            (conv): Conv2d(64, 64, kernel_size=(3, 3), stride=(1, 1), padding=(1, 1), bias=False)\n",
      "            (bn): BatchNorm2d(64, eps=0.001, momentum=0.03, affine=True, track_running_stats=True)\n",
      "            (act): SiLU(inplace=True)\n",
      "          )\n",
      "          (cv2): Conv(\n",
      "            (conv): Conv2d(64, 64, kernel_size=(3, 3), stride=(1, 1), padding=(1, 1), bias=False)\n",
      "            (bn): BatchNorm2d(64, eps=0.001, momentum=0.03, affine=True, track_running_stats=True)\n",
      "            (act): SiLU(inplace=True)\n",
      "          )\n",
      "        )\n",
      "      )\n",
      "    )\n",
      "    (13): Upsample(scale_factor=2.0, mode='nearest')\n",
      "    (14): Concat()\n",
      "    (15): C2f(\n",
      "      (cv1): Conv(\n",
      "        (conv): Conv2d(192, 64, kernel_size=(1, 1), stride=(1, 1), bias=False)\n",
      "        (bn): BatchNorm2d(64, eps=0.001, momentum=0.03, affine=True, track_running_stats=True)\n",
      "        (act): SiLU(inplace=True)\n",
      "      )\n",
      "      (cv2): Conv(\n",
      "        (conv): Conv2d(96, 64, kernel_size=(1, 1), stride=(1, 1), bias=False)\n",
      "        (bn): BatchNorm2d(64, eps=0.001, momentum=0.03, affine=True, track_running_stats=True)\n",
      "        (act): SiLU(inplace=True)\n",
      "      )\n",
      "      (m): ModuleList(\n",
      "        (0): Bottleneck(\n",
      "          (cv1): Conv(\n",
      "            (conv): Conv2d(32, 32, kernel_size=(3, 3), stride=(1, 1), padding=(1, 1), bias=False)\n",
      "            (bn): BatchNorm2d(32, eps=0.001, momentum=0.03, affine=True, track_running_stats=True)\n",
      "            (act): SiLU(inplace=True)\n",
      "          )\n",
      "          (cv2): Conv(\n",
      "            (conv): Conv2d(32, 32, kernel_size=(3, 3), stride=(1, 1), padding=(1, 1), bias=False)\n",
      "            (bn): BatchNorm2d(32, eps=0.001, momentum=0.03, affine=True, track_running_stats=True)\n",
      "            (act): SiLU(inplace=True)\n",
      "          )\n",
      "        )\n",
      "      )\n",
      "    )\n",
      "    (16): Conv(\n",
      "      (conv): Conv2d(64, 64, kernel_size=(3, 3), stride=(2, 2), padding=(1, 1), bias=False)\n",
      "      (bn): BatchNorm2d(64, eps=0.001, momentum=0.03, affine=True, track_running_stats=True)\n",
      "      (act): SiLU(inplace=True)\n",
      "    )\n",
      "    (17): Concat()\n",
      "    (18): C2f(\n",
      "      (cv1): Conv(\n",
      "        (conv): Conv2d(192, 128, kernel_size=(1, 1), stride=(1, 1), bias=False)\n",
      "        (bn): BatchNorm2d(128, eps=0.001, momentum=0.03, affine=True, track_running_stats=True)\n",
      "        (act): SiLU(inplace=True)\n",
      "      )\n",
      "      (cv2): Conv(\n",
      "        (conv): Conv2d(192, 128, kernel_size=(1, 1), stride=(1, 1), bias=False)\n",
      "        (bn): BatchNorm2d(128, eps=0.001, momentum=0.03, affine=True, track_running_stats=True)\n",
      "        (act): SiLU(inplace=True)\n",
      "      )\n",
      "      (m): ModuleList(\n",
      "        (0): Bottleneck(\n",
      "          (cv1): Conv(\n",
      "            (conv): Conv2d(64, 64, kernel_size=(3, 3), stride=(1, 1), padding=(1, 1), bias=False)\n",
      "            (bn): BatchNorm2d(64, eps=0.001, momentum=0.03, affine=True, track_running_stats=True)\n",
      "            (act): SiLU(inplace=True)\n",
      "          )\n",
      "          (cv2): Conv(\n",
      "            (conv): Conv2d(64, 64, kernel_size=(3, 3), stride=(1, 1), padding=(1, 1), bias=False)\n",
      "            (bn): BatchNorm2d(64, eps=0.001, momentum=0.03, affine=True, track_running_stats=True)\n",
      "            (act): SiLU(inplace=True)\n",
      "          )\n",
      "        )\n",
      "      )\n",
      "    )\n",
      "    (19): Conv(\n",
      "      (conv): Conv2d(128, 128, kernel_size=(3, 3), stride=(2, 2), padding=(1, 1), bias=False)\n",
      "      (bn): BatchNorm2d(128, eps=0.001, momentum=0.03, affine=True, track_running_stats=True)\n",
      "      (act): SiLU(inplace=True)\n",
      "    )\n",
      "    (20): Concat()\n",
      "    (21): C2f(\n",
      "      (cv1): Conv(\n",
      "        (conv): Conv2d(384, 256, kernel_size=(1, 1), stride=(1, 1), bias=False)\n",
      "        (bn): BatchNorm2d(256, eps=0.001, momentum=0.03, affine=True, track_running_stats=True)\n",
      "        (act): SiLU(inplace=True)\n",
      "      )\n",
      "      (cv2): Conv(\n",
      "        (conv): Conv2d(384, 256, kernel_size=(1, 1), stride=(1, 1), bias=False)\n",
      "        (bn): BatchNorm2d(256, eps=0.001, momentum=0.03, affine=True, track_running_stats=True)\n",
      "        (act): SiLU(inplace=True)\n",
      "      )\n",
      "      (m): ModuleList(\n",
      "        (0): Bottleneck(\n",
      "          (cv1): Conv(\n",
      "            (conv): Conv2d(128, 128, kernel_size=(3, 3), stride=(1, 1), padding=(1, 1), bias=False)\n",
      "            (bn): BatchNorm2d(128, eps=0.001, momentum=0.03, affine=True, track_running_stats=True)\n",
      "            (act): SiLU(inplace=True)\n",
      "          )\n",
      "          (cv2): Conv(\n",
      "            (conv): Conv2d(128, 128, kernel_size=(3, 3), stride=(1, 1), padding=(1, 1), bias=False)\n",
      "            (bn): BatchNorm2d(128, eps=0.001, momentum=0.03, affine=True, track_running_stats=True)\n",
      "            (act): SiLU(inplace=True)\n",
      "          )\n",
      "        )\n",
      "      )\n",
      "    )\n",
      "    (22): Detect(\n",
      "      (cv2): ModuleList(\n",
      "        (0): Sequential(\n",
      "          (0): Conv(\n",
      "            (conv): Conv2d(64, 64, kernel_size=(3, 3), stride=(1, 1), padding=(1, 1), bias=False)\n",
      "            (bn): BatchNorm2d(64, eps=0.001, momentum=0.03, affine=True, track_running_stats=True)\n",
      "            (act): SiLU(inplace=True)\n",
      "          )\n",
      "          (1): Conv(\n",
      "            (conv): Conv2d(64, 64, kernel_size=(3, 3), stride=(1, 1), padding=(1, 1), bias=False)\n",
      "            (bn): BatchNorm2d(64, eps=0.001, momentum=0.03, affine=True, track_running_stats=True)\n",
      "            (act): SiLU(inplace=True)\n",
      "          )\n",
      "          (2): Conv2d(64, 64, kernel_size=(1, 1), stride=(1, 1))\n",
      "        )\n",
      "        (1): Sequential(\n",
      "          (0): Conv(\n",
      "            (conv): Conv2d(128, 64, kernel_size=(3, 3), stride=(1, 1), padding=(1, 1), bias=False)\n",
      "            (bn): BatchNorm2d(64, eps=0.001, momentum=0.03, affine=True, track_running_stats=True)\n",
      "            (act): SiLU(inplace=True)\n",
      "          )\n",
      "          (1): Conv(\n",
      "            (conv): Conv2d(64, 64, kernel_size=(3, 3), stride=(1, 1), padding=(1, 1), bias=False)\n",
      "            (bn): BatchNorm2d(64, eps=0.001, momentum=0.03, affine=True, track_running_stats=True)\n",
      "            (act): SiLU(inplace=True)\n",
      "          )\n",
      "          (2): Conv2d(64, 64, kernel_size=(1, 1), stride=(1, 1))\n",
      "        )\n",
      "        (2): Sequential(\n",
      "          (0): Conv(\n",
      "            (conv): Conv2d(256, 64, kernel_size=(3, 3), stride=(1, 1), padding=(1, 1), bias=False)\n",
      "            (bn): BatchNorm2d(64, eps=0.001, momentum=0.03, affine=True, track_running_stats=True)\n",
      "            (act): SiLU(inplace=True)\n",
      "          )\n",
      "          (1): Conv(\n",
      "            (conv): Conv2d(64, 64, kernel_size=(3, 3), stride=(1, 1), padding=(1, 1), bias=False)\n",
      "            (bn): BatchNorm2d(64, eps=0.001, momentum=0.03, affine=True, track_running_stats=True)\n",
      "            (act): SiLU(inplace=True)\n",
      "          )\n",
      "          (2): Conv2d(64, 64, kernel_size=(1, 1), stride=(1, 1))\n",
      "        )\n",
      "      )\n",
      "      (cv3): ModuleList(\n",
      "        (0): Sequential(\n",
      "          (0): Conv(\n",
      "            (conv): Conv2d(64, 80, kernel_size=(3, 3), stride=(1, 1), padding=(1, 1), bias=False)\n",
      "            (bn): BatchNorm2d(80, eps=0.001, momentum=0.03, affine=True, track_running_stats=True)\n",
      "            (act): SiLU(inplace=True)\n",
      "          )\n",
      "          (1): Conv(\n",
      "            (conv): Conv2d(80, 80, kernel_size=(3, 3), stride=(1, 1), padding=(1, 1), bias=False)\n",
      "            (bn): BatchNorm2d(80, eps=0.001, momentum=0.03, affine=True, track_running_stats=True)\n",
      "            (act): SiLU(inplace=True)\n",
      "          )\n",
      "          (2): Conv2d(80, 80, kernel_size=(1, 1), stride=(1, 1))\n",
      "        )\n",
      "        (1): Sequential(\n",
      "          (0): Conv(\n",
      "            (conv): Conv2d(128, 80, kernel_size=(3, 3), stride=(1, 1), padding=(1, 1), bias=False)\n",
      "            (bn): BatchNorm2d(80, eps=0.001, momentum=0.03, affine=True, track_running_stats=True)\n",
      "            (act): SiLU(inplace=True)\n",
      "          )\n",
      "          (1): Conv(\n",
      "            (conv): Conv2d(80, 80, kernel_size=(3, 3), stride=(1, 1), padding=(1, 1), bias=False)\n",
      "            (bn): BatchNorm2d(80, eps=0.001, momentum=0.03, affine=True, track_running_stats=True)\n",
      "            (act): SiLU(inplace=True)\n",
      "          )\n",
      "          (2): Conv2d(80, 80, kernel_size=(1, 1), stride=(1, 1))\n",
      "        )\n",
      "        (2): Sequential(\n",
      "          (0): Conv(\n",
      "            (conv): Conv2d(256, 80, kernel_size=(3, 3), stride=(1, 1), padding=(1, 1), bias=False)\n",
      "            (bn): BatchNorm2d(80, eps=0.001, momentum=0.03, affine=True, track_running_stats=True)\n",
      "            (act): SiLU(inplace=True)\n",
      "          )\n",
      "          (1): Conv(\n",
      "            (conv): Conv2d(80, 80, kernel_size=(3, 3), stride=(1, 1), padding=(1, 1), bias=False)\n",
      "            (bn): BatchNorm2d(80, eps=0.001, momentum=0.03, affine=True, track_running_stats=True)\n",
      "            (act): SiLU(inplace=True)\n",
      "          )\n",
      "          (2): Conv2d(80, 80, kernel_size=(1, 1), stride=(1, 1))\n",
      "        )\n",
      "      )\n",
      "      (dfl): DFL(\n",
      "        (conv): Conv2d(16, 1, kernel_size=(1, 1), stride=(1, 1), bias=False)\n",
      "      )\n",
      "    )\n",
      "  )\n",
      ")\n"
     ]
    }
   ],
   "source": [
    "print(model.model)"
   ]
  },
  {
   "cell_type": "code",
   "execution_count": 9,
   "metadata": {
    "scrolled": true
   },
   "outputs": [
    {
     "name": "stdout",
     "output_type": "stream",
     "text": [
      "Ultralytics 8.3.86 🚀 Python-3.11.10 torch-2.5.1+cu121 CUDA:0 (NVIDIA GeForce RTX 4090, 23995MiB)\n",
      "\u001b[34m\u001b[1mengine/trainer: \u001b[0mtask=detect, mode=train, model=yolov8n.pt, data=data.yaml, epochs=80, time=None, patience=100, batch=16, imgsz=640, save=True, save_period=-1, cache=False, device=None, workers=8, project=None, name=train10, exist_ok=False, pretrained=True, optimizer=auto, verbose=True, seed=0, deterministic=True, single_cls=False, rect=False, cos_lr=False, close_mosaic=10, resume=False, amp=True, fraction=1.0, profile=False, freeze=None, multi_scale=False, overlap_mask=True, mask_ratio=4, dropout=0.0, val=True, split=val, save_json=False, save_hybrid=False, conf=None, iou=0.7, max_det=300, half=False, dnn=False, plots=True, source=None, vid_stride=1, stream_buffer=False, visualize=False, augment=False, agnostic_nms=False, classes=None, retina_masks=False, embed=None, show=False, save_frames=False, save_txt=False, save_conf=False, save_crop=False, show_labels=True, show_conf=True, show_boxes=True, line_width=None, format=torchscript, keras=False, optimize=False, int8=False, dynamic=False, simplify=True, opset=None, workspace=None, nms=False, lr0=0.01, lrf=0.01, momentum=0.937, weight_decay=0.0005, warmup_epochs=3.0, warmup_momentum=0.8, warmup_bias_lr=0.1, box=7.5, cls=0.5, dfl=1.5, pose=12.0, kobj=1.0, nbs=64, hsv_h=0.015, hsv_s=0.7, hsv_v=0.4, degrees=0.0, translate=0.1, scale=0.5, shear=0.0, perspective=0.0, flipud=0.0, fliplr=0.5, bgr=0.0, mosaic=1.0, mixup=0.0, copy_paste=0.0, copy_paste_mode=flip, auto_augment=randaugment, erasing=0.4, crop_fraction=1.0, cfg=None, tracker=botsort.yaml, save_dir=runs/detect/train10\n",
      "Downloading https://ultralytics.com/assets/Arial.ttf to '/root/.config/Ultralytics/Arial.ttf'...\n"
     ]
    },
    {
     "name": "stderr",
     "output_type": "stream",
     "text": [
      "100%|██████████| 755k/755k [00:00<00:00, 3.49MB/s]"
     ]
    },
    {
     "name": "stdout",
     "output_type": "stream",
     "text": [
      "Overriding model.yaml nc=80 with nc=2\n",
      "\n",
      "                   from  n    params  module                                       arguments                     \n",
      "  0                  -1  1       464  ultralytics.nn.modules.conv.Conv             [3, 16, 3, 2]                 \n",
      "  1                  -1  1      4672  ultralytics.nn.modules.conv.Conv             [16, 32, 3, 2]                \n",
      "  2                  -1  1      7360  ultralytics.nn.modules.block.C2f             [32, 32, 1, True]             \n",
      "  3                  -1  1     18560  ultralytics.nn.modules.conv.Conv             [32, 64, 3, 2]                \n",
      "  4                  -1  2     49664  ultralytics.nn.modules.block.C2f             [64, 64, 2, True]             \n",
      "  5                  -1  1     73984  ultralytics.nn.modules.conv.Conv             [64, 128, 3, 2]               \n",
      "  6                  -1  2    197632  ultralytics.nn.modules.block.C2f             [128, 128, 2, True]           \n",
      "  7                  -1  1    295424  ultralytics.nn.modules.conv.Conv             [128, 256, 3, 2]              \n",
      "  8                  -1  1    460288  ultralytics.nn.modules.block.C2f             [256, 256, 1, True]           \n",
      "  9                  -1  1    164608  ultralytics.nn.modules.block.SPPF            [256, 256, 5]                 \n",
      " 10                  -1  1         0  torch.nn.modules.upsampling.Upsample         [None, 2, 'nearest']          \n",
      " 11             [-1, 6]  1         0  ultralytics.nn.modules.conv.Concat           [1]                           \n",
      " 12                  -1  1    148224  ultralytics.nn.modules.block.C2f             [384, 128, 1]                 \n",
      " 13                  -1  1         0  torch.nn.modules.upsampling.Upsample         [None, 2, 'nearest']          \n",
      " 14             [-1, 4]  1         0  ultralytics.nn.modules.conv.Concat           [1]                           \n",
      " 15                  -1  1     37248  ultralytics.nn.modules.block.C2f             [192, 64, 1]                  \n",
      " 16                  -1  1     36992  ultralytics.nn.modules.conv.Conv             [64, 64, 3, 2]                \n",
      " 17            [-1, 12]  1         0  ultralytics.nn.modules.conv.Concat           [1]                           \n",
      " 18                  -1  1    123648  ultralytics.nn.modules.block.C2f             [192, 128, 1]                 \n",
      " 19                  -1  1    147712  ultralytics.nn.modules.conv.Conv             [128, 128, 3, 2]              \n",
      " 20             [-1, 9]  1         0  ultralytics.nn.modules.conv.Concat           [1]                           \n",
      " 21                  -1  1    493056  ultralytics.nn.modules.block.C2f             [384, 256, 1]                 \n"
     ]
    },
    {
     "name": "stderr",
     "output_type": "stream",
     "text": [
      "\n"
     ]
    },
    {
     "name": "stdout",
     "output_type": "stream",
     "text": [
      " 22        [15, 18, 21]  1    751702  ultralytics.nn.modules.head.Detect           [2, [64, 128, 256]]           \n",
      "Model summary: 129 layers, 3,011,238 parameters, 3,011,222 gradients, 8.2 GFLOPs\n",
      "\n",
      "Transferred 319/355 items from pretrained weights\n",
      "Freezing layer 'model.22.dfl.conv.weight'\n",
      "\u001b[34m\u001b[1mAMP: \u001b[0mrunning Automatic Mixed Precision (AMP) checks...\n",
      "\u001b[34m\u001b[1mAMP: \u001b[0mchecks passed ✅\n"
     ]
    },
    {
     "name": "stderr",
     "output_type": "stream",
     "text": [
      "\u001b[34m\u001b[1mtrain: \u001b[0mScanning /fire-detection-project/fire_dataset/train/labels.cache... 6795 images, 0 backgrounds, 0 corrupt: 100%|██████████| 6795/6795 [00:00<?, ?it/s]\n",
      "\u001b[34m\u001b[1mval: \u001b[0mScanning /fire-detection-project/fire_dataset/valid/labels.cache... 1159 images, 0 backgrounds, 0 corrupt: 100%|██████████| 1159/1159 [00:00<?, ?it/s]\n"
     ]
    },
    {
     "name": "stdout",
     "output_type": "stream",
     "text": [
      "Plotting labels to runs/detect/train10/labels.jpg... \n",
      "\u001b[34m\u001b[1moptimizer:\u001b[0m 'optimizer=auto' found, ignoring 'lr0=0.01' and 'momentum=0.937' and determining best 'optimizer', 'lr0' and 'momentum' automatically... \n",
      "\u001b[34m\u001b[1moptimizer:\u001b[0m AdamW(lr=0.001667, momentum=0.9) with parameter groups 57 weight(decay=0.0), 64 weight(decay=0.0005), 63 bias(decay=0.0)\n",
      "Image sizes 640 train, 640 val\n",
      "Using 8 dataloader workers\n",
      "Logging results to \u001b[1mruns/detect/train10\u001b[0m\n",
      "Starting training for 80 epochs...\n",
      "\n",
      "      Epoch    GPU_mem   box_loss   cls_loss   dfl_loss  Instances       Size\n"
     ]
    },
    {
     "name": "stderr",
     "output_type": "stream",
     "text": [
      "       1/80       2.1G      1.128      1.772       1.31         34        640: 100%|██████████| 425/425 [00:38<00:00, 10.92it/s]\n",
      "                 Class     Images  Instances      Box(P          R      mAP50  mAP50-95): 100%|██████████| 37/37 [00:04<00:00,  7.99it/s]\n"
     ]
    },
    {
     "name": "stdout",
     "output_type": "stream",
     "text": [
      "                   all       1159       2824      0.843      0.789      0.877      0.708\n",
      "\n",
      "      Epoch    GPU_mem   box_loss   cls_loss   dfl_loss  Instances       Size\n"
     ]
    },
    {
     "name": "stderr",
     "output_type": "stream",
     "text": [
      "       2/80         2G      1.095       1.28      1.287         30        640: 100%|██████████| 425/425 [00:37<00:00, 11.32it/s]\n",
      "                 Class     Images  Instances      Box(P          R      mAP50  mAP50-95): 100%|██████████| 37/37 [00:03<00:00, 10.67it/s]"
     ]
    },
    {
     "name": "stdout",
     "output_type": "stream",
     "text": [
      "                   all       1159       2824      0.908      0.775      0.876      0.716\n"
     ]
    },
    {
     "name": "stderr",
     "output_type": "stream",
     "text": [
      "\n"
     ]
    },
    {
     "name": "stdout",
     "output_type": "stream",
     "text": [
      "\n",
      "      Epoch    GPU_mem   box_loss   cls_loss   dfl_loss  Instances       Size\n"
     ]
    },
    {
     "name": "stderr",
     "output_type": "stream",
     "text": [
      "       3/80      2.15G      1.065      1.171      1.276         50        640: 100%|██████████| 425/425 [00:37<00:00, 11.29it/s]\n",
      "                 Class     Images  Instances      Box(P          R      mAP50  mAP50-95): 100%|██████████| 37/37 [00:03<00:00, 10.71it/s]"
     ]
    },
    {
     "name": "stdout",
     "output_type": "stream",
     "text": [
      "                   all       1159       2824       0.91      0.835       0.91      0.747\n"
     ]
    },
    {
     "name": "stderr",
     "output_type": "stream",
     "text": [
      "\n"
     ]
    },
    {
     "name": "stdout",
     "output_type": "stream",
     "text": [
      "\n",
      "      Epoch    GPU_mem   box_loss   cls_loss   dfl_loss  Instances       Size\n"
     ]
    },
    {
     "name": "stderr",
     "output_type": "stream",
     "text": [
      "       4/80      2.01G      1.023      1.104      1.255         36        640: 100%|██████████| 425/425 [00:38<00:00, 11.08it/s]\n",
      "                 Class     Images  Instances      Box(P          R      mAP50  mAP50-95): 100%|██████████| 37/37 [00:03<00:00, 10.41it/s]\n"
     ]
    },
    {
     "name": "stdout",
     "output_type": "stream",
     "text": [
      "                   all       1159       2824      0.909       0.86      0.918       0.78\n",
      "\n",
      "      Epoch    GPU_mem   box_loss   cls_loss   dfl_loss  Instances       Size\n"
     ]
    },
    {
     "name": "stderr",
     "output_type": "stream",
     "text": [
      "       5/80      2.07G     0.9857      1.054       1.23         31        640: 100%|██████████| 425/425 [00:39<00:00, 10.86it/s]\n",
      "                 Class     Images  Instances      Box(P          R      mAP50  mAP50-95): 100%|██████████| 37/37 [00:03<00:00, 10.02it/s]"
     ]
    },
    {
     "name": "stdout",
     "output_type": "stream",
     "text": [
      "                   all       1159       2824      0.914      0.853      0.928      0.784\n"
     ]
    },
    {
     "name": "stderr",
     "output_type": "stream",
     "text": [
      "\n"
     ]
    },
    {
     "name": "stdout",
     "output_type": "stream",
     "text": [
      "\n",
      "      Epoch    GPU_mem   box_loss   cls_loss   dfl_loss  Instances       Size\n"
     ]
    },
    {
     "name": "stderr",
     "output_type": "stream",
     "text": [
      "       6/80       2.1G     0.9614      1.007      1.212         35        640: 100%|██████████| 425/425 [00:36<00:00, 11.73it/s]\n",
      "                 Class     Images  Instances      Box(P          R      mAP50  mAP50-95): 100%|██████████| 37/37 [00:03<00:00, 10.15it/s]"
     ]
    },
    {
     "name": "stdout",
     "output_type": "stream",
     "text": [
      "                   all       1159       2824      0.901       0.89      0.935      0.809\n"
     ]
    },
    {
     "name": "stderr",
     "output_type": "stream",
     "text": [
      "\n"
     ]
    },
    {
     "name": "stdout",
     "output_type": "stream",
     "text": [
      "\n",
      "      Epoch    GPU_mem   box_loss   cls_loss   dfl_loss  Instances       Size\n"
     ]
    },
    {
     "name": "stderr",
     "output_type": "stream",
     "text": [
      "       7/80      2.09G     0.9328     0.9569        1.2         43        640: 100%|██████████| 425/425 [00:37<00:00, 11.26it/s]\n",
      "                 Class     Images  Instances      Box(P          R      mAP50  mAP50-95): 100%|██████████| 37/37 [00:03<00:00, 10.43it/s]"
     ]
    },
    {
     "name": "stdout",
     "output_type": "stream",
     "text": [
      "                   all       1159       2824      0.931      0.878      0.935       0.82\n"
     ]
    },
    {
     "name": "stderr",
     "output_type": "stream",
     "text": [
      "\n"
     ]
    },
    {
     "name": "stdout",
     "output_type": "stream",
     "text": [
      "\n",
      "      Epoch    GPU_mem   box_loss   cls_loss   dfl_loss  Instances       Size\n"
     ]
    },
    {
     "name": "stderr",
     "output_type": "stream",
     "text": [
      "       8/80      2.04G     0.9067     0.9379      1.184         41        640: 100%|██████████| 425/425 [00:37<00:00, 11.42it/s]\n",
      "                 Class     Images  Instances      Box(P          R      mAP50  mAP50-95): 100%|██████████| 37/37 [00:03<00:00, 10.66it/s]"
     ]
    },
    {
     "name": "stdout",
     "output_type": "stream",
     "text": [
      "                   all       1159       2824      0.936      0.885      0.945       0.83\n"
     ]
    },
    {
     "name": "stderr",
     "output_type": "stream",
     "text": [
      "\n"
     ]
    },
    {
     "name": "stdout",
     "output_type": "stream",
     "text": [
      "\n",
      "      Epoch    GPU_mem   box_loss   cls_loss   dfl_loss  Instances       Size\n"
     ]
    },
    {
     "name": "stderr",
     "output_type": "stream",
     "text": [
      "       9/80      2.06G     0.8962     0.9107      1.176         39        640: 100%|██████████| 425/425 [00:38<00:00, 10.94it/s]\n",
      "                 Class     Images  Instances      Box(P          R      mAP50  mAP50-95): 100%|██████████| 37/37 [00:03<00:00, 10.62it/s]"
     ]
    },
    {
     "name": "stdout",
     "output_type": "stream",
     "text": [
      "                   all       1159       2824      0.939      0.901      0.954      0.846\n"
     ]
    },
    {
     "name": "stderr",
     "output_type": "stream",
     "text": [
      "\n"
     ]
    },
    {
     "name": "stdout",
     "output_type": "stream",
     "text": [
      "\n",
      "      Epoch    GPU_mem   box_loss   cls_loss   dfl_loss  Instances       Size\n"
     ]
    },
    {
     "name": "stderr",
     "output_type": "stream",
     "text": [
      "      10/80      2.01G       0.89     0.8947      1.168         35        640: 100%|██████████| 425/425 [00:37<00:00, 11.29it/s]\n",
      "                 Class     Images  Instances      Box(P          R      mAP50  mAP50-95): 100%|██████████| 37/37 [00:03<00:00, 10.60it/s]"
     ]
    },
    {
     "name": "stdout",
     "output_type": "stream",
     "text": [
      "                   all       1159       2824      0.931        0.9      0.957       0.85\n"
     ]
    },
    {
     "name": "stderr",
     "output_type": "stream",
     "text": [
      "\n"
     ]
    },
    {
     "name": "stdout",
     "output_type": "stream",
     "text": [
      "\n",
      "      Epoch    GPU_mem   box_loss   cls_loss   dfl_loss  Instances       Size\n"
     ]
    },
    {
     "name": "stderr",
     "output_type": "stream",
     "text": [
      "      11/80         2G     0.8649     0.8684      1.163         34        640: 100%|██████████| 425/425 [00:40<00:00, 10.61it/s]\n",
      "                 Class     Images  Instances      Box(P          R      mAP50  mAP50-95): 100%|██████████| 37/37 [00:03<00:00, 10.47it/s]"
     ]
    },
    {
     "name": "stdout",
     "output_type": "stream",
     "text": [
      "                   all       1159       2824       0.93       0.92       0.96      0.849\n"
     ]
    },
    {
     "name": "stderr",
     "output_type": "stream",
     "text": [
      "\n"
     ]
    },
    {
     "name": "stdout",
     "output_type": "stream",
     "text": [
      "\n",
      "      Epoch    GPU_mem   box_loss   cls_loss   dfl_loss  Instances       Size\n"
     ]
    },
    {
     "name": "stderr",
     "output_type": "stream",
     "text": [
      "      12/80         2G     0.8683     0.8714      1.167         34        640: 100%|██████████| 425/425 [00:38<00:00, 10.90it/s]\n",
      "                 Class     Images  Instances      Box(P          R      mAP50  mAP50-95): 100%|██████████| 37/37 [00:03<00:00, 10.21it/s]"
     ]
    },
    {
     "name": "stdout",
     "output_type": "stream",
     "text": [
      "                   all       1159       2824       0.94      0.907      0.961      0.854\n"
     ]
    },
    {
     "name": "stderr",
     "output_type": "stream",
     "text": [
      "\n"
     ]
    },
    {
     "name": "stdout",
     "output_type": "stream",
     "text": [
      "\n",
      "      Epoch    GPU_mem   box_loss   cls_loss   dfl_loss  Instances       Size\n"
     ]
    },
    {
     "name": "stderr",
     "output_type": "stream",
     "text": [
      "      13/80         2G     0.8589      0.847      1.152         54        640: 100%|██████████| 425/425 [00:38<00:00, 11.15it/s]\n",
      "                 Class     Images  Instances      Box(P          R      mAP50  mAP50-95): 100%|██████████| 37/37 [00:03<00:00, 10.69it/s]"
     ]
    },
    {
     "name": "stdout",
     "output_type": "stream",
     "text": [
      "                   all       1159       2824      0.948      0.906      0.957      0.854\n"
     ]
    },
    {
     "name": "stderr",
     "output_type": "stream",
     "text": [
      "\n"
     ]
    },
    {
     "name": "stdout",
     "output_type": "stream",
     "text": [
      "\n",
      "      Epoch    GPU_mem   box_loss   cls_loss   dfl_loss  Instances       Size\n"
     ]
    },
    {
     "name": "stderr",
     "output_type": "stream",
     "text": [
      "      14/80      2.03G     0.8446     0.8396      1.151         46        640: 100%|██████████| 425/425 [00:37<00:00, 11.26it/s]\n",
      "                 Class     Images  Instances      Box(P          R      mAP50  mAP50-95): 100%|██████████| 37/37 [00:03<00:00, 10.64it/s]"
     ]
    },
    {
     "name": "stdout",
     "output_type": "stream",
     "text": [
      "                   all       1159       2824      0.938      0.917      0.961      0.864\n"
     ]
    },
    {
     "name": "stderr",
     "output_type": "stream",
     "text": [
      "\n"
     ]
    },
    {
     "name": "stdout",
     "output_type": "stream",
     "text": [
      "\n",
      "      Epoch    GPU_mem   box_loss   cls_loss   dfl_loss  Instances       Size\n"
     ]
    },
    {
     "name": "stderr",
     "output_type": "stream",
     "text": [
      "      15/80      2.02G     0.8352      0.827      1.147         56        640: 100%|██████████| 425/425 [00:38<00:00, 11.16it/s]\n",
      "                 Class     Images  Instances      Box(P          R      mAP50  mAP50-95): 100%|██████████| 37/37 [00:03<00:00, 10.48it/s]"
     ]
    },
    {
     "name": "stdout",
     "output_type": "stream",
     "text": [
      "                   all       1159       2824      0.945      0.917      0.961      0.866\n"
     ]
    },
    {
     "name": "stderr",
     "output_type": "stream",
     "text": [
      "\n"
     ]
    },
    {
     "name": "stdout",
     "output_type": "stream",
     "text": [
      "\n",
      "      Epoch    GPU_mem   box_loss   cls_loss   dfl_loss  Instances       Size\n"
     ]
    },
    {
     "name": "stderr",
     "output_type": "stream",
     "text": [
      "      16/80         2G     0.8237     0.8138      1.143         39        640: 100%|██████████| 425/425 [00:37<00:00, 11.27it/s]\n",
      "                 Class     Images  Instances      Box(P          R      mAP50  mAP50-95): 100%|██████████| 37/37 [00:03<00:00, 10.53it/s]"
     ]
    },
    {
     "name": "stdout",
     "output_type": "stream",
     "text": [
      "                   all       1159       2824      0.949      0.923      0.965      0.869\n"
     ]
    },
    {
     "name": "stderr",
     "output_type": "stream",
     "text": [
      "\n"
     ]
    },
    {
     "name": "stdout",
     "output_type": "stream",
     "text": [
      "\n",
      "      Epoch    GPU_mem   box_loss   cls_loss   dfl_loss  Instances       Size\n"
     ]
    },
    {
     "name": "stderr",
     "output_type": "stream",
     "text": [
      "      17/80         2G     0.8251     0.8002      1.135         37        640: 100%|██████████| 425/425 [00:38<00:00, 11.09it/s]\n",
      "                 Class     Images  Instances      Box(P          R      mAP50  mAP50-95): 100%|██████████| 37/37 [00:03<00:00, 10.68it/s]"
     ]
    },
    {
     "name": "stdout",
     "output_type": "stream",
     "text": [
      "                   all       1159       2824      0.945      0.922      0.966      0.867\n"
     ]
    },
    {
     "name": "stderr",
     "output_type": "stream",
     "text": [
      "\n"
     ]
    },
    {
     "name": "stdout",
     "output_type": "stream",
     "text": [
      "\n",
      "      Epoch    GPU_mem   box_loss   cls_loss   dfl_loss  Instances       Size\n"
     ]
    },
    {
     "name": "stderr",
     "output_type": "stream",
     "text": [
      "      18/80      2.17G     0.8176     0.7927      1.133         45        640: 100%|██████████| 425/425 [00:38<00:00, 11.15it/s]\n",
      "                 Class     Images  Instances      Box(P          R      mAP50  mAP50-95): 100%|██████████| 37/37 [00:03<00:00, 10.46it/s]"
     ]
    },
    {
     "name": "stdout",
     "output_type": "stream",
     "text": [
      "                   all       1159       2824      0.947      0.932       0.97      0.876\n"
     ]
    },
    {
     "name": "stderr",
     "output_type": "stream",
     "text": [
      "\n"
     ]
    },
    {
     "name": "stdout",
     "output_type": "stream",
     "text": [
      "\n",
      "      Epoch    GPU_mem   box_loss   cls_loss   dfl_loss  Instances       Size\n"
     ]
    },
    {
     "name": "stderr",
     "output_type": "stream",
     "text": [
      "      19/80      2.06G     0.8188     0.8035      1.139         37        640: 100%|██████████| 425/425 [00:39<00:00, 10.79it/s]\n",
      "                 Class     Images  Instances      Box(P          R      mAP50  mAP50-95): 100%|██████████| 37/37 [00:03<00:00, 10.66it/s]"
     ]
    },
    {
     "name": "stdout",
     "output_type": "stream",
     "text": [
      "                   all       1159       2824      0.952      0.922      0.969      0.876\n"
     ]
    },
    {
     "name": "stderr",
     "output_type": "stream",
     "text": [
      "\n"
     ]
    },
    {
     "name": "stdout",
     "output_type": "stream",
     "text": [
      "\n",
      "      Epoch    GPU_mem   box_loss   cls_loss   dfl_loss  Instances       Size\n"
     ]
    },
    {
     "name": "stderr",
     "output_type": "stream",
     "text": [
      "      20/80      1.97G     0.8046     0.7757      1.124         26        640: 100%|██████████| 425/425 [00:37<00:00, 11.47it/s]\n",
      "                 Class     Images  Instances      Box(P          R      mAP50  mAP50-95): 100%|██████████| 37/37 [00:03<00:00, 10.70it/s]"
     ]
    },
    {
     "name": "stdout",
     "output_type": "stream",
     "text": [
      "                   all       1159       2824      0.953      0.922      0.972      0.878\n"
     ]
    },
    {
     "name": "stderr",
     "output_type": "stream",
     "text": [
      "\n"
     ]
    },
    {
     "name": "stdout",
     "output_type": "stream",
     "text": [
      "\n",
      "      Epoch    GPU_mem   box_loss   cls_loss   dfl_loss  Instances       Size\n"
     ]
    },
    {
     "name": "stderr",
     "output_type": "stream",
     "text": [
      "      21/80      1.96G     0.8001      0.768      1.127         40        640: 100%|██████████| 425/425 [00:39<00:00, 10.73it/s]\n",
      "                 Class     Images  Instances      Box(P          R      mAP50  mAP50-95): 100%|██████████| 37/37 [00:03<00:00, 10.73it/s]"
     ]
    },
    {
     "name": "stdout",
     "output_type": "stream",
     "text": [
      "                   all       1159       2824      0.964      0.917       0.97      0.871\n"
     ]
    },
    {
     "name": "stderr",
     "output_type": "stream",
     "text": [
      "\n"
     ]
    },
    {
     "name": "stdout",
     "output_type": "stream",
     "text": [
      "\n",
      "      Epoch    GPU_mem   box_loss   cls_loss   dfl_loss  Instances       Size\n"
     ]
    },
    {
     "name": "stderr",
     "output_type": "stream",
     "text": [
      "      22/80      2.03G     0.8009     0.7732      1.127         45        640: 100%|██████████| 425/425 [00:37<00:00, 11.39it/s]\n",
      "                 Class     Images  Instances      Box(P          R      mAP50  mAP50-95): 100%|██████████| 37/37 [00:03<00:00, 10.63it/s]"
     ]
    },
    {
     "name": "stdout",
     "output_type": "stream",
     "text": [
      "                   all       1159       2824      0.949      0.936      0.973      0.879\n"
     ]
    },
    {
     "name": "stderr",
     "output_type": "stream",
     "text": [
      "\n"
     ]
    },
    {
     "name": "stdout",
     "output_type": "stream",
     "text": [
      "\n",
      "      Epoch    GPU_mem   box_loss   cls_loss   dfl_loss  Instances       Size\n"
     ]
    },
    {
     "name": "stderr",
     "output_type": "stream",
     "text": [
      "      23/80      2.01G     0.7945     0.7584      1.118         34        640: 100%|██████████| 425/425 [00:38<00:00, 10.92it/s]\n",
      "                 Class     Images  Instances      Box(P          R      mAP50  mAP50-95): 100%|██████████| 37/37 [00:03<00:00, 10.77it/s]"
     ]
    },
    {
     "name": "stdout",
     "output_type": "stream",
     "text": [
      "                   all       1159       2824      0.957      0.933      0.972      0.885\n"
     ]
    },
    {
     "name": "stderr",
     "output_type": "stream",
     "text": [
      "\n"
     ]
    },
    {
     "name": "stdout",
     "output_type": "stream",
     "text": [
      "\n",
      "      Epoch    GPU_mem   box_loss   cls_loss   dfl_loss  Instances       Size\n"
     ]
    },
    {
     "name": "stderr",
     "output_type": "stream",
     "text": [
      "      24/80      2.07G     0.7815     0.7481      1.118         31        640: 100%|██████████| 425/425 [00:36<00:00, 11.67it/s]\n",
      "                 Class     Images  Instances      Box(P          R      mAP50  mAP50-95): 100%|██████████| 37/37 [00:03<00:00, 10.09it/s]\n"
     ]
    },
    {
     "name": "stdout",
     "output_type": "stream",
     "text": [
      "                   all       1159       2824      0.956      0.931      0.977      0.887\n",
      "\n",
      "      Epoch    GPU_mem   box_loss   cls_loss   dfl_loss  Instances       Size\n"
     ]
    },
    {
     "name": "stderr",
     "output_type": "stream",
     "text": [
      "      25/80      2.06G     0.7749     0.7429      1.112         39        640: 100%|██████████| 425/425 [00:38<00:00, 11.07it/s]\n",
      "                 Class     Images  Instances      Box(P          R      mAP50  mAP50-95): 100%|██████████| 37/37 [00:03<00:00, 10.61it/s]"
     ]
    },
    {
     "name": "stdout",
     "output_type": "stream",
     "text": [
      "                   all       1159       2824      0.959      0.924      0.974      0.887\n"
     ]
    },
    {
     "name": "stderr",
     "output_type": "stream",
     "text": [
      "\n"
     ]
    },
    {
     "name": "stdout",
     "output_type": "stream",
     "text": [
      "\n",
      "      Epoch    GPU_mem   box_loss   cls_loss   dfl_loss  Instances       Size\n"
     ]
    },
    {
     "name": "stderr",
     "output_type": "stream",
     "text": [
      "      26/80      2.01G     0.7765     0.7365      1.111         22        640: 100%|██████████| 425/425 [00:38<00:00, 10.94it/s]\n",
      "                 Class     Images  Instances      Box(P          R      mAP50  mAP50-95): 100%|██████████| 37/37 [00:03<00:00, 10.81it/s]"
     ]
    },
    {
     "name": "stdout",
     "output_type": "stream",
     "text": [
      "                   all       1159       2824      0.967       0.93      0.976      0.889\n"
     ]
    },
    {
     "name": "stderr",
     "output_type": "stream",
     "text": [
      "\n"
     ]
    },
    {
     "name": "stdout",
     "output_type": "stream",
     "text": [
      "\n",
      "      Epoch    GPU_mem   box_loss   cls_loss   dfl_loss  Instances       Size\n"
     ]
    },
    {
     "name": "stderr",
     "output_type": "stream",
     "text": [
      "      27/80      1.99G     0.7781     0.7337      1.116         40        640: 100%|██████████| 425/425 [00:37<00:00, 11.26it/s]\n",
      "                 Class     Images  Instances      Box(P          R      mAP50  mAP50-95): 100%|██████████| 37/37 [00:03<00:00, 10.58it/s]"
     ]
    },
    {
     "name": "stdout",
     "output_type": "stream",
     "text": [
      "                   all       1159       2824      0.965      0.936      0.977      0.891\n"
     ]
    },
    {
     "name": "stderr",
     "output_type": "stream",
     "text": [
      "\n"
     ]
    },
    {
     "name": "stdout",
     "output_type": "stream",
     "text": [
      "\n",
      "      Epoch    GPU_mem   box_loss   cls_loss   dfl_loss  Instances       Size\n"
     ]
    },
    {
     "name": "stderr",
     "output_type": "stream",
     "text": [
      "      28/80      2.07G     0.7712     0.7292      1.109         23        640: 100%|██████████| 425/425 [00:39<00:00, 10.63it/s]\n",
      "                 Class     Images  Instances      Box(P          R      mAP50  mAP50-95): 100%|██████████| 37/37 [00:03<00:00, 10.49it/s]"
     ]
    },
    {
     "name": "stdout",
     "output_type": "stream",
     "text": [
      "                   all       1159       2824      0.963      0.926      0.976      0.888\n"
     ]
    },
    {
     "name": "stderr",
     "output_type": "stream",
     "text": [
      "\n"
     ]
    },
    {
     "name": "stdout",
     "output_type": "stream",
     "text": [
      "\n",
      "      Epoch    GPU_mem   box_loss   cls_loss   dfl_loss  Instances       Size\n"
     ]
    },
    {
     "name": "stderr",
     "output_type": "stream",
     "text": [
      "      29/80      2.08G     0.7827      0.736      1.119         44        640: 100%|██████████| 425/425 [00:38<00:00, 10.97it/s]\n",
      "                 Class     Images  Instances      Box(P          R      mAP50  mAP50-95): 100%|██████████| 37/37 [00:03<00:00,  9.79it/s]"
     ]
    },
    {
     "name": "stdout",
     "output_type": "stream",
     "text": [
      "                   all       1159       2824      0.965      0.937      0.977      0.892\n"
     ]
    },
    {
     "name": "stderr",
     "output_type": "stream",
     "text": [
      "\n"
     ]
    },
    {
     "name": "stdout",
     "output_type": "stream",
     "text": [
      "\n",
      "      Epoch    GPU_mem   box_loss   cls_loss   dfl_loss  Instances       Size\n"
     ]
    },
    {
     "name": "stderr",
     "output_type": "stream",
     "text": [
      "      30/80      2.04G     0.7564     0.7121      1.101         29        640: 100%|██████████| 425/425 [00:38<00:00, 10.93it/s]\n",
      "                 Class     Images  Instances      Box(P          R      mAP50  mAP50-95): 100%|██████████| 37/37 [00:03<00:00, 10.70it/s]"
     ]
    },
    {
     "name": "stdout",
     "output_type": "stream",
     "text": [
      "                   all       1159       2824      0.959      0.945       0.98      0.895\n"
     ]
    },
    {
     "name": "stderr",
     "output_type": "stream",
     "text": [
      "\n"
     ]
    },
    {
     "name": "stdout",
     "output_type": "stream",
     "text": [
      "\n",
      "      Epoch    GPU_mem   box_loss   cls_loss   dfl_loss  Instances       Size\n"
     ]
    },
    {
     "name": "stderr",
     "output_type": "stream",
     "text": [
      "      31/80      2.07G     0.7547     0.7099      1.099         50        640: 100%|██████████| 425/425 [00:36<00:00, 11.51it/s]\n",
      "                 Class     Images  Instances      Box(P          R      mAP50  mAP50-95): 100%|██████████| 37/37 [00:03<00:00, 10.29it/s]"
     ]
    },
    {
     "name": "stdout",
     "output_type": "stream",
     "text": [
      "                   all       1159       2824      0.958      0.945      0.979      0.892\n"
     ]
    },
    {
     "name": "stderr",
     "output_type": "stream",
     "text": [
      "\n"
     ]
    },
    {
     "name": "stdout",
     "output_type": "stream",
     "text": [
      "\n",
      "      Epoch    GPU_mem   box_loss   cls_loss   dfl_loss  Instances       Size\n"
     ]
    },
    {
     "name": "stderr",
     "output_type": "stream",
     "text": [
      "      32/80      2.02G     0.7586     0.6965      1.098         25        640: 100%|██████████| 425/425 [00:38<00:00, 10.92it/s]\n",
      "                 Class     Images  Instances      Box(P          R      mAP50  mAP50-95): 100%|██████████| 37/37 [00:03<00:00, 10.61it/s]"
     ]
    },
    {
     "name": "stdout",
     "output_type": "stream",
     "text": [
      "                   all       1159       2824      0.966      0.937      0.977      0.892\n"
     ]
    },
    {
     "name": "stderr",
     "output_type": "stream",
     "text": [
      "\n"
     ]
    },
    {
     "name": "stdout",
     "output_type": "stream",
     "text": [
      "\n",
      "      Epoch    GPU_mem   box_loss   cls_loss   dfl_loss  Instances       Size\n"
     ]
    },
    {
     "name": "stderr",
     "output_type": "stream",
     "text": [
      "      33/80      1.96G     0.7545     0.6956      1.101         32        640: 100%|██████████| 425/425 [00:38<00:00, 10.99it/s]\n",
      "                 Class     Images  Instances      Box(P          R      mAP50  mAP50-95): 100%|██████████| 37/37 [00:03<00:00, 10.73it/s]"
     ]
    },
    {
     "name": "stdout",
     "output_type": "stream",
     "text": [
      "                   all       1159       2824      0.968      0.943      0.979      0.894\n"
     ]
    },
    {
     "name": "stderr",
     "output_type": "stream",
     "text": [
      "\n"
     ]
    },
    {
     "name": "stdout",
     "output_type": "stream",
     "text": [
      "\n",
      "      Epoch    GPU_mem   box_loss   cls_loss   dfl_loss  Instances       Size\n"
     ]
    },
    {
     "name": "stderr",
     "output_type": "stream",
     "text": [
      "      34/80      2.04G     0.7384     0.6671      1.088         39        640: 100%|██████████| 425/425 [00:37<00:00, 11.24it/s]\n",
      "                 Class     Images  Instances      Box(P          R      mAP50  mAP50-95): 100%|██████████| 37/37 [00:03<00:00, 10.73it/s]"
     ]
    },
    {
     "name": "stdout",
     "output_type": "stream",
     "text": [
      "                   all       1159       2824      0.973      0.942      0.982      0.897\n"
     ]
    },
    {
     "name": "stderr",
     "output_type": "stream",
     "text": [
      "\n"
     ]
    },
    {
     "name": "stdout",
     "output_type": "stream",
     "text": [
      "\n",
      "      Epoch    GPU_mem   box_loss   cls_loss   dfl_loss  Instances       Size\n"
     ]
    },
    {
     "name": "stderr",
     "output_type": "stream",
     "text": [
      "      35/80      2.03G     0.7613     0.7046      1.106         31        640: 100%|██████████| 425/425 [00:38<00:00, 11.14it/s]\n",
      "                 Class     Images  Instances      Box(P          R      mAP50  mAP50-95): 100%|██████████| 37/37 [00:03<00:00, 10.76it/s]"
     ]
    },
    {
     "name": "stdout",
     "output_type": "stream",
     "text": [
      "                   all       1159       2824      0.972      0.938       0.98      0.898\n"
     ]
    },
    {
     "name": "stderr",
     "output_type": "stream",
     "text": [
      "\n"
     ]
    },
    {
     "name": "stdout",
     "output_type": "stream",
     "text": [
      "\n",
      "      Epoch    GPU_mem   box_loss   cls_loss   dfl_loss  Instances       Size\n"
     ]
    },
    {
     "name": "stderr",
     "output_type": "stream",
     "text": [
      "      36/80      1.97G     0.7358     0.6793      1.087         49        640: 100%|██████████| 425/425 [00:39<00:00, 10.85it/s]\n",
      "                 Class     Images  Instances      Box(P          R      mAP50  mAP50-95): 100%|██████████| 37/37 [00:03<00:00, 10.54it/s]"
     ]
    },
    {
     "name": "stdout",
     "output_type": "stream",
     "text": [
      "                   all       1159       2824      0.976      0.938      0.982        0.9\n"
     ]
    },
    {
     "name": "stderr",
     "output_type": "stream",
     "text": [
      "\n"
     ]
    },
    {
     "name": "stdout",
     "output_type": "stream",
     "text": [
      "\n",
      "      Epoch    GPU_mem   box_loss   cls_loss   dfl_loss  Instances       Size\n"
     ]
    },
    {
     "name": "stderr",
     "output_type": "stream",
     "text": [
      "      37/80      1.97G     0.7426     0.6789      1.092         39        640: 100%|██████████| 425/425 [00:38<00:00, 10.94it/s]\n",
      "                 Class     Images  Instances      Box(P          R      mAP50  mAP50-95): 100%|██████████| 37/37 [00:03<00:00, 10.68it/s]"
     ]
    },
    {
     "name": "stdout",
     "output_type": "stream",
     "text": [
      "                   all       1159       2824      0.967      0.945      0.981      0.898\n"
     ]
    },
    {
     "name": "stderr",
     "output_type": "stream",
     "text": [
      "\n"
     ]
    },
    {
     "name": "stdout",
     "output_type": "stream",
     "text": [
      "\n",
      "      Epoch    GPU_mem   box_loss   cls_loss   dfl_loss  Instances       Size\n"
     ]
    },
    {
     "name": "stderr",
     "output_type": "stream",
     "text": [
      "      38/80         2G     0.7271     0.6614      1.083         35        640: 100%|██████████| 425/425 [00:37<00:00, 11.48it/s]\n",
      "                 Class     Images  Instances      Box(P          R      mAP50  mAP50-95): 100%|██████████| 37/37 [00:03<00:00,  9.34it/s]"
     ]
    },
    {
     "name": "stdout",
     "output_type": "stream",
     "text": [
      "                   all       1159       2824      0.968       0.94      0.981        0.9\n"
     ]
    },
    {
     "name": "stderr",
     "output_type": "stream",
     "text": [
      "\n"
     ]
    },
    {
     "name": "stdout",
     "output_type": "stream",
     "text": [
      "\n",
      "      Epoch    GPU_mem   box_loss   cls_loss   dfl_loss  Instances       Size\n"
     ]
    },
    {
     "name": "stderr",
     "output_type": "stream",
     "text": [
      "      39/80         2G     0.7428     0.6738      1.092         42        640: 100%|██████████| 425/425 [00:38<00:00, 10.93it/s]\n",
      "                 Class     Images  Instances      Box(P          R      mAP50  mAP50-95): 100%|██████████| 37/37 [00:03<00:00, 10.57it/s]"
     ]
    },
    {
     "name": "stdout",
     "output_type": "stream",
     "text": [
      "                   all       1159       2824      0.967      0.948      0.981      0.901\n"
     ]
    },
    {
     "name": "stderr",
     "output_type": "stream",
     "text": [
      "\n"
     ]
    },
    {
     "name": "stdout",
     "output_type": "stream",
     "text": [
      "\n",
      "      Epoch    GPU_mem   box_loss   cls_loss   dfl_loss  Instances       Size\n"
     ]
    },
    {
     "name": "stderr",
     "output_type": "stream",
     "text": [
      "      40/80      2.01G     0.7305     0.6688       1.09         36        640: 100%|██████████| 425/425 [00:38<00:00, 11.12it/s]\n",
      "                 Class     Images  Instances      Box(P          R      mAP50  mAP50-95): 100%|██████████| 37/37 [00:03<00:00, 10.52it/s]"
     ]
    },
    {
     "name": "stdout",
     "output_type": "stream",
     "text": [
      "                   all       1159       2824      0.972      0.944      0.981      0.901\n"
     ]
    },
    {
     "name": "stderr",
     "output_type": "stream",
     "text": [
      "\n"
     ]
    },
    {
     "name": "stdout",
     "output_type": "stream",
     "text": [
      "\n",
      "      Epoch    GPU_mem   box_loss   cls_loss   dfl_loss  Instances       Size\n"
     ]
    },
    {
     "name": "stderr",
     "output_type": "stream",
     "text": [
      "      41/80         2G     0.7233     0.6592      1.087         25        640: 100%|██████████| 425/425 [00:40<00:00, 10.50it/s]\n",
      "                 Class     Images  Instances      Box(P          R      mAP50  mAP50-95): 100%|██████████| 37/37 [00:03<00:00, 10.60it/s]"
     ]
    },
    {
     "name": "stdout",
     "output_type": "stream",
     "text": [
      "                   all       1159       2824      0.969      0.949      0.983      0.902\n"
     ]
    },
    {
     "name": "stderr",
     "output_type": "stream",
     "text": [
      "\n"
     ]
    },
    {
     "name": "stdout",
     "output_type": "stream",
     "text": [
      "\n",
      "      Epoch    GPU_mem   box_loss   cls_loss   dfl_loss  Instances       Size\n"
     ]
    },
    {
     "name": "stderr",
     "output_type": "stream",
     "text": [
      "      42/80      2.04G     0.7138     0.6477      1.077         38        640: 100%|██████████| 425/425 [00:38<00:00, 10.92it/s]\n",
      "                 Class     Images  Instances      Box(P          R      mAP50  mAP50-95): 100%|██████████| 37/37 [00:03<00:00,  9.87it/s]"
     ]
    },
    {
     "name": "stdout",
     "output_type": "stream",
     "text": [
      "                   all       1159       2824      0.972      0.951      0.982      0.902\n"
     ]
    },
    {
     "name": "stderr",
     "output_type": "stream",
     "text": [
      "\n"
     ]
    },
    {
     "name": "stdout",
     "output_type": "stream",
     "text": [
      "\n",
      "      Epoch    GPU_mem   box_loss   cls_loss   dfl_loss  Instances       Size\n"
     ]
    },
    {
     "name": "stderr",
     "output_type": "stream",
     "text": [
      "      43/80      2.02G       0.73     0.6578      1.086         30        640: 100%|██████████| 425/425 [00:36<00:00, 11.64it/s]\n",
      "                 Class     Images  Instances      Box(P          R      mAP50  mAP50-95): 100%|██████████| 37/37 [00:03<00:00, 10.77it/s]"
     ]
    },
    {
     "name": "stdout",
     "output_type": "stream",
     "text": [
      "                   all       1159       2824      0.968      0.947       0.98      0.902\n"
     ]
    },
    {
     "name": "stderr",
     "output_type": "stream",
     "text": [
      "\n"
     ]
    },
    {
     "name": "stdout",
     "output_type": "stream",
     "text": [
      "\n",
      "      Epoch    GPU_mem   box_loss   cls_loss   dfl_loss  Instances       Size\n"
     ]
    },
    {
     "name": "stderr",
     "output_type": "stream",
     "text": [
      "      44/80      1.98G     0.7249     0.6519      1.086         41        640: 100%|██████████| 425/425 [00:38<00:00, 11.12it/s]\n",
      "                 Class     Images  Instances      Box(P          R      mAP50  mAP50-95): 100%|██████████| 37/37 [00:03<00:00, 10.46it/s]"
     ]
    },
    {
     "name": "stdout",
     "output_type": "stream",
     "text": [
      "                   all       1159       2824       0.97       0.95      0.983      0.904\n"
     ]
    },
    {
     "name": "stderr",
     "output_type": "stream",
     "text": [
      "\n"
     ]
    },
    {
     "name": "stdout",
     "output_type": "stream",
     "text": [
      "\n",
      "      Epoch    GPU_mem   box_loss   cls_loss   dfl_loss  Instances       Size\n"
     ]
    },
    {
     "name": "stderr",
     "output_type": "stream",
     "text": [
      "      45/80      1.97G     0.7231     0.6386      1.081         31        640: 100%|██████████| 425/425 [00:38<00:00, 11.13it/s]\n",
      "                 Class     Images  Instances      Box(P          R      mAP50  mAP50-95): 100%|██████████| 37/37 [00:03<00:00, 10.78it/s]"
     ]
    },
    {
     "name": "stdout",
     "output_type": "stream",
     "text": [
      "                   all       1159       2824      0.973      0.939      0.981      0.904\n"
     ]
    },
    {
     "name": "stderr",
     "output_type": "stream",
     "text": [
      "\n"
     ]
    },
    {
     "name": "stdout",
     "output_type": "stream",
     "text": [
      "\n",
      "      Epoch    GPU_mem   box_loss   cls_loss   dfl_loss  Instances       Size\n"
     ]
    },
    {
     "name": "stderr",
     "output_type": "stream",
     "text": [
      "      46/80      2.08G      0.712     0.6294      1.073         26        640: 100%|██████████| 425/425 [00:38<00:00, 11.14it/s]\n",
      "                 Class     Images  Instances      Box(P          R      mAP50  mAP50-95): 100%|██████████| 37/37 [00:03<00:00, 10.73it/s]"
     ]
    },
    {
     "name": "stdout",
     "output_type": "stream",
     "text": [
      "                   all       1159       2824      0.972      0.947      0.983      0.905\n"
     ]
    },
    {
     "name": "stderr",
     "output_type": "stream",
     "text": [
      "\n"
     ]
    },
    {
     "name": "stdout",
     "output_type": "stream",
     "text": [
      "\n",
      "      Epoch    GPU_mem   box_loss   cls_loss   dfl_loss  Instances       Size\n"
     ]
    },
    {
     "name": "stderr",
     "output_type": "stream",
     "text": [
      "      47/80      1.97G     0.7066     0.6324      1.075         32        640: 100%|██████████| 425/425 [00:39<00:00, 10.78it/s]\n",
      "                 Class     Images  Instances      Box(P          R      mAP50  mAP50-95): 100%|██████████| 37/37 [00:03<00:00,  9.71it/s]"
     ]
    },
    {
     "name": "stdout",
     "output_type": "stream",
     "text": [
      "                   all       1159       2824      0.972      0.945      0.982      0.905\n"
     ]
    },
    {
     "name": "stderr",
     "output_type": "stream",
     "text": [
      "\n"
     ]
    },
    {
     "name": "stdout",
     "output_type": "stream",
     "text": [
      "\n",
      "      Epoch    GPU_mem   box_loss   cls_loss   dfl_loss  Instances       Size\n"
     ]
    },
    {
     "name": "stderr",
     "output_type": "stream",
     "text": [
      "      48/80      2.01G     0.7072     0.6224       1.07         30        640: 100%|██████████| 425/425 [00:38<00:00, 11.05it/s]\n",
      "                 Class     Images  Instances      Box(P          R      mAP50  mAP50-95): 100%|██████████| 37/37 [00:03<00:00, 10.34it/s]"
     ]
    },
    {
     "name": "stdout",
     "output_type": "stream",
     "text": [
      "                   all       1159       2824      0.971      0.951      0.985      0.907\n"
     ]
    },
    {
     "name": "stderr",
     "output_type": "stream",
     "text": [
      "\n"
     ]
    },
    {
     "name": "stdout",
     "output_type": "stream",
     "text": [
      "\n",
      "      Epoch    GPU_mem   box_loss   cls_loss   dfl_loss  Instances       Size\n"
     ]
    },
    {
     "name": "stderr",
     "output_type": "stream",
     "text": [
      "      49/80      2.04G     0.7022     0.6204      1.069         41        640: 100%|██████████| 425/425 [00:39<00:00, 10.81it/s]\n",
      "                 Class     Images  Instances      Box(P          R      mAP50  mAP50-95): 100%|██████████| 37/37 [00:03<00:00, 10.58it/s]"
     ]
    },
    {
     "name": "stdout",
     "output_type": "stream",
     "text": [
      "                   all       1159       2824      0.969      0.957      0.984      0.909\n"
     ]
    },
    {
     "name": "stderr",
     "output_type": "stream",
     "text": [
      "\n"
     ]
    },
    {
     "name": "stdout",
     "output_type": "stream",
     "text": [
      "\n",
      "      Epoch    GPU_mem   box_loss   cls_loss   dfl_loss  Instances       Size\n"
     ]
    },
    {
     "name": "stderr",
     "output_type": "stream",
     "text": [
      "      50/80      1.95G     0.6835     0.6091      1.058         50        640: 100%|██████████| 425/425 [00:38<00:00, 10.93it/s]\n",
      "                 Class     Images  Instances      Box(P          R      mAP50  mAP50-95): 100%|██████████| 37/37 [00:03<00:00, 10.27it/s]"
     ]
    },
    {
     "name": "stdout",
     "output_type": "stream",
     "text": [
      "                   all       1159       2824      0.965      0.955      0.985      0.908\n"
     ]
    },
    {
     "name": "stderr",
     "output_type": "stream",
     "text": [
      "\n"
     ]
    },
    {
     "name": "stdout",
     "output_type": "stream",
     "text": [
      "\n",
      "      Epoch    GPU_mem   box_loss   cls_loss   dfl_loss  Instances       Size\n"
     ]
    },
    {
     "name": "stderr",
     "output_type": "stream",
     "text": [
      "      51/80      1.97G     0.6899     0.6082      1.065         26        640: 100%|██████████| 425/425 [00:35<00:00, 12.03it/s]\n",
      "                 Class     Images  Instances      Box(P          R      mAP50  mAP50-95): 100%|██████████| 37/37 [00:03<00:00, 10.55it/s]"
     ]
    },
    {
     "name": "stdout",
     "output_type": "stream",
     "text": [
      "                   all       1159       2824       0.97      0.955      0.981      0.907\n"
     ]
    },
    {
     "name": "stderr",
     "output_type": "stream",
     "text": [
      "\n"
     ]
    },
    {
     "name": "stdout",
     "output_type": "stream",
     "text": [
      "\n",
      "      Epoch    GPU_mem   box_loss   cls_loss   dfl_loss  Instances       Size\n"
     ]
    },
    {
     "name": "stderr",
     "output_type": "stream",
     "text": [
      "      52/80         2G     0.6788     0.5982      1.057         35        640: 100%|██████████| 425/425 [00:38<00:00, 11.17it/s]\n",
      "                 Class     Images  Instances      Box(P          R      mAP50  mAP50-95): 100%|██████████| 37/37 [00:03<00:00, 10.75it/s]"
     ]
    },
    {
     "name": "stdout",
     "output_type": "stream",
     "text": [
      "                   all       1159       2824      0.975      0.952      0.984      0.908\n"
     ]
    },
    {
     "name": "stderr",
     "output_type": "stream",
     "text": [
      "\n"
     ]
    },
    {
     "name": "stdout",
     "output_type": "stream",
     "text": [
      "\n",
      "      Epoch    GPU_mem   box_loss   cls_loss   dfl_loss  Instances       Size\n"
     ]
    },
    {
     "name": "stderr",
     "output_type": "stream",
     "text": [
      "      53/80      2.03G     0.6821     0.5964      1.056         40        640: 100%|██████████| 425/425 [00:37<00:00, 11.22it/s]\n",
      "                 Class     Images  Instances      Box(P          R      mAP50  mAP50-95): 100%|██████████| 37/37 [00:03<00:00, 10.45it/s]"
     ]
    },
    {
     "name": "stdout",
     "output_type": "stream",
     "text": [
      "                   all       1159       2824      0.969      0.955      0.983      0.909\n"
     ]
    },
    {
     "name": "stderr",
     "output_type": "stream",
     "text": [
      "\n"
     ]
    },
    {
     "name": "stdout",
     "output_type": "stream",
     "text": [
      "\n",
      "      Epoch    GPU_mem   box_loss   cls_loss   dfl_loss  Instances       Size\n"
     ]
    },
    {
     "name": "stderr",
     "output_type": "stream",
     "text": [
      "      54/80      1.96G      0.691     0.6011      1.062         26        640: 100%|██████████| 425/425 [00:38<00:00, 11.00it/s]\n",
      "                 Class     Images  Instances      Box(P          R      mAP50  mAP50-95): 100%|██████████| 37/37 [00:03<00:00,  9.61it/s]"
     ]
    },
    {
     "name": "stdout",
     "output_type": "stream",
     "text": [
      "                   all       1159       2824      0.975      0.956      0.985       0.91\n"
     ]
    },
    {
     "name": "stderr",
     "output_type": "stream",
     "text": [
      "\n"
     ]
    },
    {
     "name": "stdout",
     "output_type": "stream",
     "text": [
      "\n",
      "      Epoch    GPU_mem   box_loss   cls_loss   dfl_loss  Instances       Size\n"
     ]
    },
    {
     "name": "stderr",
     "output_type": "stream",
     "text": [
      "      55/80      2.05G     0.6804     0.5931      1.057         28        640: 100%|██████████| 425/425 [00:36<00:00, 11.75it/s]\n",
      "                 Class     Images  Instances      Box(P          R      mAP50  mAP50-95): 100%|██████████| 37/37 [00:03<00:00, 10.83it/s]"
     ]
    },
    {
     "name": "stdout",
     "output_type": "stream",
     "text": [
      "                   all       1159       2824      0.973      0.953      0.983       0.91\n"
     ]
    },
    {
     "name": "stderr",
     "output_type": "stream",
     "text": [
      "\n"
     ]
    },
    {
     "name": "stdout",
     "output_type": "stream",
     "text": [
      "\n",
      "      Epoch    GPU_mem   box_loss   cls_loss   dfl_loss  Instances       Size\n"
     ]
    },
    {
     "name": "stderr",
     "output_type": "stream",
     "text": [
      "      56/80      2.01G     0.6834     0.5951      1.059         32        640: 100%|██████████| 425/425 [00:37<00:00, 11.31it/s]\n",
      "                 Class     Images  Instances      Box(P          R      mAP50  mAP50-95): 100%|██████████| 37/37 [00:03<00:00, 10.74it/s]"
     ]
    },
    {
     "name": "stdout",
     "output_type": "stream",
     "text": [
      "                   all       1159       2824      0.971      0.958      0.986      0.911\n"
     ]
    },
    {
     "name": "stderr",
     "output_type": "stream",
     "text": [
      "\n"
     ]
    },
    {
     "name": "stdout",
     "output_type": "stream",
     "text": [
      "\n",
      "      Epoch    GPU_mem   box_loss   cls_loss   dfl_loss  Instances       Size\n"
     ]
    },
    {
     "name": "stderr",
     "output_type": "stream",
     "text": [
      "      57/80      2.02G     0.6917     0.5989      1.063         25        640: 100%|██████████| 425/425 [00:37<00:00, 11.38it/s]\n",
      "                 Class     Images  Instances      Box(P          R      mAP50  mAP50-95): 100%|██████████| 37/37 [00:03<00:00, 10.95it/s]"
     ]
    },
    {
     "name": "stdout",
     "output_type": "stream",
     "text": [
      "                   all       1159       2824      0.975      0.953      0.984       0.91\n"
     ]
    },
    {
     "name": "stderr",
     "output_type": "stream",
     "text": [
      "\n"
     ]
    },
    {
     "name": "stdout",
     "output_type": "stream",
     "text": [
      "\n",
      "      Epoch    GPU_mem   box_loss   cls_loss   dfl_loss  Instances       Size\n"
     ]
    },
    {
     "name": "stderr",
     "output_type": "stream",
     "text": [
      "      58/80      1.98G     0.6846       0.59      1.059         35        640: 100%|██████████| 425/425 [00:36<00:00, 11.50it/s]\n",
      "                 Class     Images  Instances      Box(P          R      mAP50  mAP50-95): 100%|██████████| 37/37 [00:03<00:00, 10.45it/s]"
     ]
    },
    {
     "name": "stdout",
     "output_type": "stream",
     "text": [
      "                   all       1159       2824      0.971      0.956      0.986      0.913\n"
     ]
    },
    {
     "name": "stderr",
     "output_type": "stream",
     "text": [
      "\n"
     ]
    },
    {
     "name": "stdout",
     "output_type": "stream",
     "text": [
      "\n",
      "      Epoch    GPU_mem   box_loss   cls_loss   dfl_loss  Instances       Size\n"
     ]
    },
    {
     "name": "stderr",
     "output_type": "stream",
     "text": [
      "      59/80      2.01G     0.6712     0.5776      1.051         29        640: 100%|██████████| 425/425 [00:39<00:00, 10.70it/s]\n",
      "                 Class     Images  Instances      Box(P          R      mAP50  mAP50-95): 100%|██████████| 37/37 [00:03<00:00, 10.44it/s]"
     ]
    },
    {
     "name": "stdout",
     "output_type": "stream",
     "text": [
      "                   all       1159       2824      0.974      0.953      0.985      0.915\n"
     ]
    },
    {
     "name": "stderr",
     "output_type": "stream",
     "text": [
      "\n"
     ]
    },
    {
     "name": "stdout",
     "output_type": "stream",
     "text": [
      "\n",
      "      Epoch    GPU_mem   box_loss   cls_loss   dfl_loss  Instances       Size\n"
     ]
    },
    {
     "name": "stderr",
     "output_type": "stream",
     "text": [
      "      60/80      1.97G     0.6643     0.5749       1.05         35        640: 100%|██████████| 425/425 [00:39<00:00, 10.84it/s]\n",
      "                 Class     Images  Instances      Box(P          R      mAP50  mAP50-95): 100%|██████████| 37/37 [00:03<00:00, 10.82it/s]"
     ]
    },
    {
     "name": "stdout",
     "output_type": "stream",
     "text": [
      "                   all       1159       2824      0.976      0.949      0.984      0.912\n"
     ]
    },
    {
     "name": "stderr",
     "output_type": "stream",
     "text": [
      "\n"
     ]
    },
    {
     "name": "stdout",
     "output_type": "stream",
     "text": [
      "\n",
      "      Epoch    GPU_mem   box_loss   cls_loss   dfl_loss  Instances       Size\n"
     ]
    },
    {
     "name": "stderr",
     "output_type": "stream",
     "text": [
      "      61/80         2G      0.671     0.5734      1.051         36        640: 100%|██████████| 425/425 [00:39<00:00, 10.76it/s]\n",
      "                 Class     Images  Instances      Box(P          R      mAP50  mAP50-95): 100%|██████████| 37/37 [00:03<00:00, 10.77it/s]"
     ]
    },
    {
     "name": "stdout",
     "output_type": "stream",
     "text": [
      "                   all       1159       2824      0.974      0.956      0.985      0.913\n"
     ]
    },
    {
     "name": "stderr",
     "output_type": "stream",
     "text": [
      "\n"
     ]
    },
    {
     "name": "stdout",
     "output_type": "stream",
     "text": [
      "\n",
      "      Epoch    GPU_mem   box_loss   cls_loss   dfl_loss  Instances       Size\n"
     ]
    },
    {
     "name": "stderr",
     "output_type": "stream",
     "text": [
      "      62/80      2.08G     0.6716     0.5717      1.051         33        640: 100%|██████████| 425/425 [00:38<00:00, 11.08it/s]\n",
      "                 Class     Images  Instances      Box(P          R      mAP50  mAP50-95): 100%|██████████| 37/37 [00:03<00:00, 10.94it/s]"
     ]
    },
    {
     "name": "stdout",
     "output_type": "stream",
     "text": [
      "                   all       1159       2824      0.973      0.951      0.983      0.913\n"
     ]
    },
    {
     "name": "stderr",
     "output_type": "stream",
     "text": [
      "\n"
     ]
    },
    {
     "name": "stdout",
     "output_type": "stream",
     "text": [
      "\n",
      "      Epoch    GPU_mem   box_loss   cls_loss   dfl_loss  Instances       Size\n"
     ]
    },
    {
     "name": "stderr",
     "output_type": "stream",
     "text": [
      "      63/80      2.13G     0.6777     0.5766      1.051         41        640: 100%|██████████| 425/425 [00:38<00:00, 11.16it/s]\n",
      "                 Class     Images  Instances      Box(P          R      mAP50  mAP50-95): 100%|██████████| 37/37 [00:03<00:00, 10.31it/s]"
     ]
    },
    {
     "name": "stdout",
     "output_type": "stream",
     "text": [
      "                   all       1159       2824      0.973      0.953      0.983      0.913\n"
     ]
    },
    {
     "name": "stderr",
     "output_type": "stream",
     "text": [
      "\n"
     ]
    },
    {
     "name": "stdout",
     "output_type": "stream",
     "text": [
      "\n",
      "      Epoch    GPU_mem   box_loss   cls_loss   dfl_loss  Instances       Size\n"
     ]
    },
    {
     "name": "stderr",
     "output_type": "stream",
     "text": [
      "      64/80      1.97G      0.665     0.5701      1.048         44        640: 100%|██████████| 425/425 [00:37<00:00, 11.42it/s]\n",
      "                 Class     Images  Instances      Box(P          R      mAP50  mAP50-95): 100%|██████████| 37/37 [00:03<00:00,  9.69it/s]"
     ]
    },
    {
     "name": "stdout",
     "output_type": "stream",
     "text": [
      "                   all       1159       2824      0.971      0.957      0.984      0.912\n"
     ]
    },
    {
     "name": "stderr",
     "output_type": "stream",
     "text": [
      "\n"
     ]
    },
    {
     "name": "stdout",
     "output_type": "stream",
     "text": [
      "\n",
      "      Epoch    GPU_mem   box_loss   cls_loss   dfl_loss  Instances       Size\n"
     ]
    },
    {
     "name": "stderr",
     "output_type": "stream",
     "text": [
      "      65/80      2.09G     0.6484     0.5549      1.038         49        640: 100%|██████████| 425/425 [00:38<00:00, 11.08it/s]\n",
      "                 Class     Images  Instances      Box(P          R      mAP50  mAP50-95): 100%|██████████| 37/37 [00:03<00:00, 10.82it/s]"
     ]
    },
    {
     "name": "stdout",
     "output_type": "stream",
     "text": [
      "                   all       1159       2824      0.976      0.957      0.985      0.914\n"
     ]
    },
    {
     "name": "stderr",
     "output_type": "stream",
     "text": [
      "\n"
     ]
    },
    {
     "name": "stdout",
     "output_type": "stream",
     "text": [
      "\n",
      "      Epoch    GPU_mem   box_loss   cls_loss   dfl_loss  Instances       Size\n"
     ]
    },
    {
     "name": "stderr",
     "output_type": "stream",
     "text": [
      "      66/80      2.01G     0.6548     0.5539       1.04         38        640: 100%|██████████| 425/425 [00:38<00:00, 11.02it/s]\n",
      "                 Class     Images  Instances      Box(P          R      mAP50  mAP50-95): 100%|██████████| 37/37 [00:03<00:00, 10.73it/s]"
     ]
    },
    {
     "name": "stdout",
     "output_type": "stream",
     "text": [
      "                   all       1159       2824      0.972      0.959      0.985      0.914\n"
     ]
    },
    {
     "name": "stderr",
     "output_type": "stream",
     "text": [
      "\n"
     ]
    },
    {
     "name": "stdout",
     "output_type": "stream",
     "text": [
      "\n",
      "      Epoch    GPU_mem   box_loss   cls_loss   dfl_loss  Instances       Size\n"
     ]
    },
    {
     "name": "stderr",
     "output_type": "stream",
     "text": [
      "      67/80      2.02G     0.6475     0.5453      1.036         42        640: 100%|██████████| 425/425 [00:40<00:00, 10.57it/s]\n",
      "                 Class     Images  Instances      Box(P          R      mAP50  mAP50-95): 100%|██████████| 37/37 [00:03<00:00, 10.90it/s]"
     ]
    },
    {
     "name": "stdout",
     "output_type": "stream",
     "text": [
      "                   all       1159       2824      0.977      0.958      0.984      0.912\n"
     ]
    },
    {
     "name": "stderr",
     "output_type": "stream",
     "text": [
      "\n"
     ]
    },
    {
     "name": "stdout",
     "output_type": "stream",
     "text": [
      "\n",
      "      Epoch    GPU_mem   box_loss   cls_loss   dfl_loss  Instances       Size\n"
     ]
    },
    {
     "name": "stderr",
     "output_type": "stream",
     "text": [
      "      68/80      2.02G     0.6545     0.5526      1.037         31        640: 100%|██████████| 425/425 [00:37<00:00, 11.23it/s]\n",
      "                 Class     Images  Instances      Box(P          R      mAP50  mAP50-95): 100%|██████████| 37/37 [00:03<00:00, 10.78it/s]"
     ]
    },
    {
     "name": "stdout",
     "output_type": "stream",
     "text": [
      "                   all       1159       2824      0.974       0.96      0.984      0.914\n"
     ]
    },
    {
     "name": "stderr",
     "output_type": "stream",
     "text": [
      "\n"
     ]
    },
    {
     "name": "stdout",
     "output_type": "stream",
     "text": [
      "\n",
      "      Epoch    GPU_mem   box_loss   cls_loss   dfl_loss  Instances       Size\n"
     ]
    },
    {
     "name": "stderr",
     "output_type": "stream",
     "text": [
      "      69/80      2.14G     0.6475      0.552      1.041         36        640: 100%|██████████| 425/425 [00:39<00:00, 10.81it/s]\n",
      "                 Class     Images  Instances      Box(P          R      mAP50  mAP50-95): 100%|██████████| 37/37 [00:03<00:00, 10.70it/s]"
     ]
    },
    {
     "name": "stdout",
     "output_type": "stream",
     "text": [
      "                   all       1159       2824      0.969      0.961      0.984      0.915\n"
     ]
    },
    {
     "name": "stderr",
     "output_type": "stream",
     "text": [
      "\n"
     ]
    },
    {
     "name": "stdout",
     "output_type": "stream",
     "text": [
      "\n",
      "      Epoch    GPU_mem   box_loss   cls_loss   dfl_loss  Instances       Size\n"
     ]
    },
    {
     "name": "stderr",
     "output_type": "stream",
     "text": [
      "      70/80      2.02G     0.6487     0.5466      1.038         46        640: 100%|██████████| 425/425 [00:39<00:00, 10.86it/s]\n",
      "                 Class     Images  Instances      Box(P          R      mAP50  mAP50-95): 100%|██████████| 37/37 [00:03<00:00, 10.48it/s]"
     ]
    },
    {
     "name": "stdout",
     "output_type": "stream",
     "text": [
      "                   all       1159       2824      0.973      0.961      0.985      0.916\n"
     ]
    },
    {
     "name": "stderr",
     "output_type": "stream",
     "text": [
      "\n"
     ]
    },
    {
     "name": "stdout",
     "output_type": "stream",
     "text": [
      "Closing dataloader mosaic\n",
      "\n",
      "      Epoch    GPU_mem   box_loss   cls_loss   dfl_loss  Instances       Size\n"
     ]
    },
    {
     "name": "stderr",
     "output_type": "stream",
     "text": [
      "      71/80       2.1G     0.6741     0.5033      1.051         17        640: 100%|██████████| 425/425 [00:38<00:00, 11.13it/s]\n",
      "                 Class     Images  Instances      Box(P          R      mAP50  mAP50-95): 100%|██████████| 37/37 [00:03<00:00, 10.72it/s]"
     ]
    },
    {
     "name": "stdout",
     "output_type": "stream",
     "text": [
      "                   all       1159       2824      0.973      0.957      0.983      0.914\n"
     ]
    },
    {
     "name": "stderr",
     "output_type": "stream",
     "text": [
      "\n"
     ]
    },
    {
     "name": "stdout",
     "output_type": "stream",
     "text": [
      "\n",
      "      Epoch    GPU_mem   box_loss   cls_loss   dfl_loss  Instances       Size\n"
     ]
    },
    {
     "name": "stderr",
     "output_type": "stream",
     "text": [
      "      72/80      1.95G     0.6701     0.4978      1.048         19        640: 100%|██████████| 425/425 [00:38<00:00, 11.09it/s]\n",
      "                 Class     Images  Instances      Box(P          R      mAP50  mAP50-95): 100%|██████████| 37/37 [00:03<00:00, 10.88it/s]"
     ]
    },
    {
     "name": "stdout",
     "output_type": "stream",
     "text": [
      "                   all       1159       2824      0.973      0.959      0.983      0.915\n"
     ]
    },
    {
     "name": "stderr",
     "output_type": "stream",
     "text": [
      "\n"
     ]
    },
    {
     "name": "stdout",
     "output_type": "stream",
     "text": [
      "\n",
      "      Epoch    GPU_mem   box_loss   cls_loss   dfl_loss  Instances       Size\n"
     ]
    },
    {
     "name": "stderr",
     "output_type": "stream",
     "text": [
      "      73/80         2G     0.6646     0.4935      1.043         30        640: 100%|██████████| 425/425 [00:38<00:00, 11.06it/s]\n",
      "                 Class     Images  Instances      Box(P          R      mAP50  mAP50-95): 100%|██████████| 37/37 [00:03<00:00, 10.91it/s]"
     ]
    },
    {
     "name": "stdout",
     "output_type": "stream",
     "text": [
      "                   all       1159       2824      0.972      0.961      0.986      0.916\n"
     ]
    },
    {
     "name": "stderr",
     "output_type": "stream",
     "text": [
      "\n"
     ]
    },
    {
     "name": "stdout",
     "output_type": "stream",
     "text": [
      "\n",
      "      Epoch    GPU_mem   box_loss   cls_loss   dfl_loss  Instances       Size\n"
     ]
    },
    {
     "name": "stderr",
     "output_type": "stream",
     "text": [
      "      74/80      1.98G     0.6564     0.4846       1.04         26        640: 100%|██████████| 425/425 [00:37<00:00, 11.33it/s]\n",
      "                 Class     Images  Instances      Box(P          R      mAP50  mAP50-95): 100%|██████████| 37/37 [00:03<00:00, 10.54it/s]"
     ]
    },
    {
     "name": "stdout",
     "output_type": "stream",
     "text": [
      "                   all       1159       2824      0.972      0.958      0.985      0.917\n"
     ]
    },
    {
     "name": "stderr",
     "output_type": "stream",
     "text": [
      "\n"
     ]
    },
    {
     "name": "stdout",
     "output_type": "stream",
     "text": [
      "\n",
      "      Epoch    GPU_mem   box_loss   cls_loss   dfl_loss  Instances       Size\n"
     ]
    },
    {
     "name": "stderr",
     "output_type": "stream",
     "text": [
      "      75/80      2.02G     0.6535     0.4819      1.038         22        640: 100%|██████████| 425/425 [00:36<00:00, 11.66it/s]\n",
      "                 Class     Images  Instances      Box(P          R      mAP50  mAP50-95): 100%|██████████| 37/37 [00:03<00:00, 10.55it/s]"
     ]
    },
    {
     "name": "stdout",
     "output_type": "stream",
     "text": [
      "                   all       1159       2824       0.97      0.961      0.985      0.918\n"
     ]
    },
    {
     "name": "stderr",
     "output_type": "stream",
     "text": [
      "\n"
     ]
    },
    {
     "name": "stdout",
     "output_type": "stream",
     "text": [
      "\n",
      "      Epoch    GPU_mem   box_loss   cls_loss   dfl_loss  Instances       Size\n"
     ]
    },
    {
     "name": "stderr",
     "output_type": "stream",
     "text": [
      "      76/80      1.99G     0.6492     0.4753      1.036         23        640: 100%|██████████| 425/425 [00:37<00:00, 11.40it/s]\n",
      "                 Class     Images  Instances      Box(P          R      mAP50  mAP50-95): 100%|██████████| 37/37 [00:03<00:00, 10.62it/s]"
     ]
    },
    {
     "name": "stdout",
     "output_type": "stream",
     "text": [
      "                   all       1159       2824      0.972      0.962      0.986      0.917\n"
     ]
    },
    {
     "name": "stderr",
     "output_type": "stream",
     "text": [
      "\n"
     ]
    },
    {
     "name": "stdout",
     "output_type": "stream",
     "text": [
      "\n",
      "      Epoch    GPU_mem   box_loss   cls_loss   dfl_loss  Instances       Size\n"
     ]
    },
    {
     "name": "stderr",
     "output_type": "stream",
     "text": [
      "      77/80      2.04G     0.6441     0.4674      1.031         19        640: 100%|██████████| 425/425 [00:38<00:00, 11.15it/s]\n",
      "                 Class     Images  Instances      Box(P          R      mAP50  mAP50-95): 100%|██████████| 37/37 [00:03<00:00, 10.84it/s]"
     ]
    },
    {
     "name": "stdout",
     "output_type": "stream",
     "text": [
      "                   all       1159       2824      0.968      0.964      0.985      0.917\n"
     ]
    },
    {
     "name": "stderr",
     "output_type": "stream",
     "text": [
      "\n"
     ]
    },
    {
     "name": "stdout",
     "output_type": "stream",
     "text": [
      "\n",
      "      Epoch    GPU_mem   box_loss   cls_loss   dfl_loss  Instances       Size\n"
     ]
    },
    {
     "name": "stderr",
     "output_type": "stream",
     "text": [
      "      78/80      2.06G     0.6385     0.4685      1.031         15        640: 100%|██████████| 425/425 [00:36<00:00, 11.68it/s]\n",
      "                 Class     Images  Instances      Box(P          R      mAP50  mAP50-95): 100%|██████████| 37/37 [00:03<00:00, 10.60it/s]"
     ]
    },
    {
     "name": "stdout",
     "output_type": "stream",
     "text": [
      "                   all       1159       2824      0.968      0.963      0.986      0.917\n"
     ]
    },
    {
     "name": "stderr",
     "output_type": "stream",
     "text": [
      "\n"
     ]
    },
    {
     "name": "stdout",
     "output_type": "stream",
     "text": [
      "\n",
      "      Epoch    GPU_mem   box_loss   cls_loss   dfl_loss  Instances       Size\n"
     ]
    },
    {
     "name": "stderr",
     "output_type": "stream",
     "text": [
      "      79/80      2.03G     0.6388     0.4629      1.032         24        640: 100%|██████████| 425/425 [00:38<00:00, 11.13it/s]\n",
      "                 Class     Images  Instances      Box(P          R      mAP50  mAP50-95): 100%|██████████| 37/37 [00:03<00:00,  9.75it/s]"
     ]
    },
    {
     "name": "stdout",
     "output_type": "stream",
     "text": [
      "                   all       1159       2824      0.971      0.961      0.985      0.918\n"
     ]
    },
    {
     "name": "stderr",
     "output_type": "stream",
     "text": [
      "\n"
     ]
    },
    {
     "name": "stdout",
     "output_type": "stream",
     "text": [
      "\n",
      "      Epoch    GPU_mem   box_loss   cls_loss   dfl_loss  Instances       Size\n"
     ]
    },
    {
     "name": "stderr",
     "output_type": "stream",
     "text": [
      "      80/80      2.01G     0.6397     0.4695       1.03         23        640: 100%|██████████| 425/425 [00:36<00:00, 11.73it/s]\n",
      "                 Class     Images  Instances      Box(P          R      mAP50  mAP50-95): 100%|██████████| 37/37 [00:03<00:00, 10.47it/s]"
     ]
    },
    {
     "name": "stdout",
     "output_type": "stream",
     "text": [
      "                   all       1159       2824      0.973       0.96      0.985      0.918\n"
     ]
    },
    {
     "name": "stderr",
     "output_type": "stream",
     "text": [
      "\n"
     ]
    },
    {
     "name": "stdout",
     "output_type": "stream",
     "text": [
      "\n",
      "80 epochs completed in 0.940 hours.\n",
      "Optimizer stripped from runs/detect/train10/weights/last.pt, 6.3MB\n",
      "Optimizer stripped from runs/detect/train10/weights/best.pt, 6.3MB\n",
      "\n",
      "Validating runs/detect/train10/weights/best.pt...\n",
      "Ultralytics 8.3.86 🚀 Python-3.11.10 torch-2.5.1+cu121 CUDA:0 (NVIDIA GeForce RTX 4090, 23995MiB)\n",
      "Model summary (fused): 72 layers, 3,006,038 parameters, 0 gradients, 8.1 GFLOPs\n"
     ]
    },
    {
     "name": "stderr",
     "output_type": "stream",
     "text": [
      "                 Class     Images  Instances      Box(P          R      mAP50  mAP50-95): 100%|██████████| 37/37 [00:04<00:00,  8.01it/s]\n"
     ]
    },
    {
     "name": "stdout",
     "output_type": "stream",
     "text": [
      "                   all       1159       2824      0.973      0.956      0.985      0.918\n",
      "                  fire       1159       2824      0.973      0.956      0.985      0.918\n",
      "Speed: 0.1ms preprocess, 0.3ms inference, 0.0ms loss, 0.6ms postprocess per image\n",
      "Results saved to \u001b[1mruns/detect/train10\u001b[0m\n"
     ]
    },
    {
     "data": {
      "text/plain": [
       "ultralytics.utils.metrics.DetMetrics object with attributes:\n",
       "\n",
       "ap_class_index: array([0])\n",
       "box: ultralytics.utils.metrics.Metric object\n",
       "confusion_matrix: <ultralytics.utils.metrics.ConfusionMatrix object at 0x7a774a7f4a50>\n",
       "curves: ['Precision-Recall(B)', 'F1-Confidence(B)', 'Precision-Confidence(B)', 'Recall-Confidence(B)']\n",
       "curves_results: [[array([          0,    0.001001,    0.002002,    0.003003,    0.004004,    0.005005,    0.006006,    0.007007,    0.008008,    0.009009,     0.01001,    0.011011,    0.012012,    0.013013,    0.014014,    0.015015,    0.016016,    0.017017,    0.018018,    0.019019,     0.02002,    0.021021,    0.022022,    0.023023,\n",
       "          0.024024,    0.025025,    0.026026,    0.027027,    0.028028,    0.029029,     0.03003,    0.031031,    0.032032,    0.033033,    0.034034,    0.035035,    0.036036,    0.037037,    0.038038,    0.039039,     0.04004,    0.041041,    0.042042,    0.043043,    0.044044,    0.045045,    0.046046,    0.047047,\n",
       "          0.048048,    0.049049,     0.05005,    0.051051,    0.052052,    0.053053,    0.054054,    0.055055,    0.056056,    0.057057,    0.058058,    0.059059,     0.06006,    0.061061,    0.062062,    0.063063,    0.064064,    0.065065,    0.066066,    0.067067,    0.068068,    0.069069,     0.07007,    0.071071,\n",
       "          0.072072,    0.073073,    0.074074,    0.075075,    0.076076,    0.077077,    0.078078,    0.079079,     0.08008,    0.081081,    0.082082,    0.083083,    0.084084,    0.085085,    0.086086,    0.087087,    0.088088,    0.089089,     0.09009,    0.091091,    0.092092,    0.093093,    0.094094,    0.095095,\n",
       "          0.096096,    0.097097,    0.098098,    0.099099,      0.1001,      0.1011,      0.1021,      0.1031,      0.1041,     0.10511,     0.10611,     0.10711,     0.10811,     0.10911,     0.11011,     0.11111,     0.11211,     0.11311,     0.11411,     0.11512,     0.11612,     0.11712,     0.11812,     0.11912,\n",
       "           0.12012,     0.12112,     0.12212,     0.12312,     0.12412,     0.12513,     0.12613,     0.12713,     0.12813,     0.12913,     0.13013,     0.13113,     0.13213,     0.13313,     0.13413,     0.13514,     0.13614,     0.13714,     0.13814,     0.13914,     0.14014,     0.14114,     0.14214,     0.14314,\n",
       "           0.14414,     0.14515,     0.14615,     0.14715,     0.14815,     0.14915,     0.15015,     0.15115,     0.15215,     0.15315,     0.15415,     0.15516,     0.15616,     0.15716,     0.15816,     0.15916,     0.16016,     0.16116,     0.16216,     0.16316,     0.16416,     0.16517,     0.16617,     0.16717,\n",
       "           0.16817,     0.16917,     0.17017,     0.17117,     0.17217,     0.17317,     0.17417,     0.17518,     0.17618,     0.17718,     0.17818,     0.17918,     0.18018,     0.18118,     0.18218,     0.18318,     0.18418,     0.18519,     0.18619,     0.18719,     0.18819,     0.18919,     0.19019,     0.19119,\n",
       "           0.19219,     0.19319,     0.19419,      0.1952,      0.1962,      0.1972,      0.1982,      0.1992,      0.2002,      0.2012,      0.2022,      0.2032,      0.2042,     0.20521,     0.20621,     0.20721,     0.20821,     0.20921,     0.21021,     0.21121,     0.21221,     0.21321,     0.21421,     0.21522,\n",
       "           0.21622,     0.21722,     0.21822,     0.21922,     0.22022,     0.22122,     0.22222,     0.22322,     0.22422,     0.22523,     0.22623,     0.22723,     0.22823,     0.22923,     0.23023,     0.23123,     0.23223,     0.23323,     0.23423,     0.23524,     0.23624,     0.23724,     0.23824,     0.23924,\n",
       "           0.24024,     0.24124,     0.24224,     0.24324,     0.24424,     0.24525,     0.24625,     0.24725,     0.24825,     0.24925,     0.25025,     0.25125,     0.25225,     0.25325,     0.25425,     0.25526,     0.25626,     0.25726,     0.25826,     0.25926,     0.26026,     0.26126,     0.26226,     0.26326,\n",
       "           0.26426,     0.26527,     0.26627,     0.26727,     0.26827,     0.26927,     0.27027,     0.27127,     0.27227,     0.27327,     0.27427,     0.27528,     0.27628,     0.27728,     0.27828,     0.27928,     0.28028,     0.28128,     0.28228,     0.28328,     0.28428,     0.28529,     0.28629,     0.28729,\n",
       "           0.28829,     0.28929,     0.29029,     0.29129,     0.29229,     0.29329,     0.29429,      0.2953,      0.2963,      0.2973,      0.2983,      0.2993,      0.3003,      0.3013,      0.3023,      0.3033,      0.3043,     0.30531,     0.30631,     0.30731,     0.30831,     0.30931,     0.31031,     0.31131,\n",
       "           0.31231,     0.31331,     0.31431,     0.31532,     0.31632,     0.31732,     0.31832,     0.31932,     0.32032,     0.32132,     0.32232,     0.32332,     0.32432,     0.32533,     0.32633,     0.32733,     0.32833,     0.32933,     0.33033,     0.33133,     0.33233,     0.33333,     0.33433,     0.33534,\n",
       "           0.33634,     0.33734,     0.33834,     0.33934,     0.34034,     0.34134,     0.34234,     0.34334,     0.34434,     0.34535,     0.34635,     0.34735,     0.34835,     0.34935,     0.35035,     0.35135,     0.35235,     0.35335,     0.35435,     0.35536,     0.35636,     0.35736,     0.35836,     0.35936,\n",
       "           0.36036,     0.36136,     0.36236,     0.36336,     0.36436,     0.36537,     0.36637,     0.36737,     0.36837,     0.36937,     0.37037,     0.37137,     0.37237,     0.37337,     0.37437,     0.37538,     0.37638,     0.37738,     0.37838,     0.37938,     0.38038,     0.38138,     0.38238,     0.38338,\n",
       "           0.38438,     0.38539,     0.38639,     0.38739,     0.38839,     0.38939,     0.39039,     0.39139,     0.39239,     0.39339,     0.39439,      0.3954,      0.3964,      0.3974,      0.3984,      0.3994,      0.4004,      0.4014,      0.4024,      0.4034,      0.4044,     0.40541,     0.40641,     0.40741,\n",
       "           0.40841,     0.40941,     0.41041,     0.41141,     0.41241,     0.41341,     0.41441,     0.41542,     0.41642,     0.41742,     0.41842,     0.41942,     0.42042,     0.42142,     0.42242,     0.42342,     0.42442,     0.42543,     0.42643,     0.42743,     0.42843,     0.42943,     0.43043,     0.43143,\n",
       "           0.43243,     0.43343,     0.43443,     0.43544,     0.43644,     0.43744,     0.43844,     0.43944,     0.44044,     0.44144,     0.44244,     0.44344,     0.44444,     0.44545,     0.44645,     0.44745,     0.44845,     0.44945,     0.45045,     0.45145,     0.45245,     0.45345,     0.45445,     0.45546,\n",
       "           0.45646,     0.45746,     0.45846,     0.45946,     0.46046,     0.46146,     0.46246,     0.46346,     0.46446,     0.46547,     0.46647,     0.46747,     0.46847,     0.46947,     0.47047,     0.47147,     0.47247,     0.47347,     0.47447,     0.47548,     0.47648,     0.47748,     0.47848,     0.47948,\n",
       "           0.48048,     0.48148,     0.48248,     0.48348,     0.48448,     0.48549,     0.48649,     0.48749,     0.48849,     0.48949,     0.49049,     0.49149,     0.49249,     0.49349,     0.49449,      0.4955,      0.4965,      0.4975,      0.4985,      0.4995,      0.5005,      0.5015,      0.5025,      0.5035,\n",
       "            0.5045,     0.50551,     0.50651,     0.50751,     0.50851,     0.50951,     0.51051,     0.51151,     0.51251,     0.51351,     0.51451,     0.51552,     0.51652,     0.51752,     0.51852,     0.51952,     0.52052,     0.52152,     0.52252,     0.52352,     0.52452,     0.52553,     0.52653,     0.52753,\n",
       "           0.52853,     0.52953,     0.53053,     0.53153,     0.53253,     0.53353,     0.53453,     0.53554,     0.53654,     0.53754,     0.53854,     0.53954,     0.54054,     0.54154,     0.54254,     0.54354,     0.54454,     0.54555,     0.54655,     0.54755,     0.54855,     0.54955,     0.55055,     0.55155,\n",
       "           0.55255,     0.55355,     0.55455,     0.55556,     0.55656,     0.55756,     0.55856,     0.55956,     0.56056,     0.56156,     0.56256,     0.56356,     0.56456,     0.56557,     0.56657,     0.56757,     0.56857,     0.56957,     0.57057,     0.57157,     0.57257,     0.57357,     0.57457,     0.57558,\n",
       "           0.57658,     0.57758,     0.57858,     0.57958,     0.58058,     0.58158,     0.58258,     0.58358,     0.58458,     0.58559,     0.58659,     0.58759,     0.58859,     0.58959,     0.59059,     0.59159,     0.59259,     0.59359,     0.59459,      0.5956,      0.5966,      0.5976,      0.5986,      0.5996,\n",
       "            0.6006,      0.6016,      0.6026,      0.6036,      0.6046,     0.60561,     0.60661,     0.60761,     0.60861,     0.60961,     0.61061,     0.61161,     0.61261,     0.61361,     0.61461,     0.61562,     0.61662,     0.61762,     0.61862,     0.61962,     0.62062,     0.62162,     0.62262,     0.62362,\n",
       "           0.62462,     0.62563,     0.62663,     0.62763,     0.62863,     0.62963,     0.63063,     0.63163,     0.63263,     0.63363,     0.63463,     0.63564,     0.63664,     0.63764,     0.63864,     0.63964,     0.64064,     0.64164,     0.64264,     0.64364,     0.64464,     0.64565,     0.64665,     0.64765,\n",
       "           0.64865,     0.64965,     0.65065,     0.65165,     0.65265,     0.65365,     0.65465,     0.65566,     0.65666,     0.65766,     0.65866,     0.65966,     0.66066,     0.66166,     0.66266,     0.66366,     0.66466,     0.66567,     0.66667,     0.66767,     0.66867,     0.66967,     0.67067,     0.67167,\n",
       "           0.67267,     0.67367,     0.67467,     0.67568,     0.67668,     0.67768,     0.67868,     0.67968,     0.68068,     0.68168,     0.68268,     0.68368,     0.68468,     0.68569,     0.68669,     0.68769,     0.68869,     0.68969,     0.69069,     0.69169,     0.69269,     0.69369,     0.69469,      0.6957,\n",
       "            0.6967,      0.6977,      0.6987,      0.6997,      0.7007,      0.7017,      0.7027,      0.7037,      0.7047,     0.70571,     0.70671,     0.70771,     0.70871,     0.70971,     0.71071,     0.71171,     0.71271,     0.71371,     0.71471,     0.71572,     0.71672,     0.71772,     0.71872,     0.71972,\n",
       "           0.72072,     0.72172,     0.72272,     0.72372,     0.72472,     0.72573,     0.72673,     0.72773,     0.72873,     0.72973,     0.73073,     0.73173,     0.73273,     0.73373,     0.73473,     0.73574,     0.73674,     0.73774,     0.73874,     0.73974,     0.74074,     0.74174,     0.74274,     0.74374,\n",
       "           0.74474,     0.74575,     0.74675,     0.74775,     0.74875,     0.74975,     0.75075,     0.75175,     0.75275,     0.75375,     0.75475,     0.75576,     0.75676,     0.75776,     0.75876,     0.75976,     0.76076,     0.76176,     0.76276,     0.76376,     0.76476,     0.76577,     0.76677,     0.76777,\n",
       "           0.76877,     0.76977,     0.77077,     0.77177,     0.77277,     0.77377,     0.77477,     0.77578,     0.77678,     0.77778,     0.77878,     0.77978,     0.78078,     0.78178,     0.78278,     0.78378,     0.78478,     0.78579,     0.78679,     0.78779,     0.78879,     0.78979,     0.79079,     0.79179,\n",
       "           0.79279,     0.79379,     0.79479,      0.7958,      0.7968,      0.7978,      0.7988,      0.7998,      0.8008,      0.8018,      0.8028,      0.8038,      0.8048,     0.80581,     0.80681,     0.80781,     0.80881,     0.80981,     0.81081,     0.81181,     0.81281,     0.81381,     0.81481,     0.81582,\n",
       "           0.81682,     0.81782,     0.81882,     0.81982,     0.82082,     0.82182,     0.82282,     0.82382,     0.82482,     0.82583,     0.82683,     0.82783,     0.82883,     0.82983,     0.83083,     0.83183,     0.83283,     0.83383,     0.83483,     0.83584,     0.83684,     0.83784,     0.83884,     0.83984,\n",
       "           0.84084,     0.84184,     0.84284,     0.84384,     0.84484,     0.84585,     0.84685,     0.84785,     0.84885,     0.84985,     0.85085,     0.85185,     0.85285,     0.85385,     0.85485,     0.85586,     0.85686,     0.85786,     0.85886,     0.85986,     0.86086,     0.86186,     0.86286,     0.86386,\n",
       "           0.86486,     0.86587,     0.86687,     0.86787,     0.86887,     0.86987,     0.87087,     0.87187,     0.87287,     0.87387,     0.87487,     0.87588,     0.87688,     0.87788,     0.87888,     0.87988,     0.88088,     0.88188,     0.88288,     0.88388,     0.88488,     0.88589,     0.88689,     0.88789,\n",
       "           0.88889,     0.88989,     0.89089,     0.89189,     0.89289,     0.89389,     0.89489,      0.8959,      0.8969,      0.8979,      0.8989,      0.8999,      0.9009,      0.9019,      0.9029,      0.9039,      0.9049,     0.90591,     0.90691,     0.90791,     0.90891,     0.90991,     0.91091,     0.91191,\n",
       "           0.91291,     0.91391,     0.91491,     0.91592,     0.91692,     0.91792,     0.91892,     0.91992,     0.92092,     0.92192,     0.92292,     0.92392,     0.92492,     0.92593,     0.92693,     0.92793,     0.92893,     0.92993,     0.93093,     0.93193,     0.93293,     0.93393,     0.93493,     0.93594,\n",
       "           0.93694,     0.93794,     0.93894,     0.93994,     0.94094,     0.94194,     0.94294,     0.94394,     0.94494,     0.94595,     0.94695,     0.94795,     0.94895,     0.94995,     0.95095,     0.95195,     0.95295,     0.95395,     0.95495,     0.95596,     0.95696,     0.95796,     0.95896,     0.95996,\n",
       "           0.96096,     0.96196,     0.96296,     0.96396,     0.96496,     0.96597,     0.96697,     0.96797,     0.96897,     0.96997,     0.97097,     0.97197,     0.97297,     0.97397,     0.97497,     0.97598,     0.97698,     0.97798,     0.97898,     0.97998,     0.98098,     0.98198,     0.98298,     0.98398,\n",
       "           0.98498,     0.98599,     0.98699,     0.98799,     0.98899,     0.98999,     0.99099,     0.99199,     0.99299,     0.99399,     0.99499,       0.996,       0.997,       0.998,       0.999,           1]), array([[          1,           1,           1,           1,           1,           1,           1,           1,           1,           1,           1,           1,           1,           1,           1,           1,           1,           1,           1,           1,           1,           1,           1,\n",
       "                  1,           1,           1,           1,           1,           1,           1,           1,           1,           1,           1,           1,           1,           1,           1,           1,           1,           1,           1,           1,           1,           1,           1,\n",
       "                  1,           1,           1,           1,           1,           1,           1,           1,           1,           1,           1,           1,           1,           1,           1,           1,           1,           1,           1,           1,           1,           1,           1,\n",
       "                  1,           1,           1,           1,           1,           1,           1,           1,           1,           1,           1,           1,           1,           1,           1,           1,           1,           1,           1,           1,           1,           1,           1,\n",
       "                  1,           1,           1,           1,           1,           1,           1,           1,           1,           1,           1,           1,           1,           1,           1,           1,           1,           1,           1,           1,           1,           1,           1,\n",
       "                  1,           1,           1,           1,           1,           1,           1,           1,           1,           1,           1,           1,           1,           1,           1,           1,           1,           1,           1,           1,     0.99855,     0.99855,     0.99855,\n",
       "            0.99855,     0.99855,     0.99855,     0.99855,     0.99855,     0.99855,     0.99855,     0.99855,     0.99855,     0.99855,     0.99855,     0.99855,     0.99855,     0.99855,     0.99855,     0.99855,     0.99855,     0.99855,     0.99855,     0.99855,     0.99855,     0.99855,     0.99855,\n",
       "            0.99855,     0.99855,     0.99855,     0.99855,     0.99855,     0.99855,     0.99855,     0.99855,     0.99855,     0.99855,     0.99855,     0.99855,     0.99855,     0.99855,     0.99855,     0.99855,     0.99855,     0.99855,     0.99855,     0.99855,     0.99855,     0.99855,     0.99855,\n",
       "            0.99855,     0.99855,     0.99855,     0.99855,     0.99855,     0.99855,     0.99855,     0.99855,     0.99855,     0.99855,     0.99855,     0.99855,     0.99855,     0.99855,     0.99855,     0.99855,     0.99855,     0.99855,     0.99855,     0.99855,     0.99855,     0.99855,     0.99855,\n",
       "            0.99855,     0.99855,     0.99855,     0.99855,     0.99855,     0.99855,     0.99855,     0.99855,     0.99855,     0.99855,     0.99855,     0.99855,     0.99855,     0.99855,     0.99855,     0.99855,     0.99855,     0.99855,     0.99855,     0.99855,     0.99855,     0.99855,     0.99855,\n",
       "            0.99855,     0.99855,     0.99855,     0.99855,     0.99855,     0.99855,     0.99855,     0.99855,     0.99855,     0.99855,     0.99855,     0.99855,     0.99855,     0.99855,     0.99855,     0.99843,     0.99843,     0.99843,     0.99843,     0.99843,     0.99843,     0.99843,     0.99843,\n",
       "            0.99843,     0.99843,     0.99843,     0.99843,     0.99843,     0.99843,     0.99843,     0.99843,     0.99843,     0.99843,     0.99843,     0.99843,     0.99843,     0.99843,     0.99843,     0.99843,     0.99843,     0.99843,     0.99843,     0.99843,     0.99843,     0.99843,     0.99843,\n",
       "            0.99843,     0.99843,     0.99843,     0.99843,     0.99843,     0.99843,     0.99843,     0.99843,     0.99843,     0.99843,     0.99843,     0.99843,     0.99843,     0.99843,     0.99843,     0.99843,     0.99843,     0.99843,     0.99843,     0.99843,     0.99843,     0.99843,     0.99843,\n",
       "            0.99843,     0.99843,     0.99843,     0.99843,     0.99843,     0.99843,     0.99843,     0.99843,     0.99843,     0.99843,     0.99843,     0.99843,     0.99843,     0.99843,     0.99843,     0.99843,     0.99843,     0.99843,     0.99843,     0.99843,     0.99843,     0.99843,     0.99843,\n",
       "            0.99843,     0.99843,     0.99843,     0.99843,     0.99843,     0.99843,     0.99843,     0.99843,     0.99843,     0.99843,     0.99843,     0.99843,     0.99843,     0.99843,     0.99843,     0.99843,     0.99843,     0.99843,     0.99843,     0.99843,     0.99843,     0.99843,     0.99843,\n",
       "            0.99843,     0.99843,     0.99843,     0.99843,     0.99843,     0.99843,     0.99843,     0.99843,     0.99843,     0.99843,     0.99843,     0.99843,     0.99843,     0.99843,     0.99843,     0.99843,     0.99843,     0.99843,     0.99843,     0.99843,     0.99843,     0.99843,     0.99843,\n",
       "            0.99843,     0.99843,     0.99843,     0.99843,     0.99843,     0.99843,     0.99843,     0.99843,     0.99843,     0.99843,     0.99843,     0.99843,     0.99843,     0.99843,     0.99843,     0.99843,     0.99843,     0.99843,     0.99843,     0.99843,     0.99843,     0.99843,     0.99843,\n",
       "            0.99843,     0.99843,     0.99843,     0.99843,     0.99843,     0.99843,     0.99843,     0.99843,     0.99843,     0.99843,     0.99843,     0.99843,     0.99843,     0.99843,     0.99843,     0.99843,     0.99843,     0.99843,     0.99843,     0.99843,     0.99843,     0.99843,     0.99843,\n",
       "            0.99843,     0.99843,     0.99843,     0.99843,     0.99843,     0.99843,     0.99843,     0.99843,     0.99843,     0.99843,     0.99843,     0.99843,     0.99843,     0.99843,     0.99843,     0.99843,     0.99843,     0.99843,     0.99843,     0.99843,     0.99843,     0.99843,     0.99843,\n",
       "            0.99843,     0.99843,     0.99843,     0.99843,     0.99843,     0.99843,     0.99843,     0.99843,     0.99843,     0.99843,     0.99843,     0.99843,     0.99778,     0.99778,     0.99778,     0.99778,     0.99778,     0.99778,     0.99778,     0.99778,     0.99778,     0.99778,     0.99778,\n",
       "            0.99778,     0.99778,     0.99778,     0.99778,     0.99778,     0.99778,     0.99778,     0.99778,     0.99778,     0.99778,     0.99778,     0.99778,     0.99778,     0.99778,     0.99778,     0.99778,     0.99778,     0.99778,     0.99719,     0.99719,     0.99719,     0.99719,     0.99719,\n",
       "            0.99719,     0.99719,     0.99719,     0.99719,     0.99719,     0.99719,     0.99719,     0.99719,     0.99719,     0.99719,     0.99719,     0.99719,     0.99719,     0.99719,     0.99719,     0.99719,     0.99719,     0.99719,     0.99719,     0.99694,     0.99694,     0.99694,     0.99694,\n",
       "            0.99694,     0.99694,     0.99694,     0.99694,     0.99694,     0.99694,     0.99694,     0.99694,     0.99694,     0.99694,     0.99694,     0.99694,     0.99694,     0.99694,     0.99694,     0.99694,     0.99694,     0.99694,     0.99694,     0.99694,     0.99694,     0.99694,     0.99694,\n",
       "            0.99694,     0.99694,     0.99694,     0.99694,     0.99694,     0.99694,     0.99694,     0.99694,     0.99694,     0.99694,     0.99694,     0.99694,     0.99694,     0.99694,     0.99694,     0.99694,     0.99694,     0.99694,     0.99694,     0.99694,     0.99694,     0.99694,     0.99694,\n",
       "            0.99694,     0.99694,     0.99694,     0.99694,     0.99694,     0.99694,     0.99694,     0.99694,     0.99694,     0.99694,     0.99694,     0.99694,     0.99694,     0.99694,     0.99694,     0.99694,     0.99694,     0.99694,     0.99694,     0.99694,     0.99694,     0.99694,     0.99694,\n",
       "            0.99694,     0.99694,     0.99684,     0.99684,     0.99684,     0.99684,     0.99684,     0.99684,     0.99684,     0.99684,     0.99684,     0.99684,     0.99684,     0.99684,     0.99684,     0.99684,     0.99684,     0.99684,     0.99684,     0.99684,     0.99684,     0.99684,     0.99684,\n",
       "            0.99684,     0.99684,     0.99684,     0.99684,     0.99684,     0.99684,     0.99684,     0.99684,     0.99684,     0.99684,     0.99684,     0.99684,     0.99684,     0.99684,     0.99684,     0.99684,     0.99684,     0.99684,     0.99684,     0.99684,     0.99684,     0.99684,     0.99684,\n",
       "            0.99684,     0.99684,     0.99684,     0.99684,     0.99684,     0.99684,     0.99684,     0.99684,     0.99684,     0.99684,     0.99684,     0.99684,     0.99684,     0.99684,     0.99684,     0.99684,     0.99684,     0.99684,     0.99684,     0.99684,     0.99684,     0.99684,     0.99684,\n",
       "            0.99684,     0.99684,     0.99684,     0.99684,     0.99684,     0.99684,     0.99684,     0.99684,     0.99684,     0.99684,     0.99684,     0.99684,     0.99684,     0.99684,     0.99684,     0.99684,     0.99684,     0.99684,     0.99684,     0.99684,     0.99684,     0.99684,     0.99684,\n",
       "            0.99684,     0.99684,     0.99684,     0.99674,     0.99674,     0.99674,     0.99674,     0.99674,     0.99674,     0.99674,     0.99674,     0.99674,     0.99674,     0.99674,     0.99674,     0.99674,     0.99674,     0.99674,     0.99674,     0.99674,     0.99674,     0.99674,     0.99674,\n",
       "            0.99674,     0.99674,     0.99674,     0.99674,     0.99674,     0.99674,     0.99674,     0.99674,     0.99674,     0.99674,     0.99674,     0.99674,     0.99674,     0.99674,     0.99674,     0.99674,     0.99674,     0.99674,     0.99674,     0.99674,     0.99674,     0.99674,     0.99674,\n",
       "            0.99674,     0.99674,     0.99674,     0.99674,     0.99674,     0.99674,     0.99674,     0.99674,     0.99674,     0.99674,     0.99674,     0.99674,     0.99674,     0.99674,     0.99674,     0.99674,     0.99674,     0.99674,     0.99674,     0.99674,     0.99674,     0.99674,     0.99674,\n",
       "            0.99674,     0.99674,     0.99674,     0.99674,     0.99674,     0.99674,     0.99674,     0.99674,     0.99674,     0.99674,     0.99674,     0.99674,     0.99674,     0.99674,     0.99674,     0.99674,     0.99674,     0.99674,     0.99674,     0.99674,     0.99674,     0.99633,     0.99633,\n",
       "            0.99633,     0.99633,     0.99633,     0.99633,     0.99633,     0.99633,     0.99633,     0.99633,     0.99633,     0.99592,     0.99592,     0.99592,     0.99592,     0.99592,     0.99592,     0.99592,     0.99592,     0.99592,     0.99567,     0.99567,     0.99567,     0.99567,     0.99567,\n",
       "            0.99567,     0.99567,     0.99567,     0.99567,     0.99567,     0.99567,     0.99567,     0.99567,     0.99567,     0.99567,     0.99567,     0.99567,     0.99567,     0.99567,     0.99567,     0.99567,     0.99567,     0.99567,     0.99567,     0.99567,     0.99567,     0.99567,     0.99567,\n",
       "            0.99567,     0.99567,     0.99567,     0.99567,     0.99567,     0.99567,     0.99567,     0.99567,     0.99567,     0.99542,     0.99542,     0.99542,     0.99542,     0.99542,     0.99542,     0.99542,     0.99542,     0.99542,     0.99542,     0.99542,     0.99542,     0.99542,     0.99542,\n",
       "            0.99542,     0.99542,     0.99542,     0.99542,     0.99542,     0.99542,     0.99542,     0.99542,     0.99542,     0.99542,     0.99542,     0.99542,     0.99542,     0.99542,     0.99542,     0.99542,     0.99542,     0.99542,     0.99542,     0.99502,     0.99502,     0.99502,      0.9948,\n",
       "             0.9948,      0.9948,      0.9948,      0.9948,      0.9948,      0.9948,      0.9948,      0.9948,      0.9948,      0.9948,      0.9948,      0.9948,      0.9948,      0.9948,      0.9948,      0.9948,      0.9948,      0.9948,      0.9948,      0.9948,      0.9948,      0.9948,      0.9948,\n",
       "             0.9948,      0.9948,      0.9948,      0.9948,      0.9948,      0.9948,     0.99449,     0.99449,     0.99449,     0.99449,     0.99449,     0.99449,     0.99449,     0.99449,     0.99449,     0.99449,     0.99449,     0.99449,     0.99449,     0.99449,     0.99449,     0.99415,     0.99415,\n",
       "            0.99415,     0.99415,     0.99415,     0.99415,     0.99415,     0.99376,      0.9934,      0.9934,     0.99302,     0.99191,     0.99191,     0.99191,     0.99191,     0.99191,     0.99155,     0.99155,     0.99155,     0.99081,     0.99081,     0.99048,     0.99048,     0.99048,     0.99048,\n",
       "            0.99048,     0.99011,     0.98978,     0.98978,     0.98978,     0.98978,     0.98944,     0.98944,     0.98907,     0.98834,     0.98798,     0.98726,     0.98726,     0.98692,     0.98692,     0.98657,     0.98584,     0.98549,     0.98516,     0.98516,     0.98444,      0.9841,     0.98376,\n",
       "            0.98376,     0.98309,     0.98309,     0.98274,      0.9824,     0.98169,     0.98099,     0.97993,     0.97782,     0.97642,     0.97467,     0.97334,     0.97334,       0.973,     0.97234,     0.97133,       0.971,     0.97033,     0.96656,     0.96625,     0.96595,     0.96325,      0.9599,\n",
       "            0.95926,     0.95394,     0.94804,     0.94613,     0.94102,     0.93975,     0.92869,     0.92533,     0.90771,      0.9001,     0.89665,     0.89327,     0.87666,     0.87429,     0.85288,     0.83353,     0.83288,     0.80295,     0.79713,     0.76722,     0.69113,     0.63897,     0.60207,\n",
       "            0.46169,      0.3874,     0.30126,     0.24498,     0.22845,     0.19037,      0.1523,     0.11422,     0.07615,    0.038075,           0]]), 'Recall', 'Precision'], [array([          0,    0.001001,    0.002002,    0.003003,    0.004004,    0.005005,    0.006006,    0.007007,    0.008008,    0.009009,     0.01001,    0.011011,    0.012012,    0.013013,    0.014014,    0.015015,    0.016016,    0.017017,    0.018018,    0.019019,     0.02002,    0.021021,    0.022022,    0.023023,\n",
       "          0.024024,    0.025025,    0.026026,    0.027027,    0.028028,    0.029029,     0.03003,    0.031031,    0.032032,    0.033033,    0.034034,    0.035035,    0.036036,    0.037037,    0.038038,    0.039039,     0.04004,    0.041041,    0.042042,    0.043043,    0.044044,    0.045045,    0.046046,    0.047047,\n",
       "          0.048048,    0.049049,     0.05005,    0.051051,    0.052052,    0.053053,    0.054054,    0.055055,    0.056056,    0.057057,    0.058058,    0.059059,     0.06006,    0.061061,    0.062062,    0.063063,    0.064064,    0.065065,    0.066066,    0.067067,    0.068068,    0.069069,     0.07007,    0.071071,\n",
       "          0.072072,    0.073073,    0.074074,    0.075075,    0.076076,    0.077077,    0.078078,    0.079079,     0.08008,    0.081081,    0.082082,    0.083083,    0.084084,    0.085085,    0.086086,    0.087087,    0.088088,    0.089089,     0.09009,    0.091091,    0.092092,    0.093093,    0.094094,    0.095095,\n",
       "          0.096096,    0.097097,    0.098098,    0.099099,      0.1001,      0.1011,      0.1021,      0.1031,      0.1041,     0.10511,     0.10611,     0.10711,     0.10811,     0.10911,     0.11011,     0.11111,     0.11211,     0.11311,     0.11411,     0.11512,     0.11612,     0.11712,     0.11812,     0.11912,\n",
       "           0.12012,     0.12112,     0.12212,     0.12312,     0.12412,     0.12513,     0.12613,     0.12713,     0.12813,     0.12913,     0.13013,     0.13113,     0.13213,     0.13313,     0.13413,     0.13514,     0.13614,     0.13714,     0.13814,     0.13914,     0.14014,     0.14114,     0.14214,     0.14314,\n",
       "           0.14414,     0.14515,     0.14615,     0.14715,     0.14815,     0.14915,     0.15015,     0.15115,     0.15215,     0.15315,     0.15415,     0.15516,     0.15616,     0.15716,     0.15816,     0.15916,     0.16016,     0.16116,     0.16216,     0.16316,     0.16416,     0.16517,     0.16617,     0.16717,\n",
       "           0.16817,     0.16917,     0.17017,     0.17117,     0.17217,     0.17317,     0.17417,     0.17518,     0.17618,     0.17718,     0.17818,     0.17918,     0.18018,     0.18118,     0.18218,     0.18318,     0.18418,     0.18519,     0.18619,     0.18719,     0.18819,     0.18919,     0.19019,     0.19119,\n",
       "           0.19219,     0.19319,     0.19419,      0.1952,      0.1962,      0.1972,      0.1982,      0.1992,      0.2002,      0.2012,      0.2022,      0.2032,      0.2042,     0.20521,     0.20621,     0.20721,     0.20821,     0.20921,     0.21021,     0.21121,     0.21221,     0.21321,     0.21421,     0.21522,\n",
       "           0.21622,     0.21722,     0.21822,     0.21922,     0.22022,     0.22122,     0.22222,     0.22322,     0.22422,     0.22523,     0.22623,     0.22723,     0.22823,     0.22923,     0.23023,     0.23123,     0.23223,     0.23323,     0.23423,     0.23524,     0.23624,     0.23724,     0.23824,     0.23924,\n",
       "           0.24024,     0.24124,     0.24224,     0.24324,     0.24424,     0.24525,     0.24625,     0.24725,     0.24825,     0.24925,     0.25025,     0.25125,     0.25225,     0.25325,     0.25425,     0.25526,     0.25626,     0.25726,     0.25826,     0.25926,     0.26026,     0.26126,     0.26226,     0.26326,\n",
       "           0.26426,     0.26527,     0.26627,     0.26727,     0.26827,     0.26927,     0.27027,     0.27127,     0.27227,     0.27327,     0.27427,     0.27528,     0.27628,     0.27728,     0.27828,     0.27928,     0.28028,     0.28128,     0.28228,     0.28328,     0.28428,     0.28529,     0.28629,     0.28729,\n",
       "           0.28829,     0.28929,     0.29029,     0.29129,     0.29229,     0.29329,     0.29429,      0.2953,      0.2963,      0.2973,      0.2983,      0.2993,      0.3003,      0.3013,      0.3023,      0.3033,      0.3043,     0.30531,     0.30631,     0.30731,     0.30831,     0.30931,     0.31031,     0.31131,\n",
       "           0.31231,     0.31331,     0.31431,     0.31532,     0.31632,     0.31732,     0.31832,     0.31932,     0.32032,     0.32132,     0.32232,     0.32332,     0.32432,     0.32533,     0.32633,     0.32733,     0.32833,     0.32933,     0.33033,     0.33133,     0.33233,     0.33333,     0.33433,     0.33534,\n",
       "           0.33634,     0.33734,     0.33834,     0.33934,     0.34034,     0.34134,     0.34234,     0.34334,     0.34434,     0.34535,     0.34635,     0.34735,     0.34835,     0.34935,     0.35035,     0.35135,     0.35235,     0.35335,     0.35435,     0.35536,     0.35636,     0.35736,     0.35836,     0.35936,\n",
       "           0.36036,     0.36136,     0.36236,     0.36336,     0.36436,     0.36537,     0.36637,     0.36737,     0.36837,     0.36937,     0.37037,     0.37137,     0.37237,     0.37337,     0.37437,     0.37538,     0.37638,     0.37738,     0.37838,     0.37938,     0.38038,     0.38138,     0.38238,     0.38338,\n",
       "           0.38438,     0.38539,     0.38639,     0.38739,     0.38839,     0.38939,     0.39039,     0.39139,     0.39239,     0.39339,     0.39439,      0.3954,      0.3964,      0.3974,      0.3984,      0.3994,      0.4004,      0.4014,      0.4024,      0.4034,      0.4044,     0.40541,     0.40641,     0.40741,\n",
       "           0.40841,     0.40941,     0.41041,     0.41141,     0.41241,     0.41341,     0.41441,     0.41542,     0.41642,     0.41742,     0.41842,     0.41942,     0.42042,     0.42142,     0.42242,     0.42342,     0.42442,     0.42543,     0.42643,     0.42743,     0.42843,     0.42943,     0.43043,     0.43143,\n",
       "           0.43243,     0.43343,     0.43443,     0.43544,     0.43644,     0.43744,     0.43844,     0.43944,     0.44044,     0.44144,     0.44244,     0.44344,     0.44444,     0.44545,     0.44645,     0.44745,     0.44845,     0.44945,     0.45045,     0.45145,     0.45245,     0.45345,     0.45445,     0.45546,\n",
       "           0.45646,     0.45746,     0.45846,     0.45946,     0.46046,     0.46146,     0.46246,     0.46346,     0.46446,     0.46547,     0.46647,     0.46747,     0.46847,     0.46947,     0.47047,     0.47147,     0.47247,     0.47347,     0.47447,     0.47548,     0.47648,     0.47748,     0.47848,     0.47948,\n",
       "           0.48048,     0.48148,     0.48248,     0.48348,     0.48448,     0.48549,     0.48649,     0.48749,     0.48849,     0.48949,     0.49049,     0.49149,     0.49249,     0.49349,     0.49449,      0.4955,      0.4965,      0.4975,      0.4985,      0.4995,      0.5005,      0.5015,      0.5025,      0.5035,\n",
       "            0.5045,     0.50551,     0.50651,     0.50751,     0.50851,     0.50951,     0.51051,     0.51151,     0.51251,     0.51351,     0.51451,     0.51552,     0.51652,     0.51752,     0.51852,     0.51952,     0.52052,     0.52152,     0.52252,     0.52352,     0.52452,     0.52553,     0.52653,     0.52753,\n",
       "           0.52853,     0.52953,     0.53053,     0.53153,     0.53253,     0.53353,     0.53453,     0.53554,     0.53654,     0.53754,     0.53854,     0.53954,     0.54054,     0.54154,     0.54254,     0.54354,     0.54454,     0.54555,     0.54655,     0.54755,     0.54855,     0.54955,     0.55055,     0.55155,\n",
       "           0.55255,     0.55355,     0.55455,     0.55556,     0.55656,     0.55756,     0.55856,     0.55956,     0.56056,     0.56156,     0.56256,     0.56356,     0.56456,     0.56557,     0.56657,     0.56757,     0.56857,     0.56957,     0.57057,     0.57157,     0.57257,     0.57357,     0.57457,     0.57558,\n",
       "           0.57658,     0.57758,     0.57858,     0.57958,     0.58058,     0.58158,     0.58258,     0.58358,     0.58458,     0.58559,     0.58659,     0.58759,     0.58859,     0.58959,     0.59059,     0.59159,     0.59259,     0.59359,     0.59459,      0.5956,      0.5966,      0.5976,      0.5986,      0.5996,\n",
       "            0.6006,      0.6016,      0.6026,      0.6036,      0.6046,     0.60561,     0.60661,     0.60761,     0.60861,     0.60961,     0.61061,     0.61161,     0.61261,     0.61361,     0.61461,     0.61562,     0.61662,     0.61762,     0.61862,     0.61962,     0.62062,     0.62162,     0.62262,     0.62362,\n",
       "           0.62462,     0.62563,     0.62663,     0.62763,     0.62863,     0.62963,     0.63063,     0.63163,     0.63263,     0.63363,     0.63463,     0.63564,     0.63664,     0.63764,     0.63864,     0.63964,     0.64064,     0.64164,     0.64264,     0.64364,     0.64464,     0.64565,     0.64665,     0.64765,\n",
       "           0.64865,     0.64965,     0.65065,     0.65165,     0.65265,     0.65365,     0.65465,     0.65566,     0.65666,     0.65766,     0.65866,     0.65966,     0.66066,     0.66166,     0.66266,     0.66366,     0.66466,     0.66567,     0.66667,     0.66767,     0.66867,     0.66967,     0.67067,     0.67167,\n",
       "           0.67267,     0.67367,     0.67467,     0.67568,     0.67668,     0.67768,     0.67868,     0.67968,     0.68068,     0.68168,     0.68268,     0.68368,     0.68468,     0.68569,     0.68669,     0.68769,     0.68869,     0.68969,     0.69069,     0.69169,     0.69269,     0.69369,     0.69469,      0.6957,\n",
       "            0.6967,      0.6977,      0.6987,      0.6997,      0.7007,      0.7017,      0.7027,      0.7037,      0.7047,     0.70571,     0.70671,     0.70771,     0.70871,     0.70971,     0.71071,     0.71171,     0.71271,     0.71371,     0.71471,     0.71572,     0.71672,     0.71772,     0.71872,     0.71972,\n",
       "           0.72072,     0.72172,     0.72272,     0.72372,     0.72472,     0.72573,     0.72673,     0.72773,     0.72873,     0.72973,     0.73073,     0.73173,     0.73273,     0.73373,     0.73473,     0.73574,     0.73674,     0.73774,     0.73874,     0.73974,     0.74074,     0.74174,     0.74274,     0.74374,\n",
       "           0.74474,     0.74575,     0.74675,     0.74775,     0.74875,     0.74975,     0.75075,     0.75175,     0.75275,     0.75375,     0.75475,     0.75576,     0.75676,     0.75776,     0.75876,     0.75976,     0.76076,     0.76176,     0.76276,     0.76376,     0.76476,     0.76577,     0.76677,     0.76777,\n",
       "           0.76877,     0.76977,     0.77077,     0.77177,     0.77277,     0.77377,     0.77477,     0.77578,     0.77678,     0.77778,     0.77878,     0.77978,     0.78078,     0.78178,     0.78278,     0.78378,     0.78478,     0.78579,     0.78679,     0.78779,     0.78879,     0.78979,     0.79079,     0.79179,\n",
       "           0.79279,     0.79379,     0.79479,      0.7958,      0.7968,      0.7978,      0.7988,      0.7998,      0.8008,      0.8018,      0.8028,      0.8038,      0.8048,     0.80581,     0.80681,     0.80781,     0.80881,     0.80981,     0.81081,     0.81181,     0.81281,     0.81381,     0.81481,     0.81582,\n",
       "           0.81682,     0.81782,     0.81882,     0.81982,     0.82082,     0.82182,     0.82282,     0.82382,     0.82482,     0.82583,     0.82683,     0.82783,     0.82883,     0.82983,     0.83083,     0.83183,     0.83283,     0.83383,     0.83483,     0.83584,     0.83684,     0.83784,     0.83884,     0.83984,\n",
       "           0.84084,     0.84184,     0.84284,     0.84384,     0.84484,     0.84585,     0.84685,     0.84785,     0.84885,     0.84985,     0.85085,     0.85185,     0.85285,     0.85385,     0.85485,     0.85586,     0.85686,     0.85786,     0.85886,     0.85986,     0.86086,     0.86186,     0.86286,     0.86386,\n",
       "           0.86486,     0.86587,     0.86687,     0.86787,     0.86887,     0.86987,     0.87087,     0.87187,     0.87287,     0.87387,     0.87487,     0.87588,     0.87688,     0.87788,     0.87888,     0.87988,     0.88088,     0.88188,     0.88288,     0.88388,     0.88488,     0.88589,     0.88689,     0.88789,\n",
       "           0.88889,     0.88989,     0.89089,     0.89189,     0.89289,     0.89389,     0.89489,      0.8959,      0.8969,      0.8979,      0.8989,      0.8999,      0.9009,      0.9019,      0.9029,      0.9039,      0.9049,     0.90591,     0.90691,     0.90791,     0.90891,     0.90991,     0.91091,     0.91191,\n",
       "           0.91291,     0.91391,     0.91491,     0.91592,     0.91692,     0.91792,     0.91892,     0.91992,     0.92092,     0.92192,     0.92292,     0.92392,     0.92492,     0.92593,     0.92693,     0.92793,     0.92893,     0.92993,     0.93093,     0.93193,     0.93293,     0.93393,     0.93493,     0.93594,\n",
       "           0.93694,     0.93794,     0.93894,     0.93994,     0.94094,     0.94194,     0.94294,     0.94394,     0.94494,     0.94595,     0.94695,     0.94795,     0.94895,     0.94995,     0.95095,     0.95195,     0.95295,     0.95395,     0.95495,     0.95596,     0.95696,     0.95796,     0.95896,     0.95996,\n",
       "           0.96096,     0.96196,     0.96296,     0.96396,     0.96496,     0.96597,     0.96697,     0.96797,     0.96897,     0.96997,     0.97097,     0.97197,     0.97297,     0.97397,     0.97497,     0.97598,     0.97698,     0.97798,     0.97898,     0.97998,     0.98098,     0.98198,     0.98298,     0.98398,\n",
       "           0.98498,     0.98599,     0.98699,     0.98799,     0.98899,     0.98999,     0.99099,     0.99199,     0.99299,     0.99399,     0.99499,       0.996,       0.997,       0.998,       0.999,           1]), array([[    0.37221,     0.37221,     0.51703,     0.60077,     0.64938,       0.691,     0.72283,     0.74638,     0.76432,     0.78093,     0.79334,     0.80468,     0.81314,     0.82272,     0.83178,     0.83815,     0.84564,     0.85167,     0.85573,     0.85999,     0.86276,     0.86617,     0.86994,\n",
       "            0.87364,     0.87729,     0.88029,     0.88171,     0.88395,     0.88614,     0.88781,     0.88944,     0.89183,      0.8937,     0.89651,     0.89723,     0.89846,     0.90009,     0.90142,     0.90236,     0.90394,     0.90501,     0.90742,     0.90949,     0.91054,     0.91124,     0.91242,\n",
       "            0.91337,     0.91446,      0.9167,     0.91722,     0.91828,     0.91963,     0.91999,     0.92058,     0.92153,     0.92214,     0.92286,     0.92341,     0.92365,     0.92391,     0.92465,     0.92493,     0.92541,     0.92579,     0.92578,     0.92662,     0.92708,      0.9278,     0.92838,\n",
       "            0.92835,     0.92847,     0.92872,     0.92911,     0.92997,     0.93018,     0.93062,     0.93133,     0.93176,     0.93254,     0.93282,     0.93301,     0.93354,     0.93374,     0.93376,     0.93425,     0.93441,     0.93469,     0.93501,     0.93502,     0.93523,      0.9356,     0.93568,\n",
       "            0.93637,     0.93652,     0.93661,     0.93647,     0.93684,     0.93696,     0.93703,     0.93709,     0.93718,     0.93767,     0.93834,     0.93875,     0.93914,     0.93941,     0.93976,     0.93989,     0.94027,     0.94061,     0.94088,     0.94098,     0.94124,     0.94132,     0.94163,\n",
       "            0.94188,     0.94198,     0.94224,     0.94277,      0.9432,     0.94334,     0.94359,     0.94371,     0.94401,     0.94435,     0.94475,      0.9448,      0.9452,     0.94539,      0.9461,     0.94669,      0.9468,     0.94702,     0.94707,     0.94712,     0.94716,     0.94728,     0.94745,\n",
       "            0.94794,     0.94837,     0.94865,     0.94877,     0.94894,       0.949,     0.94906,     0.94893,      0.9491,     0.94921,     0.94978,     0.94998,      0.9501,     0.95023,     0.95014,     0.95038,     0.95026,     0.95033,     0.95023,      0.9503,     0.95049,     0.95078,     0.95103,\n",
       "            0.95107,     0.95111,     0.95115,     0.95117,     0.95124,      0.9513,     0.95147,     0.95172,     0.95191,     0.95202,     0.95207,     0.95212,     0.95219,     0.95227,     0.95236,     0.95246,     0.95252,     0.95257,     0.95263,     0.95283,     0.95296,     0.95306,     0.95336,\n",
       "            0.95355,     0.95367,     0.95375,     0.95448,     0.95492,     0.95508,     0.95522,     0.95515,     0.95522,     0.95547,     0.95554,     0.95547,     0.95562,     0.95569,     0.95595,     0.95603,     0.95584,     0.95579,     0.95588,       0.956,      0.9562,     0.95617,     0.95627,\n",
       "            0.95636,     0.95647,     0.95681,     0.95691,     0.95694,     0.95697,     0.95701,     0.95704,     0.95714,     0.95712,     0.95707,     0.95713,      0.9572,     0.95743,     0.95757,     0.95762,     0.95768,     0.95773,     0.95777,     0.95782,     0.95787,     0.95792,     0.95798,\n",
       "            0.95804,     0.95806,     0.95819,     0.95813,     0.95807,     0.95799,     0.95783,     0.95796,     0.95824,     0.95838,     0.95846,     0.95838,     0.95849,     0.95851,     0.95853,     0.95855,     0.95856,     0.95858,      0.9586,     0.95862,     0.95864,     0.95872,     0.95888,\n",
       "            0.95916,     0.95924,     0.95932,      0.9593,     0.95928,     0.95925,     0.95922,      0.9592,     0.95917,     0.95915,     0.95923,      0.9593,     0.95941,     0.95957,      0.9598,     0.95985,     0.95988,     0.95991,     0.95994,     0.95997,     0.95988,     0.95984,      0.9599,\n",
       "            0.95995,     0.96004,     0.96014,     0.96025,     0.96042,     0.96053,      0.9606,     0.96089,     0.96095,     0.96089,     0.96083,     0.96087,     0.96107,     0.96113,     0.96122,     0.96123,     0.96124,     0.96149,     0.96154,     0.96159,     0.96171,     0.96184,      0.9619,\n",
       "            0.96231,     0.96238,     0.96245,      0.9626,     0.96299,     0.96308,     0.96287,     0.96289,       0.963,     0.96307,      0.9631,     0.96299,     0.96287,       0.963,     0.96309,     0.96298,     0.96309,     0.96311,     0.96312,     0.96314,     0.96316,     0.96318,      0.9632,\n",
       "            0.96322,     0.96323,     0.96325,     0.96327,     0.96328,     0.96329,     0.96331,     0.96332,     0.96334,     0.96335,     0.96336,     0.96338,     0.96339,     0.96341,     0.96342,     0.96365,     0.96372,     0.96384,     0.96402,     0.96415,     0.96425,     0.96409,     0.96412,\n",
       "            0.96416,     0.96419,     0.96422,     0.96425,     0.96413,     0.96415,     0.96425,     0.96442,     0.96449,     0.96455,     0.96461,     0.96468,     0.96474,     0.96488,     0.96482,     0.96475,      0.9648,     0.96485,      0.9649,     0.96495,     0.96499,     0.96504,     0.96509,\n",
       "            0.96484,     0.96477,     0.96471,     0.96464,     0.96458,     0.96456,     0.96462,     0.96469,     0.96459,     0.96436,     0.96428,     0.96422,     0.96416,     0.96426,     0.96431,     0.96426,     0.96421,     0.96416,     0.96425,     0.96433,     0.96436,     0.96439,     0.96442,\n",
       "            0.96445,     0.96449,     0.96463,     0.96447,     0.96453,      0.9646,     0.96467,     0.96476,     0.96482,     0.96484,     0.96487,      0.9649,     0.96492,     0.96495,     0.96497,     0.96502,     0.96507,     0.96511,     0.96519,     0.96537,     0.96554,     0.96547,     0.96544,\n",
       "            0.96542,     0.96539,     0.96536,     0.96533,      0.9653,     0.96532,     0.96534,     0.96537,     0.96539,     0.96542,     0.96545,     0.96549,     0.96563,     0.96557,      0.9655,     0.96543,     0.96534,      0.9653,     0.96538,     0.96542,     0.96535,     0.96528,      0.9652,\n",
       "             0.9651,     0.96504,     0.96499,     0.96495,      0.9649,     0.96503,     0.96511,     0.96517,     0.96523,     0.96539,     0.96532,     0.96523,     0.96521,     0.96502,     0.96496,      0.9649,     0.96485,     0.96495,     0.96494,     0.96486,     0.96495,      0.9648,     0.96476,\n",
       "            0.96472,     0.96468,     0.96465,     0.96452,     0.96433,     0.96414,     0.96405,     0.96401,     0.96397,     0.96394,      0.9639,     0.96403,     0.96392,     0.96398,     0.96404,     0.96402,     0.96404,     0.96419,     0.96453,     0.96461,     0.96452,     0.96469,     0.96473,\n",
       "            0.96476,      0.9648,     0.96483,     0.96485,     0.96475,     0.96469,     0.96475,     0.96481,     0.96469,     0.96478,     0.96482,     0.96475,     0.96469,     0.96507,     0.96515,      0.9651,     0.96506,     0.96501,      0.9652,     0.96529,     0.96522,      0.9652,     0.96529,\n",
       "            0.96528,     0.96521,     0.96515,     0.96506,     0.96497,     0.96498,     0.96503,     0.96507,     0.96511,     0.96501,      0.9651,     0.96519,     0.96528,      0.9651,     0.96503,     0.96497,     0.96492,     0.96525,     0.96523,     0.96521,     0.96518,     0.96516,     0.96514,\n",
       "            0.96511,     0.96509,     0.96502,     0.96491,       0.965,     0.96509,     0.96518,     0.96521,     0.96514,     0.96508,     0.96495,     0.96483,     0.96476,      0.9647,     0.96471,     0.96477,     0.96482,     0.96478,     0.96469,     0.96459,      0.9645,     0.96461,     0.96463,\n",
       "            0.96461,     0.96458,     0.96456,     0.96454,     0.96452,     0.96449,     0.96447,     0.96444,     0.96439,     0.96434,     0.96429,     0.96406,     0.96403,     0.96399,     0.96395,     0.96391,     0.96358,     0.96346,     0.96336,     0.96341,      0.9635,     0.96343,     0.96334,\n",
       "            0.96338,     0.96344,     0.96349,     0.96306,       0.963,     0.96293,     0.96273,     0.96259,     0.96265,     0.96271,     0.96271,     0.96267,     0.96263,      0.9626,     0.96256,     0.96229,     0.96219,     0.96224,     0.96233,     0.96223,     0.96232,     0.96197,     0.96199,\n",
       "            0.96202,     0.96204,     0.96207,     0.96209,     0.96212,     0.96202,     0.96164,     0.96145,     0.96133,     0.96125,     0.96118,     0.96116,     0.96114,     0.96112,     0.96109,     0.96107,     0.96105,     0.96103,       0.961,     0.96117,     0.96099,      0.9608,     0.96061,\n",
       "            0.96059,     0.96042,      0.9606,     0.96071,     0.96026,     0.96031,     0.96013,     0.96007,        0.96,     0.95984,      0.9597,     0.95955,     0.95934,     0.95899,     0.95889,     0.95878,     0.95865,     0.95881,     0.95862,     0.95842,     0.95824,     0.95833,      0.9584,\n",
       "            0.95827,      0.9581,     0.95796,     0.95813,     0.95805,     0.95808,     0.95793,     0.95778,     0.95772,     0.95767,     0.95761,     0.95752,     0.95742,     0.95723,     0.95675,     0.95674,     0.95677,     0.95668,     0.95643,     0.95605,     0.95599,     0.95592,     0.95586,\n",
       "            0.95578,      0.9557,     0.95554,     0.95539,     0.95505,     0.95487,     0.95474,     0.95485,     0.95479,     0.95474,     0.95462,     0.95435,     0.95442,     0.95411,     0.95372,     0.95353,     0.95345,     0.95337,     0.95294,     0.95291,     0.95287,     0.95284,     0.95281,\n",
       "            0.95277,     0.95269,     0.95259,     0.95251,     0.95243,     0.95204,     0.95191,     0.95181,     0.95135,     0.95126,     0.95119,     0.95078,      0.9507,     0.95062,     0.95047,     0.95018,     0.95003,     0.95015,     0.95005,     0.94946,     0.94912,       0.949,     0.94892,\n",
       "            0.94884,     0.94866,     0.94839,     0.94825,     0.94806,     0.94767,     0.94755,     0.94752,     0.94734,     0.94717,     0.94688,     0.94629,     0.94618,     0.94604,     0.94612,     0.94557,     0.94547,      0.9449,      0.9447,     0.94435,     0.94417,     0.94404,     0.94365,\n",
       "            0.94351,     0.94286,     0.94265,     0.94235,     0.94206,     0.94221,     0.94192,     0.94176,     0.94122,     0.94064,     0.94053,     0.94041,     0.94003,     0.93993,     0.93984,     0.93976,     0.93967,      0.9392,     0.93902,     0.93888,     0.93868,     0.93848,     0.93778,\n",
       "            0.93764,     0.93757,     0.93751,     0.93726,     0.93664,     0.93627,     0.93613,     0.93555,     0.93539,       0.935,     0.93447,     0.93438,      0.9343,     0.93382,      0.9338,     0.93318,      0.9329,     0.93247,     0.93167,     0.93146,     0.93078,     0.93044,     0.93017,\n",
       "            0.92981,     0.92919,     0.92912,     0.92905,     0.92815,     0.92788,     0.92697,     0.92684,     0.92649,     0.92623,     0.92566,      0.9248,     0.92401,     0.92383,     0.92337,     0.92205,     0.92191,      0.9214,     0.92067,     0.92046,     0.92003,      0.9192,     0.91849,\n",
       "            0.91732,      0.9167,     0.91624,     0.91536,     0.91509,     0.91389,     0.91248,      0.9122,     0.91115,     0.91036,     0.91026,     0.90984,     0.90906,     0.90889,     0.90825,     0.90723,     0.90687,     0.90624,     0.90558,     0.90527,     0.90463,     0.90421,     0.90361,\n",
       "             0.9026,     0.90175,     0.90147,     0.90048,     0.90034,     0.89979,     0.89968,     0.89948,     0.89905,     0.89847,     0.89829,     0.89785,     0.89742,     0.89698,     0.89676,      0.8962,     0.89607,     0.89572,     0.89563,     0.89533,     0.89525,     0.89518,     0.89442,\n",
       "            0.89424,     0.89417,      0.8941,     0.89397,     0.89345,     0.89244,     0.89205,     0.89194,     0.89156,     0.89101,     0.89078,      0.8897,     0.88926,     0.88882,     0.88861,      0.8885,     0.88832,     0.88768,     0.88756,     0.88737,     0.88675,     0.88637,      0.8852,\n",
       "            0.88461,     0.88419,     0.88404,     0.88382,      0.8836,     0.88194,     0.88127,     0.88005,     0.87938,     0.87847,     0.87815,     0.87748,      0.8767,     0.87642,      0.8759,     0.87523,       0.874,     0.87325,     0.87293,     0.87146,     0.87092,     0.87021,     0.86806,\n",
       "             0.8675,     0.86742,     0.86516,     0.86218,     0.86184,     0.86029,     0.85934,     0.85821,     0.85656,     0.85577,     0.85415,     0.85275,     0.85141,     0.84912,     0.84858,       0.847,     0.84644,     0.84313,     0.84052,     0.83836,     0.83668,     0.83618,      0.8333,\n",
       "            0.82895,     0.82796,     0.82479,     0.82233,     0.82036,     0.81714,     0.81341,     0.80965,     0.80663,      0.8041,     0.80206,     0.79968,     0.79584,     0.79093,      0.7873,     0.78259,     0.78048,     0.77598,     0.77251,     0.76715,     0.75958,     0.75437,     0.74996,\n",
       "            0.74412,     0.73795,     0.73086,     0.72328,     0.71573,     0.71044,     0.69796,     0.69223,     0.68186,      0.6735,     0.66487,      0.6547,      0.6476,     0.63895,     0.62235,     0.61302,     0.60376,     0.58238,     0.56726,     0.55071,     0.53492,     0.51527,     0.49188,\n",
       "            0.46856,     0.45641,     0.42279,     0.39819,     0.36679,     0.33058,     0.30603,      0.2633,     0.22905,      0.1968,     0.15615,     0.12552,    0.097068,    0.073013,    0.040896,    0.026487,    0.014659,    0.010428,   0.0061783,   0.0044873,   0.0030586,   0.0024994,    0.002043,\n",
       "          0.0016807,   0.0012859,  0.00080242,           0,           0,           0,           0,           0,           0,           0,           0]]), 'Confidence', 'F1'], [array([          0,    0.001001,    0.002002,    0.003003,    0.004004,    0.005005,    0.006006,    0.007007,    0.008008,    0.009009,     0.01001,    0.011011,    0.012012,    0.013013,    0.014014,    0.015015,    0.016016,    0.017017,    0.018018,    0.019019,     0.02002,    0.021021,    0.022022,    0.023023,\n",
       "          0.024024,    0.025025,    0.026026,    0.027027,    0.028028,    0.029029,     0.03003,    0.031031,    0.032032,    0.033033,    0.034034,    0.035035,    0.036036,    0.037037,    0.038038,    0.039039,     0.04004,    0.041041,    0.042042,    0.043043,    0.044044,    0.045045,    0.046046,    0.047047,\n",
       "          0.048048,    0.049049,     0.05005,    0.051051,    0.052052,    0.053053,    0.054054,    0.055055,    0.056056,    0.057057,    0.058058,    0.059059,     0.06006,    0.061061,    0.062062,    0.063063,    0.064064,    0.065065,    0.066066,    0.067067,    0.068068,    0.069069,     0.07007,    0.071071,\n",
       "          0.072072,    0.073073,    0.074074,    0.075075,    0.076076,    0.077077,    0.078078,    0.079079,     0.08008,    0.081081,    0.082082,    0.083083,    0.084084,    0.085085,    0.086086,    0.087087,    0.088088,    0.089089,     0.09009,    0.091091,    0.092092,    0.093093,    0.094094,    0.095095,\n",
       "          0.096096,    0.097097,    0.098098,    0.099099,      0.1001,      0.1011,      0.1021,      0.1031,      0.1041,     0.10511,     0.10611,     0.10711,     0.10811,     0.10911,     0.11011,     0.11111,     0.11211,     0.11311,     0.11411,     0.11512,     0.11612,     0.11712,     0.11812,     0.11912,\n",
       "           0.12012,     0.12112,     0.12212,     0.12312,     0.12412,     0.12513,     0.12613,     0.12713,     0.12813,     0.12913,     0.13013,     0.13113,     0.13213,     0.13313,     0.13413,     0.13514,     0.13614,     0.13714,     0.13814,     0.13914,     0.14014,     0.14114,     0.14214,     0.14314,\n",
       "           0.14414,     0.14515,     0.14615,     0.14715,     0.14815,     0.14915,     0.15015,     0.15115,     0.15215,     0.15315,     0.15415,     0.15516,     0.15616,     0.15716,     0.15816,     0.15916,     0.16016,     0.16116,     0.16216,     0.16316,     0.16416,     0.16517,     0.16617,     0.16717,\n",
       "           0.16817,     0.16917,     0.17017,     0.17117,     0.17217,     0.17317,     0.17417,     0.17518,     0.17618,     0.17718,     0.17818,     0.17918,     0.18018,     0.18118,     0.18218,     0.18318,     0.18418,     0.18519,     0.18619,     0.18719,     0.18819,     0.18919,     0.19019,     0.19119,\n",
       "           0.19219,     0.19319,     0.19419,      0.1952,      0.1962,      0.1972,      0.1982,      0.1992,      0.2002,      0.2012,      0.2022,      0.2032,      0.2042,     0.20521,     0.20621,     0.20721,     0.20821,     0.20921,     0.21021,     0.21121,     0.21221,     0.21321,     0.21421,     0.21522,\n",
       "           0.21622,     0.21722,     0.21822,     0.21922,     0.22022,     0.22122,     0.22222,     0.22322,     0.22422,     0.22523,     0.22623,     0.22723,     0.22823,     0.22923,     0.23023,     0.23123,     0.23223,     0.23323,     0.23423,     0.23524,     0.23624,     0.23724,     0.23824,     0.23924,\n",
       "           0.24024,     0.24124,     0.24224,     0.24324,     0.24424,     0.24525,     0.24625,     0.24725,     0.24825,     0.24925,     0.25025,     0.25125,     0.25225,     0.25325,     0.25425,     0.25526,     0.25626,     0.25726,     0.25826,     0.25926,     0.26026,     0.26126,     0.26226,     0.26326,\n",
       "           0.26426,     0.26527,     0.26627,     0.26727,     0.26827,     0.26927,     0.27027,     0.27127,     0.27227,     0.27327,     0.27427,     0.27528,     0.27628,     0.27728,     0.27828,     0.27928,     0.28028,     0.28128,     0.28228,     0.28328,     0.28428,     0.28529,     0.28629,     0.28729,\n",
       "           0.28829,     0.28929,     0.29029,     0.29129,     0.29229,     0.29329,     0.29429,      0.2953,      0.2963,      0.2973,      0.2983,      0.2993,      0.3003,      0.3013,      0.3023,      0.3033,      0.3043,     0.30531,     0.30631,     0.30731,     0.30831,     0.30931,     0.31031,     0.31131,\n",
       "           0.31231,     0.31331,     0.31431,     0.31532,     0.31632,     0.31732,     0.31832,     0.31932,     0.32032,     0.32132,     0.32232,     0.32332,     0.32432,     0.32533,     0.32633,     0.32733,     0.32833,     0.32933,     0.33033,     0.33133,     0.33233,     0.33333,     0.33433,     0.33534,\n",
       "           0.33634,     0.33734,     0.33834,     0.33934,     0.34034,     0.34134,     0.34234,     0.34334,     0.34434,     0.34535,     0.34635,     0.34735,     0.34835,     0.34935,     0.35035,     0.35135,     0.35235,     0.35335,     0.35435,     0.35536,     0.35636,     0.35736,     0.35836,     0.35936,\n",
       "           0.36036,     0.36136,     0.36236,     0.36336,     0.36436,     0.36537,     0.36637,     0.36737,     0.36837,     0.36937,     0.37037,     0.37137,     0.37237,     0.37337,     0.37437,     0.37538,     0.37638,     0.37738,     0.37838,     0.37938,     0.38038,     0.38138,     0.38238,     0.38338,\n",
       "           0.38438,     0.38539,     0.38639,     0.38739,     0.38839,     0.38939,     0.39039,     0.39139,     0.39239,     0.39339,     0.39439,      0.3954,      0.3964,      0.3974,      0.3984,      0.3994,      0.4004,      0.4014,      0.4024,      0.4034,      0.4044,     0.40541,     0.40641,     0.40741,\n",
       "           0.40841,     0.40941,     0.41041,     0.41141,     0.41241,     0.41341,     0.41441,     0.41542,     0.41642,     0.41742,     0.41842,     0.41942,     0.42042,     0.42142,     0.42242,     0.42342,     0.42442,     0.42543,     0.42643,     0.42743,     0.42843,     0.42943,     0.43043,     0.43143,\n",
       "           0.43243,     0.43343,     0.43443,     0.43544,     0.43644,     0.43744,     0.43844,     0.43944,     0.44044,     0.44144,     0.44244,     0.44344,     0.44444,     0.44545,     0.44645,     0.44745,     0.44845,     0.44945,     0.45045,     0.45145,     0.45245,     0.45345,     0.45445,     0.45546,\n",
       "           0.45646,     0.45746,     0.45846,     0.45946,     0.46046,     0.46146,     0.46246,     0.46346,     0.46446,     0.46547,     0.46647,     0.46747,     0.46847,     0.46947,     0.47047,     0.47147,     0.47247,     0.47347,     0.47447,     0.47548,     0.47648,     0.47748,     0.47848,     0.47948,\n",
       "           0.48048,     0.48148,     0.48248,     0.48348,     0.48448,     0.48549,     0.48649,     0.48749,     0.48849,     0.48949,     0.49049,     0.49149,     0.49249,     0.49349,     0.49449,      0.4955,      0.4965,      0.4975,      0.4985,      0.4995,      0.5005,      0.5015,      0.5025,      0.5035,\n",
       "            0.5045,     0.50551,     0.50651,     0.50751,     0.50851,     0.50951,     0.51051,     0.51151,     0.51251,     0.51351,     0.51451,     0.51552,     0.51652,     0.51752,     0.51852,     0.51952,     0.52052,     0.52152,     0.52252,     0.52352,     0.52452,     0.52553,     0.52653,     0.52753,\n",
       "           0.52853,     0.52953,     0.53053,     0.53153,     0.53253,     0.53353,     0.53453,     0.53554,     0.53654,     0.53754,     0.53854,     0.53954,     0.54054,     0.54154,     0.54254,     0.54354,     0.54454,     0.54555,     0.54655,     0.54755,     0.54855,     0.54955,     0.55055,     0.55155,\n",
       "           0.55255,     0.55355,     0.55455,     0.55556,     0.55656,     0.55756,     0.55856,     0.55956,     0.56056,     0.56156,     0.56256,     0.56356,     0.56456,     0.56557,     0.56657,     0.56757,     0.56857,     0.56957,     0.57057,     0.57157,     0.57257,     0.57357,     0.57457,     0.57558,\n",
       "           0.57658,     0.57758,     0.57858,     0.57958,     0.58058,     0.58158,     0.58258,     0.58358,     0.58458,     0.58559,     0.58659,     0.58759,     0.58859,     0.58959,     0.59059,     0.59159,     0.59259,     0.59359,     0.59459,      0.5956,      0.5966,      0.5976,      0.5986,      0.5996,\n",
       "            0.6006,      0.6016,      0.6026,      0.6036,      0.6046,     0.60561,     0.60661,     0.60761,     0.60861,     0.60961,     0.61061,     0.61161,     0.61261,     0.61361,     0.61461,     0.61562,     0.61662,     0.61762,     0.61862,     0.61962,     0.62062,     0.62162,     0.62262,     0.62362,\n",
       "           0.62462,     0.62563,     0.62663,     0.62763,     0.62863,     0.62963,     0.63063,     0.63163,     0.63263,     0.63363,     0.63463,     0.63564,     0.63664,     0.63764,     0.63864,     0.63964,     0.64064,     0.64164,     0.64264,     0.64364,     0.64464,     0.64565,     0.64665,     0.64765,\n",
       "           0.64865,     0.64965,     0.65065,     0.65165,     0.65265,     0.65365,     0.65465,     0.65566,     0.65666,     0.65766,     0.65866,     0.65966,     0.66066,     0.66166,     0.66266,     0.66366,     0.66466,     0.66567,     0.66667,     0.66767,     0.66867,     0.66967,     0.67067,     0.67167,\n",
       "           0.67267,     0.67367,     0.67467,     0.67568,     0.67668,     0.67768,     0.67868,     0.67968,     0.68068,     0.68168,     0.68268,     0.68368,     0.68468,     0.68569,     0.68669,     0.68769,     0.68869,     0.68969,     0.69069,     0.69169,     0.69269,     0.69369,     0.69469,      0.6957,\n",
       "            0.6967,      0.6977,      0.6987,      0.6997,      0.7007,      0.7017,      0.7027,      0.7037,      0.7047,     0.70571,     0.70671,     0.70771,     0.70871,     0.70971,     0.71071,     0.71171,     0.71271,     0.71371,     0.71471,     0.71572,     0.71672,     0.71772,     0.71872,     0.71972,\n",
       "           0.72072,     0.72172,     0.72272,     0.72372,     0.72472,     0.72573,     0.72673,     0.72773,     0.72873,     0.72973,     0.73073,     0.73173,     0.73273,     0.73373,     0.73473,     0.73574,     0.73674,     0.73774,     0.73874,     0.73974,     0.74074,     0.74174,     0.74274,     0.74374,\n",
       "           0.74474,     0.74575,     0.74675,     0.74775,     0.74875,     0.74975,     0.75075,     0.75175,     0.75275,     0.75375,     0.75475,     0.75576,     0.75676,     0.75776,     0.75876,     0.75976,     0.76076,     0.76176,     0.76276,     0.76376,     0.76476,     0.76577,     0.76677,     0.76777,\n",
       "           0.76877,     0.76977,     0.77077,     0.77177,     0.77277,     0.77377,     0.77477,     0.77578,     0.77678,     0.77778,     0.77878,     0.77978,     0.78078,     0.78178,     0.78278,     0.78378,     0.78478,     0.78579,     0.78679,     0.78779,     0.78879,     0.78979,     0.79079,     0.79179,\n",
       "           0.79279,     0.79379,     0.79479,      0.7958,      0.7968,      0.7978,      0.7988,      0.7998,      0.8008,      0.8018,      0.8028,      0.8038,      0.8048,     0.80581,     0.80681,     0.80781,     0.80881,     0.80981,     0.81081,     0.81181,     0.81281,     0.81381,     0.81481,     0.81582,\n",
       "           0.81682,     0.81782,     0.81882,     0.81982,     0.82082,     0.82182,     0.82282,     0.82382,     0.82482,     0.82583,     0.82683,     0.82783,     0.82883,     0.82983,     0.83083,     0.83183,     0.83283,     0.83383,     0.83483,     0.83584,     0.83684,     0.83784,     0.83884,     0.83984,\n",
       "           0.84084,     0.84184,     0.84284,     0.84384,     0.84484,     0.84585,     0.84685,     0.84785,     0.84885,     0.84985,     0.85085,     0.85185,     0.85285,     0.85385,     0.85485,     0.85586,     0.85686,     0.85786,     0.85886,     0.85986,     0.86086,     0.86186,     0.86286,     0.86386,\n",
       "           0.86486,     0.86587,     0.86687,     0.86787,     0.86887,     0.86987,     0.87087,     0.87187,     0.87287,     0.87387,     0.87487,     0.87588,     0.87688,     0.87788,     0.87888,     0.87988,     0.88088,     0.88188,     0.88288,     0.88388,     0.88488,     0.88589,     0.88689,     0.88789,\n",
       "           0.88889,     0.88989,     0.89089,     0.89189,     0.89289,     0.89389,     0.89489,      0.8959,      0.8969,      0.8979,      0.8989,      0.8999,      0.9009,      0.9019,      0.9029,      0.9039,      0.9049,     0.90591,     0.90691,     0.90791,     0.90891,     0.90991,     0.91091,     0.91191,\n",
       "           0.91291,     0.91391,     0.91491,     0.91592,     0.91692,     0.91792,     0.91892,     0.91992,     0.92092,     0.92192,     0.92292,     0.92392,     0.92492,     0.92593,     0.92693,     0.92793,     0.92893,     0.92993,     0.93093,     0.93193,     0.93293,     0.93393,     0.93493,     0.93594,\n",
       "           0.93694,     0.93794,     0.93894,     0.93994,     0.94094,     0.94194,     0.94294,     0.94394,     0.94494,     0.94595,     0.94695,     0.94795,     0.94895,     0.94995,     0.95095,     0.95195,     0.95295,     0.95395,     0.95495,     0.95596,     0.95696,     0.95796,     0.95896,     0.95996,\n",
       "           0.96096,     0.96196,     0.96296,     0.96396,     0.96496,     0.96597,     0.96697,     0.96797,     0.96897,     0.96997,     0.97097,     0.97197,     0.97297,     0.97397,     0.97497,     0.97598,     0.97698,     0.97798,     0.97898,     0.97998,     0.98098,     0.98198,     0.98298,     0.98398,\n",
       "           0.98498,     0.98599,     0.98699,     0.98799,     0.98899,     0.98999,     0.99099,     0.99199,     0.99299,     0.99399,     0.99499,       0.996,       0.997,       0.998,       0.999,           1]), array([[    0.22897,     0.22897,     0.34969,     0.43121,      0.4833,      0.5309,     0.56954,     0.59934,     0.62296,     0.64564,     0.66294,      0.6791,      0.6914,     0.70537,     0.71899,     0.72856,     0.73996,     0.74924,     0.75575,     0.76242,      0.7668,     0.77242,     0.77865,\n",
       "            0.78459,     0.79051,     0.79562,     0.79818,     0.80232,     0.80619,     0.80895,     0.81166,     0.81564,     0.81903,       0.824,     0.82522,      0.8273,     0.83007,     0.83234,     0.83498,     0.83768,     0.83951,     0.84367,     0.84752,     0.84935,     0.85058,     0.85263,\n",
       "            0.85455,     0.85646,      0.8604,     0.86132,      0.8632,     0.86557,     0.86649,     0.86755,     0.86923,     0.87032,      0.8716,     0.87259,     0.87329,     0.87447,     0.87593,     0.87664,     0.87757,     0.87829,     0.87853,     0.88004,     0.88088,     0.88218,     0.88323,\n",
       "            0.88346,     0.88368,     0.88413,     0.88484,      0.8864,     0.88678,     0.88757,     0.88888,     0.88966,     0.89108,     0.89159,     0.89194,     0.89291,     0.89327,      0.8936,      0.8945,     0.89509,     0.89561,     0.89637,     0.89681,      0.8972,     0.89788,     0.89804,\n",
       "             0.8993,     0.89987,     0.90005,     0.90007,     0.90077,       0.901,     0.90112,     0.90124,     0.90141,      0.9023,     0.90386,     0.90461,     0.90534,     0.90594,     0.90679,     0.90704,     0.90805,     0.90869,     0.90918,     0.90938,     0.90986,     0.91001,     0.91058,\n",
       "            0.91106,     0.91125,     0.91173,     0.91272,     0.91354,      0.9138,     0.91426,     0.91449,     0.91506,     0.91569,     0.91644,     0.91685,     0.91761,     0.91797,     0.91931,     0.92043,     0.92062,     0.92104,     0.92113,     0.92122,     0.92132,     0.92153,     0.92186,\n",
       "            0.92286,     0.92392,     0.92445,     0.92468,     0.92499,     0.92512,     0.92522,      0.9253,     0.92562,     0.92583,     0.92691,      0.9273,     0.92753,      0.9278,     0.92779,      0.9284,     0.92838,     0.92869,     0.92874,     0.92887,     0.92924,      0.9298,     0.93027,\n",
       "            0.93034,     0.93042,      0.9305,     0.93087,     0.93099,     0.93111,     0.93144,     0.93192,     0.93229,      0.9325,     0.93259,     0.93269,     0.93282,     0.93298,     0.93315,     0.93334,     0.93346,     0.93356,     0.93366,     0.93405,     0.93431,      0.9345,     0.93507,\n",
       "            0.93544,     0.93566,     0.93582,     0.93723,     0.93807,     0.93838,     0.93866,     0.93885,     0.93898,     0.93947,     0.93974,     0.93981,     0.94009,     0.94023,     0.94073,     0.94101,     0.94099,     0.94109,     0.94126,     0.94149,     0.94187,     0.94215,     0.94235,\n",
       "            0.94252,     0.94274,     0.94341,     0.94359,     0.94365,     0.94372,     0.94378,     0.94384,     0.94403,     0.94419,     0.94424,     0.94436,     0.94448,     0.94494,     0.94521,     0.94532,     0.94542,     0.94552,     0.94561,      0.9457,     0.94579,      0.9459,     0.94602,\n",
       "            0.94613,     0.94651,     0.94675,     0.94676,     0.94676,     0.94675,     0.94674,     0.94698,     0.94753,     0.94781,     0.94797,     0.94814,     0.94836,     0.94839,     0.94843,     0.94847,     0.94851,     0.94854,     0.94858,     0.94862,     0.94866,     0.94881,     0.94913,\n",
       "            0.94968,     0.94983,     0.94998,        0.95,        0.95,     0.94999,     0.94999,     0.94999,     0.94999,     0.94999,     0.95014,     0.95029,     0.95051,     0.95082,     0.95127,     0.95136,     0.95142,     0.95149,     0.95155,     0.95161,     0.95163,     0.95169,      0.9518,\n",
       "            0.95191,     0.95208,     0.95227,      0.9525,     0.95284,     0.95305,     0.95319,     0.95376,     0.95394,     0.95393,     0.95393,     0.95407,     0.95446,     0.95491,      0.9551,     0.95524,     0.95548,     0.95598,     0.95608,     0.95617,     0.95641,     0.95666,      0.9568,\n",
       "             0.9576,     0.95774,     0.95788,     0.95818,     0.95896,     0.95925,     0.95923,     0.95945,     0.95966,     0.95979,      0.9599,     0.95989,     0.96011,     0.96037,     0.96055,     0.96054,     0.96089,     0.96092,     0.96096,       0.961,     0.96103,     0.96107,     0.96111,\n",
       "            0.96114,     0.96118,     0.96122,     0.96124,     0.96127,      0.9613,     0.96133,     0.96135,     0.96138,     0.96141,     0.96144,     0.96147,     0.96149,     0.96152,     0.96155,     0.96202,     0.96216,      0.9624,     0.96274,     0.96301,     0.96321,     0.96324,     0.96331,\n",
       "            0.96337,     0.96343,      0.9635,     0.96356,     0.96357,     0.96371,     0.96392,     0.96426,     0.96438,     0.96451,     0.96464,     0.96476,     0.96489,     0.96527,     0.96527,     0.96526,     0.96536,     0.96546,     0.96556,     0.96566,     0.96575,     0.96585,     0.96594,\n",
       "            0.96593,     0.96592,     0.96592,     0.96592,     0.96591,     0.96595,     0.96608,     0.96621,     0.96624,     0.96623,     0.96622,     0.96622,     0.96622,     0.96642,     0.96656,     0.96656,     0.96655,     0.96655,     0.96711,     0.96727,     0.96733,     0.96739,     0.96745,\n",
       "            0.96751,     0.96759,     0.96791,     0.96792,     0.96805,     0.96817,     0.96832,      0.9685,     0.96862,     0.96867,     0.96872,     0.96878,     0.96883,     0.96888,     0.96893,     0.96902,     0.96912,     0.96921,     0.96937,     0.96972,     0.97008,     0.97031,     0.97031,\n",
       "            0.97031,     0.97031,     0.97031,     0.97031,      0.9703,     0.97034,     0.97039,     0.97045,      0.9705,     0.97055,     0.97061,      0.9707,       0.971,     0.97099,     0.97099,     0.97099,     0.97098,     0.97103,     0.97121,     0.97132,     0.97132,     0.97132,     0.97131,\n",
       "            0.97131,      0.9713,      0.9713,      0.9713,      0.9713,     0.97158,     0.97174,     0.97186,     0.97198,     0.97231,     0.97234,     0.97233,     0.97267,     0.97266,     0.97266,     0.97266,     0.97267,     0.97287,       0.973,     0.97306,     0.97324,     0.97333,     0.97333,\n",
       "            0.97333,     0.97333,     0.97332,     0.97332,     0.97331,      0.9733,     0.97329,     0.97329,     0.97329,     0.97329,     0.97329,     0.97356,     0.97372,     0.97384,     0.97396,     0.97428,     0.97467,       0.975,     0.97571,     0.97624,     0.97642,     0.97677,     0.97684,\n",
       "            0.97692,     0.97699,     0.97706,     0.97712,     0.97712,     0.97714,     0.97726,     0.97738,     0.97751,      0.9777,     0.97782,     0.97781,     0.97781,     0.97867,     0.97888,     0.97888,     0.97887,     0.97887,     0.97932,     0.97951,     0.97958,     0.97969,     0.97987,\n",
       "            0.97993,     0.97993,     0.97993,     0.97992,     0.97992,     0.97999,     0.98008,     0.98017,     0.98027,     0.98043,     0.98061,      0.9808,     0.98098,     0.98098,     0.98098,     0.98098,       0.981,     0.98169,     0.98169,     0.98169,     0.98169,     0.98169,     0.98169,\n",
       "            0.98169,     0.98169,     0.98168,     0.98173,     0.98192,      0.9821,     0.98229,      0.9824,      0.9824,     0.98239,     0.98239,     0.98238,     0.98238,     0.98238,     0.98245,     0.98257,      0.9827,     0.98274,     0.98273,     0.98273,     0.98273,       0.983,     0.98309,\n",
       "            0.98309,     0.98309,     0.98309,     0.98308,     0.98308,     0.98308,     0.98308,     0.98308,     0.98308,     0.98308,     0.98308,     0.98307,     0.98307,     0.98307,     0.98306,     0.98306,     0.98305,     0.98305,     0.98305,     0.98319,     0.98337,      0.9834,      0.9834,\n",
       "            0.98351,     0.98363,     0.98376,     0.98375,     0.98375,     0.98375,     0.98374,      0.9838,     0.98393,     0.98405,      0.9841,      0.9841,     0.98409,     0.98409,     0.98409,     0.98408,     0.98408,     0.98423,     0.98442,      0.9846,     0.98478,     0.98481,     0.98487,\n",
       "            0.98492,     0.98497,     0.98503,     0.98508,     0.98513,     0.98515,     0.98514,     0.98514,     0.98513,     0.98513,     0.98513,     0.98513,     0.98513,     0.98513,     0.98513,     0.98513,     0.98513,     0.98513,     0.98512,     0.98547,     0.98549,     0.98548,     0.98548,\n",
       "            0.98584,     0.98586,     0.98623,     0.98657,     0.98655,      0.9868,     0.98691,     0.98691,     0.98691,     0.98691,      0.9869,      0.9869,     0.98726,     0.98725,     0.98725,     0.98725,     0.98724,      0.9876,     0.98797,     0.98797,     0.98797,     0.98816,     0.98834,\n",
       "            0.98833,     0.98833,     0.98857,     0.98895,     0.98907,     0.98944,     0.98943,     0.98943,     0.98943,     0.98943,     0.98943,     0.98942,     0.98942,     0.98942,     0.98941,     0.98959,     0.98978,     0.98978,     0.98977,     0.98976,     0.98976,     0.98976,     0.98976,\n",
       "            0.98976,     0.98976,     0.98975,     0.98975,     0.98974,     0.98974,     0.98974,     0.99011,     0.99011,     0.99011,     0.99011,     0.99017,     0.99033,     0.99047,     0.99047,     0.99046,     0.99046,     0.99046,     0.99045,     0.99045,     0.99045,     0.99045,     0.99045,\n",
       "            0.99045,     0.99045,     0.99044,     0.99044,     0.99044,     0.99043,     0.99043,     0.99043,      0.9908,     0.99079,     0.99118,     0.99154,     0.99154,     0.99154,     0.99154,     0.99153,     0.99157,     0.99183,     0.99191,      0.9919,     0.99189,     0.99189,     0.99189,\n",
       "            0.99189,     0.99189,     0.99188,     0.99188,     0.99188,     0.99187,     0.99225,     0.99283,     0.99301,     0.99339,     0.99339,     0.99338,     0.99376,     0.99376,     0.99403,     0.99414,     0.99414,     0.99413,     0.99413,     0.99413,     0.99413,     0.99412,     0.99412,\n",
       "            0.99412,     0.99411,     0.99411,      0.9941,     0.99411,     0.99449,     0.99449,     0.99449,     0.99448,     0.99447,     0.99447,     0.99447,     0.99447,     0.99447,     0.99447,     0.99447,     0.99446,     0.99446,     0.99446,     0.99446,     0.99445,     0.99445,     0.99444,\n",
       "            0.99444,     0.99444,     0.99444,     0.99444,     0.99443,     0.99443,     0.99443,     0.99442,     0.99442,     0.99441,     0.99441,     0.99441,      0.9944,      0.9944,     0.99467,     0.99479,     0.99479,     0.99478,     0.99477,     0.99477,     0.99476,     0.99476,     0.99476,\n",
       "            0.99475,     0.99475,     0.99475,     0.99475,     0.99474,     0.99473,     0.99472,     0.99472,     0.99472,     0.99472,     0.99471,      0.9947,     0.99469,     0.99469,     0.99469,     0.99467,     0.99467,     0.99466,     0.99466,     0.99465,     0.99465,     0.99464,     0.99463,\n",
       "            0.99462,     0.99502,     0.99502,     0.99519,     0.99542,     0.99541,      0.9954,     0.99539,     0.99538,     0.99538,     0.99538,     0.99537,     0.99537,     0.99536,     0.99536,     0.99535,     0.99534,     0.99534,     0.99533,     0.99533,     0.99532,     0.99532,     0.99531,\n",
       "             0.9953,      0.9953,     0.99529,     0.99528,     0.99528,     0.99528,     0.99528,     0.99528,     0.99527,     0.99527,     0.99526,     0.99526,     0.99526,     0.99525,     0.99525,     0.99524,     0.99567,     0.99567,     0.99567,     0.99567,     0.99566,     0.99566,     0.99566,\n",
       "            0.99566,     0.99566,     0.99565,     0.99565,     0.99565,     0.99564,     0.99564,     0.99564,     0.99563,     0.99563,     0.99563,     0.99562,     0.99561,     0.99561,     0.99561,     0.99561,      0.9956,      0.9956,      0.9956,      0.9956,     0.99559,     0.99559,     0.99558,\n",
       "            0.99557,     0.99557,     0.99557,     0.99556,     0.99556,     0.99555,     0.99554,     0.99553,     0.99552,     0.99552,     0.99551,     0.99551,      0.9955,      0.9955,     0.99549,     0.99549,     0.99547,     0.99547,     0.99591,      0.9959,      0.9959,     0.99589,     0.99587,\n",
       "            0.99587,     0.99631,     0.99631,     0.99629,     0.99628,     0.99673,     0.99673,     0.99672,     0.99671,      0.9967,     0.99669,     0.99668,     0.99668,     0.99666,     0.99666,     0.99665,     0.99664,     0.99662,      0.9966,     0.99659,     0.99657,     0.99657,     0.99655,\n",
       "            0.99652,     0.99651,     0.99649,     0.99647,     0.99646,     0.99643,     0.99641,     0.99638,     0.99636,     0.99634,     0.99632,     0.99683,      0.9968,     0.99677,     0.99674,     0.99671,      0.9967,     0.99667,     0.99664,      0.9966,     0.99655,     0.99651,     0.99648,\n",
       "            0.99643,     0.99639,     0.99633,     0.99689,     0.99684,      0.9968,     0.99671,     0.99667,     0.99659,     0.99653,     0.99717,      0.9971,     0.99705,     0.99774,     0.99766,      0.9984,     0.99837,     0.99828,     0.99822,     0.99814,     0.99807,     0.99796,     0.99783,\n",
       "            0.99769,     0.99761,     0.99737,     0.99716,     0.99843,     0.99822,     0.99804,     0.99767,           1,           1,           1,           1,           1,           1,           1,           1,           1,           1,           1,           1,           1,           1,           1,\n",
       "                  1,           1,           1,           1,           1,           1,           1,           1,           1,           1,           1]]), 'Confidence', 'Precision'], [array([          0,    0.001001,    0.002002,    0.003003,    0.004004,    0.005005,    0.006006,    0.007007,    0.008008,    0.009009,     0.01001,    0.011011,    0.012012,    0.013013,    0.014014,    0.015015,    0.016016,    0.017017,    0.018018,    0.019019,     0.02002,    0.021021,    0.022022,    0.023023,\n",
       "          0.024024,    0.025025,    0.026026,    0.027027,    0.028028,    0.029029,     0.03003,    0.031031,    0.032032,    0.033033,    0.034034,    0.035035,    0.036036,    0.037037,    0.038038,    0.039039,     0.04004,    0.041041,    0.042042,    0.043043,    0.044044,    0.045045,    0.046046,    0.047047,\n",
       "          0.048048,    0.049049,     0.05005,    0.051051,    0.052052,    0.053053,    0.054054,    0.055055,    0.056056,    0.057057,    0.058058,    0.059059,     0.06006,    0.061061,    0.062062,    0.063063,    0.064064,    0.065065,    0.066066,    0.067067,    0.068068,    0.069069,     0.07007,    0.071071,\n",
       "          0.072072,    0.073073,    0.074074,    0.075075,    0.076076,    0.077077,    0.078078,    0.079079,     0.08008,    0.081081,    0.082082,    0.083083,    0.084084,    0.085085,    0.086086,    0.087087,    0.088088,    0.089089,     0.09009,    0.091091,    0.092092,    0.093093,    0.094094,    0.095095,\n",
       "          0.096096,    0.097097,    0.098098,    0.099099,      0.1001,      0.1011,      0.1021,      0.1031,      0.1041,     0.10511,     0.10611,     0.10711,     0.10811,     0.10911,     0.11011,     0.11111,     0.11211,     0.11311,     0.11411,     0.11512,     0.11612,     0.11712,     0.11812,     0.11912,\n",
       "           0.12012,     0.12112,     0.12212,     0.12312,     0.12412,     0.12513,     0.12613,     0.12713,     0.12813,     0.12913,     0.13013,     0.13113,     0.13213,     0.13313,     0.13413,     0.13514,     0.13614,     0.13714,     0.13814,     0.13914,     0.14014,     0.14114,     0.14214,     0.14314,\n",
       "           0.14414,     0.14515,     0.14615,     0.14715,     0.14815,     0.14915,     0.15015,     0.15115,     0.15215,     0.15315,     0.15415,     0.15516,     0.15616,     0.15716,     0.15816,     0.15916,     0.16016,     0.16116,     0.16216,     0.16316,     0.16416,     0.16517,     0.16617,     0.16717,\n",
       "           0.16817,     0.16917,     0.17017,     0.17117,     0.17217,     0.17317,     0.17417,     0.17518,     0.17618,     0.17718,     0.17818,     0.17918,     0.18018,     0.18118,     0.18218,     0.18318,     0.18418,     0.18519,     0.18619,     0.18719,     0.18819,     0.18919,     0.19019,     0.19119,\n",
       "           0.19219,     0.19319,     0.19419,      0.1952,      0.1962,      0.1972,      0.1982,      0.1992,      0.2002,      0.2012,      0.2022,      0.2032,      0.2042,     0.20521,     0.20621,     0.20721,     0.20821,     0.20921,     0.21021,     0.21121,     0.21221,     0.21321,     0.21421,     0.21522,\n",
       "           0.21622,     0.21722,     0.21822,     0.21922,     0.22022,     0.22122,     0.22222,     0.22322,     0.22422,     0.22523,     0.22623,     0.22723,     0.22823,     0.22923,     0.23023,     0.23123,     0.23223,     0.23323,     0.23423,     0.23524,     0.23624,     0.23724,     0.23824,     0.23924,\n",
       "           0.24024,     0.24124,     0.24224,     0.24324,     0.24424,     0.24525,     0.24625,     0.24725,     0.24825,     0.24925,     0.25025,     0.25125,     0.25225,     0.25325,     0.25425,     0.25526,     0.25626,     0.25726,     0.25826,     0.25926,     0.26026,     0.26126,     0.26226,     0.26326,\n",
       "           0.26426,     0.26527,     0.26627,     0.26727,     0.26827,     0.26927,     0.27027,     0.27127,     0.27227,     0.27327,     0.27427,     0.27528,     0.27628,     0.27728,     0.27828,     0.27928,     0.28028,     0.28128,     0.28228,     0.28328,     0.28428,     0.28529,     0.28629,     0.28729,\n",
       "           0.28829,     0.28929,     0.29029,     0.29129,     0.29229,     0.29329,     0.29429,      0.2953,      0.2963,      0.2973,      0.2983,      0.2993,      0.3003,      0.3013,      0.3023,      0.3033,      0.3043,     0.30531,     0.30631,     0.30731,     0.30831,     0.30931,     0.31031,     0.31131,\n",
       "           0.31231,     0.31331,     0.31431,     0.31532,     0.31632,     0.31732,     0.31832,     0.31932,     0.32032,     0.32132,     0.32232,     0.32332,     0.32432,     0.32533,     0.32633,     0.32733,     0.32833,     0.32933,     0.33033,     0.33133,     0.33233,     0.33333,     0.33433,     0.33534,\n",
       "           0.33634,     0.33734,     0.33834,     0.33934,     0.34034,     0.34134,     0.34234,     0.34334,     0.34434,     0.34535,     0.34635,     0.34735,     0.34835,     0.34935,     0.35035,     0.35135,     0.35235,     0.35335,     0.35435,     0.35536,     0.35636,     0.35736,     0.35836,     0.35936,\n",
       "           0.36036,     0.36136,     0.36236,     0.36336,     0.36436,     0.36537,     0.36637,     0.36737,     0.36837,     0.36937,     0.37037,     0.37137,     0.37237,     0.37337,     0.37437,     0.37538,     0.37638,     0.37738,     0.37838,     0.37938,     0.38038,     0.38138,     0.38238,     0.38338,\n",
       "           0.38438,     0.38539,     0.38639,     0.38739,     0.38839,     0.38939,     0.39039,     0.39139,     0.39239,     0.39339,     0.39439,      0.3954,      0.3964,      0.3974,      0.3984,      0.3994,      0.4004,      0.4014,      0.4024,      0.4034,      0.4044,     0.40541,     0.40641,     0.40741,\n",
       "           0.40841,     0.40941,     0.41041,     0.41141,     0.41241,     0.41341,     0.41441,     0.41542,     0.41642,     0.41742,     0.41842,     0.41942,     0.42042,     0.42142,     0.42242,     0.42342,     0.42442,     0.42543,     0.42643,     0.42743,     0.42843,     0.42943,     0.43043,     0.43143,\n",
       "           0.43243,     0.43343,     0.43443,     0.43544,     0.43644,     0.43744,     0.43844,     0.43944,     0.44044,     0.44144,     0.44244,     0.44344,     0.44444,     0.44545,     0.44645,     0.44745,     0.44845,     0.44945,     0.45045,     0.45145,     0.45245,     0.45345,     0.45445,     0.45546,\n",
       "           0.45646,     0.45746,     0.45846,     0.45946,     0.46046,     0.46146,     0.46246,     0.46346,     0.46446,     0.46547,     0.46647,     0.46747,     0.46847,     0.46947,     0.47047,     0.47147,     0.47247,     0.47347,     0.47447,     0.47548,     0.47648,     0.47748,     0.47848,     0.47948,\n",
       "           0.48048,     0.48148,     0.48248,     0.48348,     0.48448,     0.48549,     0.48649,     0.48749,     0.48849,     0.48949,     0.49049,     0.49149,     0.49249,     0.49349,     0.49449,      0.4955,      0.4965,      0.4975,      0.4985,      0.4995,      0.5005,      0.5015,      0.5025,      0.5035,\n",
       "            0.5045,     0.50551,     0.50651,     0.50751,     0.50851,     0.50951,     0.51051,     0.51151,     0.51251,     0.51351,     0.51451,     0.51552,     0.51652,     0.51752,     0.51852,     0.51952,     0.52052,     0.52152,     0.52252,     0.52352,     0.52452,     0.52553,     0.52653,     0.52753,\n",
       "           0.52853,     0.52953,     0.53053,     0.53153,     0.53253,     0.53353,     0.53453,     0.53554,     0.53654,     0.53754,     0.53854,     0.53954,     0.54054,     0.54154,     0.54254,     0.54354,     0.54454,     0.54555,     0.54655,     0.54755,     0.54855,     0.54955,     0.55055,     0.55155,\n",
       "           0.55255,     0.55355,     0.55455,     0.55556,     0.55656,     0.55756,     0.55856,     0.55956,     0.56056,     0.56156,     0.56256,     0.56356,     0.56456,     0.56557,     0.56657,     0.56757,     0.56857,     0.56957,     0.57057,     0.57157,     0.57257,     0.57357,     0.57457,     0.57558,\n",
       "           0.57658,     0.57758,     0.57858,     0.57958,     0.58058,     0.58158,     0.58258,     0.58358,     0.58458,     0.58559,     0.58659,     0.58759,     0.58859,     0.58959,     0.59059,     0.59159,     0.59259,     0.59359,     0.59459,      0.5956,      0.5966,      0.5976,      0.5986,      0.5996,\n",
       "            0.6006,      0.6016,      0.6026,      0.6036,      0.6046,     0.60561,     0.60661,     0.60761,     0.60861,     0.60961,     0.61061,     0.61161,     0.61261,     0.61361,     0.61461,     0.61562,     0.61662,     0.61762,     0.61862,     0.61962,     0.62062,     0.62162,     0.62262,     0.62362,\n",
       "           0.62462,     0.62563,     0.62663,     0.62763,     0.62863,     0.62963,     0.63063,     0.63163,     0.63263,     0.63363,     0.63463,     0.63564,     0.63664,     0.63764,     0.63864,     0.63964,     0.64064,     0.64164,     0.64264,     0.64364,     0.64464,     0.64565,     0.64665,     0.64765,\n",
       "           0.64865,     0.64965,     0.65065,     0.65165,     0.65265,     0.65365,     0.65465,     0.65566,     0.65666,     0.65766,     0.65866,     0.65966,     0.66066,     0.66166,     0.66266,     0.66366,     0.66466,     0.66567,     0.66667,     0.66767,     0.66867,     0.66967,     0.67067,     0.67167,\n",
       "           0.67267,     0.67367,     0.67467,     0.67568,     0.67668,     0.67768,     0.67868,     0.67968,     0.68068,     0.68168,     0.68268,     0.68368,     0.68468,     0.68569,     0.68669,     0.68769,     0.68869,     0.68969,     0.69069,     0.69169,     0.69269,     0.69369,     0.69469,      0.6957,\n",
       "            0.6967,      0.6977,      0.6987,      0.6997,      0.7007,      0.7017,      0.7027,      0.7037,      0.7047,     0.70571,     0.70671,     0.70771,     0.70871,     0.70971,     0.71071,     0.71171,     0.71271,     0.71371,     0.71471,     0.71572,     0.71672,     0.71772,     0.71872,     0.71972,\n",
       "           0.72072,     0.72172,     0.72272,     0.72372,     0.72472,     0.72573,     0.72673,     0.72773,     0.72873,     0.72973,     0.73073,     0.73173,     0.73273,     0.73373,     0.73473,     0.73574,     0.73674,     0.73774,     0.73874,     0.73974,     0.74074,     0.74174,     0.74274,     0.74374,\n",
       "           0.74474,     0.74575,     0.74675,     0.74775,     0.74875,     0.74975,     0.75075,     0.75175,     0.75275,     0.75375,     0.75475,     0.75576,     0.75676,     0.75776,     0.75876,     0.75976,     0.76076,     0.76176,     0.76276,     0.76376,     0.76476,     0.76577,     0.76677,     0.76777,\n",
       "           0.76877,     0.76977,     0.77077,     0.77177,     0.77277,     0.77377,     0.77477,     0.77578,     0.77678,     0.77778,     0.77878,     0.77978,     0.78078,     0.78178,     0.78278,     0.78378,     0.78478,     0.78579,     0.78679,     0.78779,     0.78879,     0.78979,     0.79079,     0.79179,\n",
       "           0.79279,     0.79379,     0.79479,      0.7958,      0.7968,      0.7978,      0.7988,      0.7998,      0.8008,      0.8018,      0.8028,      0.8038,      0.8048,     0.80581,     0.80681,     0.80781,     0.80881,     0.80981,     0.81081,     0.81181,     0.81281,     0.81381,     0.81481,     0.81582,\n",
       "           0.81682,     0.81782,     0.81882,     0.81982,     0.82082,     0.82182,     0.82282,     0.82382,     0.82482,     0.82583,     0.82683,     0.82783,     0.82883,     0.82983,     0.83083,     0.83183,     0.83283,     0.83383,     0.83483,     0.83584,     0.83684,     0.83784,     0.83884,     0.83984,\n",
       "           0.84084,     0.84184,     0.84284,     0.84384,     0.84484,     0.84585,     0.84685,     0.84785,     0.84885,     0.84985,     0.85085,     0.85185,     0.85285,     0.85385,     0.85485,     0.85586,     0.85686,     0.85786,     0.85886,     0.85986,     0.86086,     0.86186,     0.86286,     0.86386,\n",
       "           0.86486,     0.86587,     0.86687,     0.86787,     0.86887,     0.86987,     0.87087,     0.87187,     0.87287,     0.87387,     0.87487,     0.87588,     0.87688,     0.87788,     0.87888,     0.87988,     0.88088,     0.88188,     0.88288,     0.88388,     0.88488,     0.88589,     0.88689,     0.88789,\n",
       "           0.88889,     0.88989,     0.89089,     0.89189,     0.89289,     0.89389,     0.89489,      0.8959,      0.8969,      0.8979,      0.8989,      0.8999,      0.9009,      0.9019,      0.9029,      0.9039,      0.9049,     0.90591,     0.90691,     0.90791,     0.90891,     0.90991,     0.91091,     0.91191,\n",
       "           0.91291,     0.91391,     0.91491,     0.91592,     0.91692,     0.91792,     0.91892,     0.91992,     0.92092,     0.92192,     0.92292,     0.92392,     0.92492,     0.92593,     0.92693,     0.92793,     0.92893,     0.92993,     0.93093,     0.93193,     0.93293,     0.93393,     0.93493,     0.93594,\n",
       "           0.93694,     0.93794,     0.93894,     0.93994,     0.94094,     0.94194,     0.94294,     0.94394,     0.94494,     0.94595,     0.94695,     0.94795,     0.94895,     0.94995,     0.95095,     0.95195,     0.95295,     0.95395,     0.95495,     0.95596,     0.95696,     0.95796,     0.95896,     0.95996,\n",
       "           0.96096,     0.96196,     0.96296,     0.96396,     0.96496,     0.96597,     0.96697,     0.96797,     0.96897,     0.96997,     0.97097,     0.97197,     0.97297,     0.97397,     0.97497,     0.97598,     0.97698,     0.97798,     0.97898,     0.97998,     0.98098,     0.98198,     0.98298,     0.98398,\n",
       "           0.98498,     0.98599,     0.98699,     0.98799,     0.98899,     0.98999,     0.99099,     0.99199,     0.99299,     0.99399,     0.99499,       0.996,       0.997,       0.998,       0.999,           1]), array([[    0.99398,     0.99398,      0.9915,     0.99008,     0.98938,     0.98938,     0.98902,     0.98902,     0.98867,     0.98796,     0.98761,     0.98725,      0.9869,      0.9869,     0.98654,     0.98654,     0.98654,     0.98654,     0.98619,     0.98619,     0.98619,     0.98584,     0.98548,\n",
       "            0.98548,     0.98548,     0.98513,     0.98477,     0.98407,     0.98371,     0.98371,     0.98371,     0.98371,     0.98336,       0.983,       0.983,       0.983,       0.983,       0.983,     0.98159,     0.98159,     0.98159,     0.98159,     0.98123,     0.98123,     0.98123,     0.98123,\n",
       "            0.98088,     0.98088,     0.98088,     0.98088,     0.98088,     0.98088,     0.98052,     0.98052,     0.98052,     0.98052,     0.98052,     0.98052,     0.98017,     0.97928,     0.97911,     0.97886,     0.97875,     0.97873,      0.9784,      0.9784,      0.9784,      0.9784,      0.9784,\n",
       "            0.97805,     0.97805,     0.97805,     0.97805,     0.97805,     0.97805,     0.97805,     0.97805,     0.97805,     0.97805,     0.97805,     0.97805,     0.97805,     0.97805,     0.97769,     0.97769,     0.97734,     0.97734,     0.97712,     0.97663,     0.97663,     0.97663,     0.97663,\n",
       "            0.97663,     0.97627,     0.97627,     0.97595,     0.97592,     0.97592,     0.97592,     0.97592,     0.97592,     0.97592,     0.97557,     0.97557,     0.97557,     0.97545,     0.97521,     0.97521,     0.97486,     0.97486,     0.97486,     0.97486,     0.97486,     0.97486,     0.97486,\n",
       "            0.97486,     0.97486,     0.97486,     0.97486,     0.97486,     0.97486,     0.97486,     0.97486,     0.97486,     0.97486,     0.97486,      0.9745,      0.9745,      0.9745,      0.9745,      0.9745,      0.9745,      0.9745,      0.9745,      0.9745,      0.9745,      0.9745,      0.9745,\n",
       "            0.97441,     0.97415,     0.97415,     0.97415,     0.97415,     0.97415,     0.97415,      0.9738,      0.9738,      0.9738,      0.9738,      0.9738,      0.9738,     0.97377,      0.9736,     0.97342,     0.97318,     0.97301,     0.97273,     0.97273,     0.97273,     0.97273,     0.97273,\n",
       "            0.97273,     0.97273,     0.97273,     0.97238,     0.97238,     0.97238,     0.97238,     0.97238,     0.97238,     0.97238,     0.97238,     0.97238,     0.97238,     0.97238,     0.97238,     0.97238,     0.97238,     0.97238,     0.97238,     0.97238,     0.97238,     0.97238,     0.97238,\n",
       "            0.97238,     0.97238,     0.97238,     0.97238,     0.97238,     0.97238,     0.97238,     0.97203,     0.97203,     0.97203,     0.97189,     0.97167,     0.97167,     0.97167,     0.97167,     0.97154,     0.97117,     0.97096,     0.97096,     0.97096,     0.97096,     0.97061,     0.97061,\n",
       "            0.97061,     0.97061,     0.97061,     0.97061,     0.97061,     0.97061,     0.97061,     0.97061,     0.97061,     0.97042,     0.97025,     0.97025,     0.97025,     0.97025,     0.97025,     0.97025,     0.97025,     0.97025,     0.97025,     0.97025,     0.97025,     0.97025,     0.97025,\n",
       "            0.97025,      0.9699,      0.9699,     0.96978,     0.96966,     0.96951,     0.96919,     0.96919,     0.96919,     0.96919,     0.96919,     0.96884,     0.96884,     0.96884,     0.96884,     0.96884,     0.96884,     0.96884,     0.96884,     0.96884,     0.96884,     0.96884,     0.96884,\n",
       "            0.96884,     0.96884,     0.96884,     0.96879,     0.96874,     0.96869,     0.96864,     0.96859,     0.96853,     0.96848,     0.96848,     0.96848,     0.96848,     0.96848,     0.96848,     0.96848,     0.96848,     0.96848,     0.96848,     0.96848,     0.96828,     0.96813,     0.96813,\n",
       "            0.96813,     0.96813,     0.96813,     0.96813,     0.96813,     0.96813,     0.96813,     0.96813,     0.96806,     0.96795,     0.96784,     0.96778,     0.96778,     0.96743,     0.96742,     0.96729,     0.96707,     0.96707,     0.96707,     0.96707,     0.96707,     0.96707,     0.96707,\n",
       "            0.96707,     0.96707,     0.96707,     0.96707,     0.96707,     0.96694,     0.96653,     0.96636,     0.96636,     0.96636,     0.96631,     0.96611,     0.96565,     0.96565,     0.96563,     0.96543,      0.9653,      0.9653,      0.9653,      0.9653,      0.9653,      0.9653,      0.9653,\n",
       "             0.9653,      0.9653,      0.9653,      0.9653,      0.9653,      0.9653,      0.9653,      0.9653,      0.9653,      0.9653,      0.9653,      0.9653,      0.9653,      0.9653,      0.9653,      0.9653,      0.9653,      0.9653,      0.9653,      0.9653,      0.9653,     0.96494,     0.96494,\n",
       "            0.96494,     0.96494,     0.96494,     0.96494,     0.96468,     0.96459,     0.96459,     0.96459,     0.96459,     0.96459,     0.96459,     0.96459,     0.96459,      0.9645,     0.96437,     0.96424,     0.96424,     0.96424,     0.96424,     0.96424,     0.96424,     0.96424,     0.96424,\n",
       "            0.96376,     0.96363,      0.9635,     0.96338,     0.96325,     0.96317,     0.96317,     0.96317,     0.96294,      0.9625,     0.96235,     0.96223,     0.96211,     0.96211,     0.96208,     0.96198,     0.96189,     0.96179,      0.9614,      0.9614,      0.9614,      0.9614,      0.9614,\n",
       "             0.9614,      0.9614,     0.96137,     0.96105,     0.96105,     0.96105,     0.96105,     0.96105,     0.96105,     0.96105,     0.96105,     0.96105,     0.96105,     0.96105,     0.96105,     0.96105,     0.96105,     0.96105,     0.96105,     0.96105,     0.96105,     0.96068,     0.96062,\n",
       "            0.96057,     0.96052,     0.96046,     0.96041,     0.96036,     0.96034,     0.96034,     0.96034,     0.96034,     0.96034,     0.96034,     0.96034,     0.96032,      0.9602,     0.96008,     0.95994,     0.95976,     0.95963,     0.95963,     0.95959,     0.95946,     0.95932,     0.95916,\n",
       "            0.95898,     0.95886,     0.95877,     0.95868,     0.95859,     0.95857,     0.95857,     0.95857,     0.95857,     0.95857,      0.9584,     0.95822,     0.95786,     0.95751,     0.95738,     0.95726,     0.95715,     0.95715,     0.95702,      0.9568,      0.9568,     0.95641,     0.95634,\n",
       "            0.95627,     0.95619,     0.95612,     0.95588,     0.95552,     0.95516,     0.95498,     0.95491,     0.95484,     0.95476,     0.95469,     0.95467,     0.95432,     0.95432,     0.95432,     0.95397,     0.95364,     0.95361,     0.95361,     0.95326,      0.9529,      0.9529,      0.9529,\n",
       "             0.9529,      0.9529,      0.9529,     0.95287,     0.95269,     0.95255,     0.95255,     0.95255,      0.9522,      0.9522,     0.95216,     0.95203,     0.95191,     0.95184,      0.9518,     0.95171,     0.95162,     0.95153,     0.95149,     0.95149,     0.95128,     0.95113,     0.95113,\n",
       "            0.95105,     0.95093,     0.95081,     0.95065,     0.95047,     0.95042,     0.95042,     0.95042,     0.95042,     0.95007,     0.95007,     0.95007,     0.95007,     0.94972,      0.9496,     0.94948,     0.94936,     0.94936,     0.94931,     0.94927,     0.94922,     0.94918,     0.94913,\n",
       "            0.94909,     0.94904,     0.94891,     0.94865,     0.94865,     0.94865,     0.94865,     0.94861,     0.94848,     0.94836,     0.94813,     0.94789,     0.94776,     0.94764,     0.94759,     0.94759,     0.94759,     0.94747,     0.94729,     0.94711,     0.94693,     0.94688,     0.94685,\n",
       "            0.94681,     0.94677,     0.94672,     0.94668,     0.94664,     0.94659,     0.94655,     0.94649,      0.9464,      0.9463,     0.94621,     0.94578,     0.94571,     0.94563,     0.94556,     0.94549,     0.94486,     0.94463,     0.94445,     0.94441,     0.94441,     0.94426,     0.94408,\n",
       "            0.94405,     0.94405,     0.94405,     0.94323,     0.94311,     0.94298,     0.94261,     0.94228,     0.94228,     0.94228,     0.94224,     0.94216,     0.94209,     0.94202,     0.94194,     0.94144,     0.94126,     0.94122,     0.94122,     0.94086,     0.94086,     0.94016,     0.94016,\n",
       "            0.94016,     0.94016,     0.94016,     0.94016,     0.94016,     0.93995,     0.93923,     0.93887,     0.93865,      0.9385,     0.93838,     0.93833,     0.93829,     0.93825,     0.93821,     0.93816,     0.93812,     0.93808,     0.93803,     0.93803,     0.93769,     0.93733,     0.93697,\n",
       "             0.9366,     0.93626,     0.93626,     0.93618,     0.93533,      0.9352,     0.93476,     0.93464,     0.93452,     0.93422,     0.93395,     0.93367,     0.93295,      0.9323,     0.93212,     0.93191,     0.93167,     0.93166,     0.93095,     0.93059,     0.93024,     0.93024,     0.93022,\n",
       "            0.92998,     0.92966,     0.92918,     0.92918,     0.92892,     0.92865,     0.92838,     0.92809,     0.92798,     0.92788,     0.92778,      0.9276,     0.92742,     0.92707,     0.92618,     0.92599,      0.9259,     0.92572,     0.92526,     0.92456,     0.92444,     0.92432,      0.9242,\n",
       "            0.92405,     0.92391,      0.9236,     0.92333,      0.9227,     0.92238,     0.92213,     0.92201,      0.9219,      0.9218,     0.92159,     0.92103,     0.92103,     0.92032,      0.9196,     0.91925,     0.91911,     0.91896,     0.91816,      0.9181,     0.91804,     0.91798,     0.91792,\n",
       "            0.91786,     0.91771,     0.91753,     0.91737,     0.91723,     0.91651,     0.91627,     0.91609,     0.91493,     0.91475,     0.91431,     0.91324,     0.91309,     0.91295,     0.91267,     0.91213,     0.91183,     0.91183,     0.91157,      0.9105,     0.90988,     0.90966,     0.90952,\n",
       "            0.90937,     0.90904,     0.90855,     0.90831,     0.90795,     0.90724,      0.9067,     0.90616,     0.90568,     0.90505,     0.90454,     0.90346,     0.90294,      0.9027,     0.90262,     0.90152,     0.90134,     0.90031,     0.89995,     0.89932,       0.899,     0.89876,     0.89805,\n",
       "             0.8978,     0.89664,     0.89626,     0.89572,     0.89518,     0.89515,     0.89463,     0.89434,     0.89337,     0.89233,     0.89214,     0.89193,     0.89125,     0.89107,      0.8909,     0.89075,     0.89061,     0.88975,     0.88943,     0.88919,     0.88884,     0.88848,     0.88723,\n",
       "            0.88698,     0.88686,     0.88674,     0.88631,      0.8852,     0.88453,     0.88429,     0.88326,     0.88298,     0.88228,     0.88134,     0.88119,     0.88105,      0.8802,     0.87996,     0.87876,     0.87826,     0.87751,      0.8761,     0.87572,     0.87453,     0.87392,     0.87346,\n",
       "            0.87283,     0.87174,     0.87162,      0.8715,     0.86992,     0.86944,     0.86787,     0.86762,     0.86702,     0.86657,     0.86557,     0.86408,      0.8627,     0.86239,      0.8616,     0.85931,     0.85907,     0.85818,     0.85693,     0.85657,     0.85583,     0.85439,     0.85318,\n",
       "            0.85117,      0.8498,     0.84901,     0.84738,     0.84676,     0.84471,     0.84232,     0.84184,     0.84005,     0.83873,     0.83855,     0.83785,     0.83653,     0.83624,     0.83516,     0.83345,     0.83285,     0.83177,     0.83067,     0.83016,     0.82909,     0.82837,     0.82739,\n",
       "             0.8257,     0.82428,     0.82382,     0.82217,     0.82193,     0.82103,     0.82084,      0.8205,     0.81979,     0.81883,     0.81853,     0.81781,      0.8171,     0.81638,     0.81602,     0.81509,     0.81458,       0.814,     0.81386,     0.81336,     0.81324,     0.81312,     0.81187,\n",
       "            0.81158,     0.81146,     0.81134,     0.81113,     0.81027,     0.80863,     0.80799,     0.80781,     0.80719,      0.8063,     0.80592,     0.80415,     0.80344,     0.80272,     0.80238,      0.8022,     0.80191,     0.80086,     0.80068,     0.80036,     0.79936,     0.79875,     0.79685,\n",
       "             0.7959,     0.79523,     0.79499,     0.79464,     0.79427,     0.79161,     0.79054,     0.78858,     0.78751,     0.78605,     0.78554,     0.78447,     0.78323,     0.78279,     0.78197,      0.7809,     0.77894,     0.77776,     0.77698,     0.77466,     0.77382,      0.7727,     0.76933,\n",
       "            0.76845,     0.76806,     0.76452,      0.7599,     0.75937,      0.7567,     0.75524,      0.7535,     0.75096,     0.74976,     0.74727,     0.74514,      0.7431,     0.73963,     0.73881,     0.73643,     0.73559,     0.73061,      0.7267,      0.7235,       0.721,     0.72026,     0.71601,\n",
       "            0.70962,     0.70818,     0.70356,         0.7,     0.69715,     0.69253,      0.6872,     0.68187,      0.6776,     0.67405,     0.67119,     0.66764,     0.66231,     0.65556,     0.65059,     0.64419,     0.64134,     0.63531,     0.63068,     0.62358,     0.61365,     0.60691,     0.60122,\n",
       "            0.59377,     0.58596,     0.57709,     0.56751,     0.55829,      0.5519,     0.53701,     0.53026,      0.5182,     0.50862,     0.49869,     0.48734,     0.47953,     0.46995,     0.45223,      0.4423,     0.43272,      0.4111,     0.39621,     0.38026,     0.36537,     0.34729,     0.32638,\n",
       "            0.30618,     0.29589,     0.26825,     0.24876,     0.22466,     0.19809,     0.18072,     0.15166,     0.12934,     0.10914,    0.084685,    0.066962,     0.05101,     0.03789,    0.020875,    0.013421,   0.0073834,   0.0052411,   0.0030987,   0.0022487,   0.0015316,   0.0012513,   0.0010225,\n",
       "         0.00084105,  0.00064335,  0.00040137,           0,           0,           0,           0,           0,           0,           0,           0]]), 'Confidence', 'Recall']]\n",
       "fitness: np.float64(0.9247807856924182)\n",
       "keys: ['metrics/precision(B)', 'metrics/recall(B)', 'metrics/mAP50(B)', 'metrics/mAP50-95(B)']\n",
       "maps: array([    0.91812,     0.91812])\n",
       "names: {0: 'fire', 1: 'no_fire'}\n",
       "plot: True\n",
       "results_dict: {'metrics/precision(B)': np.float64(0.9733324461207182), 'metrics/recall(B)': np.float64(0.9564120778001798), 'metrics/mAP50(B)': np.float64(0.9847709046466208), 'metrics/mAP50-95(B)': np.float64(0.918115216919729), 'fitness': np.float64(0.9247807856924182)}\n",
       "save_dir: PosixPath('runs/detect/train10')\n",
       "speed: {'preprocess': 0.13287290545040623, 'inference': 0.3035131510832476, 'loss': 0.00021699896344241652, 'postprocess': 0.6085029763842164}\n",
       "task: 'detect'"
      ]
     },
     "execution_count": 9,
     "metadata": {},
     "output_type": "execute_result"
    }
   ],
   "source": [
    "model.train(data=\"data.yaml\", epochs=80, imgsz=640, batch=16)"
   ]
  },
  {
   "cell_type": "code",
   "execution_count": 10,
   "metadata": {
    "scrolled": true
   },
   "outputs": [
    {
     "name": "stdout",
     "output_type": "stream",
     "text": [
      "Ultralytics 8.3.86 🚀 Python-3.11.10 torch-2.5.1+cu121 CUDA:0 (NVIDIA GeForce RTX 4090, 23995MiB)\n",
      "Model summary (fused): 72 layers, 3,006,038 parameters, 0 gradients, 8.1 GFLOPs\n"
     ]
    },
    {
     "name": "stderr",
     "output_type": "stream",
     "text": [
      "\u001b[34m\u001b[1mval: \u001b[0mScanning /fire-detection-project/fire_dataset/valid/labels.cache... 1159 images, 0 backgrounds, 0 corrupt: 100%|██████████| 1159/1159 [00:00<?, ?it/s]\n",
      "                 Class     Images  Instances      Box(P          R      mAP50  mAP50-95): 100%|██████████| 73/73 [00:05<00:00, 13.18it/s]\n"
     ]
    },
    {
     "name": "stdout",
     "output_type": "stream",
     "text": [
      "                   all       1159       2824      0.969      0.961      0.985      0.918\n",
      "                  fire       1159       2824      0.969      0.961      0.985      0.918\n",
      "Speed: 0.4ms preprocess, 0.8ms inference, 0.0ms loss, 0.6ms postprocess per image\n",
      "Results saved to \u001b[1mruns/detect/train102\u001b[0m\n",
      "ultralytics.utils.metrics.DetMetrics object with attributes:\n",
      "\n",
      "ap_class_index: array([0])\n",
      "box: ultralytics.utils.metrics.Metric object\n",
      "confusion_matrix: <ultralytics.utils.metrics.ConfusionMatrix object at 0x7a761c6b44d0>\n",
      "curves: ['Precision-Recall(B)', 'F1-Confidence(B)', 'Precision-Confidence(B)', 'Recall-Confidence(B)']\n",
      "curves_results: [[array([          0,    0.001001,    0.002002,    0.003003,    0.004004,    0.005005,    0.006006,    0.007007,    0.008008,    0.009009,     0.01001,    0.011011,    0.012012,    0.013013,    0.014014,    0.015015,    0.016016,    0.017017,    0.018018,    0.019019,     0.02002,    0.021021,    0.022022,    0.023023,\n",
      "          0.024024,    0.025025,    0.026026,    0.027027,    0.028028,    0.029029,     0.03003,    0.031031,    0.032032,    0.033033,    0.034034,    0.035035,    0.036036,    0.037037,    0.038038,    0.039039,     0.04004,    0.041041,    0.042042,    0.043043,    0.044044,    0.045045,    0.046046,    0.047047,\n",
      "          0.048048,    0.049049,     0.05005,    0.051051,    0.052052,    0.053053,    0.054054,    0.055055,    0.056056,    0.057057,    0.058058,    0.059059,     0.06006,    0.061061,    0.062062,    0.063063,    0.064064,    0.065065,    0.066066,    0.067067,    0.068068,    0.069069,     0.07007,    0.071071,\n",
      "          0.072072,    0.073073,    0.074074,    0.075075,    0.076076,    0.077077,    0.078078,    0.079079,     0.08008,    0.081081,    0.082082,    0.083083,    0.084084,    0.085085,    0.086086,    0.087087,    0.088088,    0.089089,     0.09009,    0.091091,    0.092092,    0.093093,    0.094094,    0.095095,\n",
      "          0.096096,    0.097097,    0.098098,    0.099099,      0.1001,      0.1011,      0.1021,      0.1031,      0.1041,     0.10511,     0.10611,     0.10711,     0.10811,     0.10911,     0.11011,     0.11111,     0.11211,     0.11311,     0.11411,     0.11512,     0.11612,     0.11712,     0.11812,     0.11912,\n",
      "           0.12012,     0.12112,     0.12212,     0.12312,     0.12412,     0.12513,     0.12613,     0.12713,     0.12813,     0.12913,     0.13013,     0.13113,     0.13213,     0.13313,     0.13413,     0.13514,     0.13614,     0.13714,     0.13814,     0.13914,     0.14014,     0.14114,     0.14214,     0.14314,\n",
      "           0.14414,     0.14515,     0.14615,     0.14715,     0.14815,     0.14915,     0.15015,     0.15115,     0.15215,     0.15315,     0.15415,     0.15516,     0.15616,     0.15716,     0.15816,     0.15916,     0.16016,     0.16116,     0.16216,     0.16316,     0.16416,     0.16517,     0.16617,     0.16717,\n",
      "           0.16817,     0.16917,     0.17017,     0.17117,     0.17217,     0.17317,     0.17417,     0.17518,     0.17618,     0.17718,     0.17818,     0.17918,     0.18018,     0.18118,     0.18218,     0.18318,     0.18418,     0.18519,     0.18619,     0.18719,     0.18819,     0.18919,     0.19019,     0.19119,\n",
      "           0.19219,     0.19319,     0.19419,      0.1952,      0.1962,      0.1972,      0.1982,      0.1992,      0.2002,      0.2012,      0.2022,      0.2032,      0.2042,     0.20521,     0.20621,     0.20721,     0.20821,     0.20921,     0.21021,     0.21121,     0.21221,     0.21321,     0.21421,     0.21522,\n",
      "           0.21622,     0.21722,     0.21822,     0.21922,     0.22022,     0.22122,     0.22222,     0.22322,     0.22422,     0.22523,     0.22623,     0.22723,     0.22823,     0.22923,     0.23023,     0.23123,     0.23223,     0.23323,     0.23423,     0.23524,     0.23624,     0.23724,     0.23824,     0.23924,\n",
      "           0.24024,     0.24124,     0.24224,     0.24324,     0.24424,     0.24525,     0.24625,     0.24725,     0.24825,     0.24925,     0.25025,     0.25125,     0.25225,     0.25325,     0.25425,     0.25526,     0.25626,     0.25726,     0.25826,     0.25926,     0.26026,     0.26126,     0.26226,     0.26326,\n",
      "           0.26426,     0.26527,     0.26627,     0.26727,     0.26827,     0.26927,     0.27027,     0.27127,     0.27227,     0.27327,     0.27427,     0.27528,     0.27628,     0.27728,     0.27828,     0.27928,     0.28028,     0.28128,     0.28228,     0.28328,     0.28428,     0.28529,     0.28629,     0.28729,\n",
      "           0.28829,     0.28929,     0.29029,     0.29129,     0.29229,     0.29329,     0.29429,      0.2953,      0.2963,      0.2973,      0.2983,      0.2993,      0.3003,      0.3013,      0.3023,      0.3033,      0.3043,     0.30531,     0.30631,     0.30731,     0.30831,     0.30931,     0.31031,     0.31131,\n",
      "           0.31231,     0.31331,     0.31431,     0.31532,     0.31632,     0.31732,     0.31832,     0.31932,     0.32032,     0.32132,     0.32232,     0.32332,     0.32432,     0.32533,     0.32633,     0.32733,     0.32833,     0.32933,     0.33033,     0.33133,     0.33233,     0.33333,     0.33433,     0.33534,\n",
      "           0.33634,     0.33734,     0.33834,     0.33934,     0.34034,     0.34134,     0.34234,     0.34334,     0.34434,     0.34535,     0.34635,     0.34735,     0.34835,     0.34935,     0.35035,     0.35135,     0.35235,     0.35335,     0.35435,     0.35536,     0.35636,     0.35736,     0.35836,     0.35936,\n",
      "           0.36036,     0.36136,     0.36236,     0.36336,     0.36436,     0.36537,     0.36637,     0.36737,     0.36837,     0.36937,     0.37037,     0.37137,     0.37237,     0.37337,     0.37437,     0.37538,     0.37638,     0.37738,     0.37838,     0.37938,     0.38038,     0.38138,     0.38238,     0.38338,\n",
      "           0.38438,     0.38539,     0.38639,     0.38739,     0.38839,     0.38939,     0.39039,     0.39139,     0.39239,     0.39339,     0.39439,      0.3954,      0.3964,      0.3974,      0.3984,      0.3994,      0.4004,      0.4014,      0.4024,      0.4034,      0.4044,     0.40541,     0.40641,     0.40741,\n",
      "           0.40841,     0.40941,     0.41041,     0.41141,     0.41241,     0.41341,     0.41441,     0.41542,     0.41642,     0.41742,     0.41842,     0.41942,     0.42042,     0.42142,     0.42242,     0.42342,     0.42442,     0.42543,     0.42643,     0.42743,     0.42843,     0.42943,     0.43043,     0.43143,\n",
      "           0.43243,     0.43343,     0.43443,     0.43544,     0.43644,     0.43744,     0.43844,     0.43944,     0.44044,     0.44144,     0.44244,     0.44344,     0.44444,     0.44545,     0.44645,     0.44745,     0.44845,     0.44945,     0.45045,     0.45145,     0.45245,     0.45345,     0.45445,     0.45546,\n",
      "           0.45646,     0.45746,     0.45846,     0.45946,     0.46046,     0.46146,     0.46246,     0.46346,     0.46446,     0.46547,     0.46647,     0.46747,     0.46847,     0.46947,     0.47047,     0.47147,     0.47247,     0.47347,     0.47447,     0.47548,     0.47648,     0.47748,     0.47848,     0.47948,\n",
      "           0.48048,     0.48148,     0.48248,     0.48348,     0.48448,     0.48549,     0.48649,     0.48749,     0.48849,     0.48949,     0.49049,     0.49149,     0.49249,     0.49349,     0.49449,      0.4955,      0.4965,      0.4975,      0.4985,      0.4995,      0.5005,      0.5015,      0.5025,      0.5035,\n",
      "            0.5045,     0.50551,     0.50651,     0.50751,     0.50851,     0.50951,     0.51051,     0.51151,     0.51251,     0.51351,     0.51451,     0.51552,     0.51652,     0.51752,     0.51852,     0.51952,     0.52052,     0.52152,     0.52252,     0.52352,     0.52452,     0.52553,     0.52653,     0.52753,\n",
      "           0.52853,     0.52953,     0.53053,     0.53153,     0.53253,     0.53353,     0.53453,     0.53554,     0.53654,     0.53754,     0.53854,     0.53954,     0.54054,     0.54154,     0.54254,     0.54354,     0.54454,     0.54555,     0.54655,     0.54755,     0.54855,     0.54955,     0.55055,     0.55155,\n",
      "           0.55255,     0.55355,     0.55455,     0.55556,     0.55656,     0.55756,     0.55856,     0.55956,     0.56056,     0.56156,     0.56256,     0.56356,     0.56456,     0.56557,     0.56657,     0.56757,     0.56857,     0.56957,     0.57057,     0.57157,     0.57257,     0.57357,     0.57457,     0.57558,\n",
      "           0.57658,     0.57758,     0.57858,     0.57958,     0.58058,     0.58158,     0.58258,     0.58358,     0.58458,     0.58559,     0.58659,     0.58759,     0.58859,     0.58959,     0.59059,     0.59159,     0.59259,     0.59359,     0.59459,      0.5956,      0.5966,      0.5976,      0.5986,      0.5996,\n",
      "            0.6006,      0.6016,      0.6026,      0.6036,      0.6046,     0.60561,     0.60661,     0.60761,     0.60861,     0.60961,     0.61061,     0.61161,     0.61261,     0.61361,     0.61461,     0.61562,     0.61662,     0.61762,     0.61862,     0.61962,     0.62062,     0.62162,     0.62262,     0.62362,\n",
      "           0.62462,     0.62563,     0.62663,     0.62763,     0.62863,     0.62963,     0.63063,     0.63163,     0.63263,     0.63363,     0.63463,     0.63564,     0.63664,     0.63764,     0.63864,     0.63964,     0.64064,     0.64164,     0.64264,     0.64364,     0.64464,     0.64565,     0.64665,     0.64765,\n",
      "           0.64865,     0.64965,     0.65065,     0.65165,     0.65265,     0.65365,     0.65465,     0.65566,     0.65666,     0.65766,     0.65866,     0.65966,     0.66066,     0.66166,     0.66266,     0.66366,     0.66466,     0.66567,     0.66667,     0.66767,     0.66867,     0.66967,     0.67067,     0.67167,\n",
      "           0.67267,     0.67367,     0.67467,     0.67568,     0.67668,     0.67768,     0.67868,     0.67968,     0.68068,     0.68168,     0.68268,     0.68368,     0.68468,     0.68569,     0.68669,     0.68769,     0.68869,     0.68969,     0.69069,     0.69169,     0.69269,     0.69369,     0.69469,      0.6957,\n",
      "            0.6967,      0.6977,      0.6987,      0.6997,      0.7007,      0.7017,      0.7027,      0.7037,      0.7047,     0.70571,     0.70671,     0.70771,     0.70871,     0.70971,     0.71071,     0.71171,     0.71271,     0.71371,     0.71471,     0.71572,     0.71672,     0.71772,     0.71872,     0.71972,\n",
      "           0.72072,     0.72172,     0.72272,     0.72372,     0.72472,     0.72573,     0.72673,     0.72773,     0.72873,     0.72973,     0.73073,     0.73173,     0.73273,     0.73373,     0.73473,     0.73574,     0.73674,     0.73774,     0.73874,     0.73974,     0.74074,     0.74174,     0.74274,     0.74374,\n",
      "           0.74474,     0.74575,     0.74675,     0.74775,     0.74875,     0.74975,     0.75075,     0.75175,     0.75275,     0.75375,     0.75475,     0.75576,     0.75676,     0.75776,     0.75876,     0.75976,     0.76076,     0.76176,     0.76276,     0.76376,     0.76476,     0.76577,     0.76677,     0.76777,\n",
      "           0.76877,     0.76977,     0.77077,     0.77177,     0.77277,     0.77377,     0.77477,     0.77578,     0.77678,     0.77778,     0.77878,     0.77978,     0.78078,     0.78178,     0.78278,     0.78378,     0.78478,     0.78579,     0.78679,     0.78779,     0.78879,     0.78979,     0.79079,     0.79179,\n",
      "           0.79279,     0.79379,     0.79479,      0.7958,      0.7968,      0.7978,      0.7988,      0.7998,      0.8008,      0.8018,      0.8028,      0.8038,      0.8048,     0.80581,     0.80681,     0.80781,     0.80881,     0.80981,     0.81081,     0.81181,     0.81281,     0.81381,     0.81481,     0.81582,\n",
      "           0.81682,     0.81782,     0.81882,     0.81982,     0.82082,     0.82182,     0.82282,     0.82382,     0.82482,     0.82583,     0.82683,     0.82783,     0.82883,     0.82983,     0.83083,     0.83183,     0.83283,     0.83383,     0.83483,     0.83584,     0.83684,     0.83784,     0.83884,     0.83984,\n",
      "           0.84084,     0.84184,     0.84284,     0.84384,     0.84484,     0.84585,     0.84685,     0.84785,     0.84885,     0.84985,     0.85085,     0.85185,     0.85285,     0.85385,     0.85485,     0.85586,     0.85686,     0.85786,     0.85886,     0.85986,     0.86086,     0.86186,     0.86286,     0.86386,\n",
      "           0.86486,     0.86587,     0.86687,     0.86787,     0.86887,     0.86987,     0.87087,     0.87187,     0.87287,     0.87387,     0.87487,     0.87588,     0.87688,     0.87788,     0.87888,     0.87988,     0.88088,     0.88188,     0.88288,     0.88388,     0.88488,     0.88589,     0.88689,     0.88789,\n",
      "           0.88889,     0.88989,     0.89089,     0.89189,     0.89289,     0.89389,     0.89489,      0.8959,      0.8969,      0.8979,      0.8989,      0.8999,      0.9009,      0.9019,      0.9029,      0.9039,      0.9049,     0.90591,     0.90691,     0.90791,     0.90891,     0.90991,     0.91091,     0.91191,\n",
      "           0.91291,     0.91391,     0.91491,     0.91592,     0.91692,     0.91792,     0.91892,     0.91992,     0.92092,     0.92192,     0.92292,     0.92392,     0.92492,     0.92593,     0.92693,     0.92793,     0.92893,     0.92993,     0.93093,     0.93193,     0.93293,     0.93393,     0.93493,     0.93594,\n",
      "           0.93694,     0.93794,     0.93894,     0.93994,     0.94094,     0.94194,     0.94294,     0.94394,     0.94494,     0.94595,     0.94695,     0.94795,     0.94895,     0.94995,     0.95095,     0.95195,     0.95295,     0.95395,     0.95495,     0.95596,     0.95696,     0.95796,     0.95896,     0.95996,\n",
      "           0.96096,     0.96196,     0.96296,     0.96396,     0.96496,     0.96597,     0.96697,     0.96797,     0.96897,     0.96997,     0.97097,     0.97197,     0.97297,     0.97397,     0.97497,     0.97598,     0.97698,     0.97798,     0.97898,     0.97998,     0.98098,     0.98198,     0.98298,     0.98398,\n",
      "           0.98498,     0.98599,     0.98699,     0.98799,     0.98899,     0.98999,     0.99099,     0.99199,     0.99299,     0.99399,     0.99499,       0.996,       0.997,       0.998,       0.999,           1]), array([[          1,           1,           1,           1,           1,           1,           1,           1,           1,           1,           1,           1,           1,           1,           1,           1,           1,           1,           1,           1,           1,           1,           1,\n",
      "                  1,           1,           1,           1,           1,           1,           1,           1,           1,           1,           1,           1,           1,           1,           1,           1,           1,           1,           1,           1,           1,           1,           1,\n",
      "                  1,           1,           1,           1,           1,           1,           1,           1,           1,           1,           1,           1,           1,           1,           1,           1,           1,           1,           1,           1,           1,           1,           1,\n",
      "                  1,           1,           1,           1,           1,           1,           1,           1,           1,           1,           1,           1,           1,           1,           1,           1,           1,           1,           1,           1,           1,           1,           1,\n",
      "                  1,           1,           1,           1,           1,           1,           1,           1,           1,           1,           1,           1,           1,           1,           1,           1,           1,           1,           1,           1,           1,           1,           1,\n",
      "                  1,           1,           1,           1,           1,           1,           1,           1,           1,           1,           1,           1,           1,           1,           1,           1,     0.99857,     0.99857,     0.99857,     0.99857,     0.99857,     0.99857,     0.99857,\n",
      "            0.99857,     0.99857,     0.99857,     0.99857,     0.99857,     0.99857,     0.99857,     0.99857,     0.99857,     0.99857,     0.99857,     0.99857,     0.99857,     0.99857,     0.99857,     0.99857,     0.99857,     0.99857,     0.99857,     0.99857,     0.99857,     0.99857,     0.99857,\n",
      "            0.99857,     0.99857,     0.99857,     0.99857,     0.99857,     0.99857,     0.99857,     0.99857,     0.99857,     0.99857,     0.99857,     0.99857,     0.99857,     0.99857,     0.99857,     0.99857,     0.99857,     0.99857,     0.99857,     0.99857,     0.99857,     0.99857,     0.99857,\n",
      "            0.99857,     0.99857,     0.99857,     0.99857,     0.99857,     0.99857,     0.99857,     0.99857,     0.99857,     0.99857,     0.99857,     0.99857,     0.99857,     0.99857,     0.99857,     0.99857,     0.99857,     0.99857,     0.99857,     0.99857,     0.99857,     0.99857,     0.99857,\n",
      "            0.99857,     0.99857,     0.99857,     0.99857,     0.99857,     0.99857,     0.99857,     0.99857,     0.99857,     0.99857,     0.99857,     0.99857,     0.99857,     0.99857,     0.99857,     0.99857,     0.99857,     0.99857,     0.99857,     0.99857,     0.99857,     0.99857,     0.99857,\n",
      "            0.99857,     0.99857,     0.99857,     0.99857,     0.99857,     0.99857,     0.99857,     0.99857,     0.99857,     0.99857,     0.99857,     0.99857,     0.99857,     0.99857,     0.99857,     0.99857,     0.99857,     0.99843,     0.99843,     0.99843,     0.99843,     0.99843,     0.99843,\n",
      "            0.99843,     0.99843,     0.99843,     0.99843,     0.99843,     0.99843,     0.99843,     0.99843,     0.99843,     0.99843,     0.99843,     0.99843,     0.99843,     0.99843,     0.99843,     0.99843,     0.99843,     0.99843,     0.99843,     0.99843,     0.99843,     0.99843,     0.99843,\n",
      "            0.99843,     0.99843,     0.99843,     0.99843,     0.99843,     0.99843,     0.99843,     0.99843,     0.99843,     0.99843,     0.99843,     0.99843,     0.99843,     0.99843,     0.99843,     0.99843,     0.99843,     0.99843,     0.99843,     0.99843,     0.99843,     0.99843,     0.99843,\n",
      "            0.99843,     0.99843,     0.99843,     0.99843,     0.99843,     0.99843,     0.99843,     0.99843,     0.99843,     0.99843,     0.99843,     0.99843,     0.99843,     0.99843,     0.99843,     0.99843,     0.99843,     0.99843,     0.99843,     0.99843,     0.99843,     0.99843,     0.99843,\n",
      "            0.99843,     0.99843,     0.99843,     0.99843,     0.99843,     0.99843,     0.99843,     0.99843,     0.99843,     0.99843,     0.99843,     0.99843,     0.99843,     0.99843,     0.99843,     0.99843,     0.99843,     0.99843,     0.99843,     0.99843,     0.99843,     0.99843,     0.99843,\n",
      "            0.99843,     0.99843,     0.99843,     0.99843,     0.99843,     0.99843,     0.99843,     0.99843,     0.99843,     0.99843,     0.99843,     0.99843,     0.99843,     0.99843,     0.99843,     0.99843,     0.99843,     0.99843,     0.99843,     0.99843,     0.99843,     0.99843,     0.99843,\n",
      "            0.99843,     0.99843,     0.99843,     0.99843,     0.99843,     0.99843,     0.99843,     0.99843,     0.99843,     0.99843,     0.99843,     0.99843,     0.99843,     0.99843,     0.99843,     0.99843,     0.99843,     0.99843,     0.99843,     0.99843,     0.99843,     0.99843,     0.99843,\n",
      "            0.99843,     0.99843,     0.99843,     0.99843,     0.99843,     0.99843,     0.99843,     0.99843,     0.99843,     0.99843,     0.99843,     0.99843,     0.99843,     0.99843,     0.99843,     0.99843,     0.99843,     0.99843,     0.99843,     0.99843,     0.99843,     0.99843,     0.99843,\n",
      "            0.99843,     0.99843,     0.99843,     0.99843,     0.99843,     0.99843,     0.99843,     0.99843,     0.99843,     0.99843,     0.99843,     0.99843,     0.99843,     0.99843,     0.99843,     0.99843,     0.99843,     0.99843,     0.99843,     0.99843,     0.99843,     0.99843,     0.99843,\n",
      "            0.99843,     0.99843,     0.99843,     0.99843,     0.99843,     0.99843,     0.99843,     0.99843,     0.99843,     0.99843,     0.99843,     0.99843,     0.99843,     0.99843,     0.99779,     0.99779,     0.99779,     0.99779,     0.99779,     0.99779,     0.99779,     0.99779,     0.99779,\n",
      "            0.99779,     0.99779,     0.99779,     0.99779,     0.99779,     0.99779,     0.99779,     0.99779,     0.99779,     0.99779,     0.99779,     0.99779,     0.99779,     0.99779,     0.99779,     0.99779,     0.99779,     0.99779,     0.99779,     0.99719,     0.99719,     0.99719,     0.99719,\n",
      "            0.99719,     0.99719,     0.99719,     0.99719,     0.99719,     0.99719,     0.99719,     0.99719,     0.99719,     0.99719,     0.99719,     0.99719,     0.99719,     0.99719,     0.99719,     0.99719,     0.99719,     0.99719,     0.99719,     0.99719,     0.99693,     0.99693,     0.99693,\n",
      "            0.99693,     0.99693,     0.99693,     0.99693,     0.99693,     0.99693,     0.99693,     0.99693,     0.99693,     0.99693,     0.99693,     0.99693,     0.99693,     0.99693,     0.99693,     0.99693,     0.99693,     0.99693,     0.99693,     0.99693,     0.99693,     0.99693,     0.99693,\n",
      "            0.99693,     0.99693,     0.99693,     0.99693,     0.99693,     0.99693,     0.99693,     0.99693,     0.99693,     0.99693,     0.99693,     0.99693,     0.99693,     0.99693,     0.99693,     0.99693,     0.99693,     0.99693,     0.99693,     0.99693,     0.99693,     0.99693,     0.99693,\n",
      "            0.99693,     0.99693,     0.99693,     0.99693,     0.99693,     0.99693,     0.99693,     0.99693,     0.99693,     0.99693,     0.99693,     0.99693,     0.99693,     0.99693,     0.99693,     0.99693,     0.99693,     0.99693,     0.99693,     0.99693,     0.99693,     0.99693,     0.99693,\n",
      "            0.99693,     0.99684,     0.99684,     0.99684,     0.99684,     0.99684,     0.99684,     0.99684,     0.99684,     0.99684,     0.99684,     0.99684,     0.99684,     0.99684,     0.99684,     0.99684,     0.99684,     0.99684,     0.99684,     0.99684,     0.99684,     0.99684,     0.99684,\n",
      "            0.99684,     0.99684,     0.99684,     0.99684,     0.99684,     0.99684,     0.99684,     0.99684,     0.99684,     0.99684,     0.99684,     0.99684,     0.99684,     0.99684,     0.99684,     0.99684,     0.99684,     0.99684,     0.99684,     0.99684,     0.99684,     0.99684,     0.99684,\n",
      "            0.99684,     0.99684,     0.99684,     0.99684,     0.99684,     0.99684,     0.99684,     0.99684,     0.99684,     0.99684,     0.99684,     0.99684,     0.99684,     0.99684,     0.99684,     0.99684,     0.99684,     0.99684,     0.99684,     0.99684,     0.99684,     0.99684,     0.99684,\n",
      "            0.99684,     0.99684,     0.99684,     0.99684,     0.99684,     0.99684,     0.99684,     0.99684,     0.99684,     0.99684,     0.99684,     0.99684,     0.99684,     0.99684,     0.99684,     0.99684,     0.99684,     0.99684,     0.99684,     0.99684,     0.99684,     0.99684,     0.99684,\n",
      "            0.99684,     0.99684,     0.99684,     0.99674,     0.99674,     0.99674,     0.99674,     0.99674,     0.99674,     0.99674,     0.99674,     0.99674,     0.99674,     0.99674,     0.99674,     0.99674,     0.99674,     0.99674,     0.99674,     0.99674,     0.99674,     0.99674,     0.99674,\n",
      "            0.99674,     0.99674,     0.99674,     0.99674,     0.99674,     0.99674,     0.99674,     0.99674,     0.99674,     0.99674,     0.99674,     0.99674,     0.99674,     0.99674,     0.99674,     0.99674,     0.99674,     0.99674,     0.99674,     0.99674,     0.99674,     0.99674,     0.99674,\n",
      "            0.99674,     0.99674,     0.99674,     0.99674,     0.99674,     0.99674,     0.99674,     0.99674,     0.99674,     0.99674,     0.99674,     0.99674,     0.99674,     0.99674,     0.99674,     0.99674,     0.99674,     0.99674,     0.99674,     0.99674,     0.99674,     0.99674,     0.99674,\n",
      "            0.99674,     0.99674,     0.99674,     0.99674,     0.99674,     0.99674,     0.99674,     0.99674,     0.99674,     0.99674,     0.99674,     0.99674,     0.99674,     0.99674,     0.99674,     0.99674,     0.99674,     0.99674,     0.99674,     0.99674,     0.99633,     0.99633,     0.99633,\n",
      "            0.99633,     0.99633,     0.99633,     0.99633,     0.99633,     0.99633,     0.99633,     0.99633,     0.99633,     0.99591,     0.99591,     0.99591,     0.99591,     0.99591,     0.99591,     0.99591,     0.99591,     0.99591,     0.99567,     0.99567,     0.99567,     0.99567,     0.99567,\n",
      "            0.99567,     0.99567,     0.99567,     0.99567,     0.99567,     0.99567,     0.99567,     0.99567,     0.99567,     0.99567,     0.99567,     0.99567,     0.99567,     0.99567,     0.99567,     0.99567,     0.99567,     0.99567,     0.99567,     0.99567,     0.99567,     0.99567,     0.99567,\n",
      "            0.99567,     0.99567,     0.99567,     0.99567,     0.99567,     0.99567,     0.99567,     0.99567,     0.99567,     0.99543,     0.99543,     0.99543,     0.99543,     0.99543,     0.99543,     0.99543,     0.99543,     0.99543,     0.99543,     0.99543,     0.99543,     0.99543,     0.99543,\n",
      "            0.99543,     0.99543,     0.99543,     0.99543,     0.99543,     0.99543,     0.99543,     0.99543,     0.99543,     0.99543,     0.99543,     0.99543,     0.99543,     0.99543,     0.99543,     0.99543,     0.99543,     0.99543,     0.99543,     0.99543,     0.99503,     0.99503,      0.9948,\n",
      "             0.9948,      0.9948,      0.9948,      0.9948,      0.9948,      0.9948,      0.9948,      0.9948,      0.9948,      0.9948,      0.9948,      0.9948,      0.9948,      0.9948,      0.9948,      0.9948,      0.9948,      0.9948,      0.9948,      0.9948,      0.9948,      0.9948,      0.9948,\n",
      "             0.9948,      0.9948,      0.9948,      0.9948,      0.9948,      0.9948,     0.99449,     0.99449,     0.99449,     0.99449,     0.99449,     0.99449,     0.99449,     0.99449,     0.99449,     0.99449,     0.99449,     0.99449,     0.99449,     0.99449,     0.99449,     0.99414,     0.99414,\n",
      "            0.99414,     0.99414,     0.99414,     0.99414,     0.99376,     0.99376,     0.99339,     0.99339,     0.99263,     0.99191,     0.99191,     0.99191,     0.99191,     0.99191,     0.99155,     0.99155,     0.99155,      0.9908,     0.99048,     0.99048,     0.99048,     0.99048,     0.99048,\n",
      "            0.99048,     0.99011,     0.98978,     0.98978,     0.98978,     0.98943,     0.98943,     0.98943,     0.98907,     0.98834,     0.98797,     0.98726,     0.98726,     0.98692,     0.98692,     0.98657,     0.98584,     0.98549,     0.98516,     0.98516,     0.98481,      0.9841,     0.98376,\n",
      "            0.98376,     0.98309,     0.98309,     0.98274,      0.9824,     0.98168,     0.98099,     0.97994,     0.97783,     0.97678,     0.97433,     0.97332,     0.97332,       0.973,     0.97233,     0.97133,       0.971,     0.97033,     0.96656,     0.96625,      0.9656,     0.96325,     0.96058,\n",
      "            0.95926,     0.95394,     0.95035,     0.94646,     0.94132,     0.93975,     0.92901,     0.92595,     0.90801,     0.90098,     0.89694,     0.89443,     0.87778,     0.87457,     0.85367,     0.83429,     0.83263,     0.80457,     0.79691,     0.76764,     0.69198,     0.64324,     0.60402,\n",
      "             0.4653,     0.38978,     0.28484,     0.23999,     0.21543,     0.17953,     0.14362,     0.10772,    0.071811,    0.035906,           0]]), 'Recall', 'Precision'], [array([          0,    0.001001,    0.002002,    0.003003,    0.004004,    0.005005,    0.006006,    0.007007,    0.008008,    0.009009,     0.01001,    0.011011,    0.012012,    0.013013,    0.014014,    0.015015,    0.016016,    0.017017,    0.018018,    0.019019,     0.02002,    0.021021,    0.022022,    0.023023,\n",
      "          0.024024,    0.025025,    0.026026,    0.027027,    0.028028,    0.029029,     0.03003,    0.031031,    0.032032,    0.033033,    0.034034,    0.035035,    0.036036,    0.037037,    0.038038,    0.039039,     0.04004,    0.041041,    0.042042,    0.043043,    0.044044,    0.045045,    0.046046,    0.047047,\n",
      "          0.048048,    0.049049,     0.05005,    0.051051,    0.052052,    0.053053,    0.054054,    0.055055,    0.056056,    0.057057,    0.058058,    0.059059,     0.06006,    0.061061,    0.062062,    0.063063,    0.064064,    0.065065,    0.066066,    0.067067,    0.068068,    0.069069,     0.07007,    0.071071,\n",
      "          0.072072,    0.073073,    0.074074,    0.075075,    0.076076,    0.077077,    0.078078,    0.079079,     0.08008,    0.081081,    0.082082,    0.083083,    0.084084,    0.085085,    0.086086,    0.087087,    0.088088,    0.089089,     0.09009,    0.091091,    0.092092,    0.093093,    0.094094,    0.095095,\n",
      "          0.096096,    0.097097,    0.098098,    0.099099,      0.1001,      0.1011,      0.1021,      0.1031,      0.1041,     0.10511,     0.10611,     0.10711,     0.10811,     0.10911,     0.11011,     0.11111,     0.11211,     0.11311,     0.11411,     0.11512,     0.11612,     0.11712,     0.11812,     0.11912,\n",
      "           0.12012,     0.12112,     0.12212,     0.12312,     0.12412,     0.12513,     0.12613,     0.12713,     0.12813,     0.12913,     0.13013,     0.13113,     0.13213,     0.13313,     0.13413,     0.13514,     0.13614,     0.13714,     0.13814,     0.13914,     0.14014,     0.14114,     0.14214,     0.14314,\n",
      "           0.14414,     0.14515,     0.14615,     0.14715,     0.14815,     0.14915,     0.15015,     0.15115,     0.15215,     0.15315,     0.15415,     0.15516,     0.15616,     0.15716,     0.15816,     0.15916,     0.16016,     0.16116,     0.16216,     0.16316,     0.16416,     0.16517,     0.16617,     0.16717,\n",
      "           0.16817,     0.16917,     0.17017,     0.17117,     0.17217,     0.17317,     0.17417,     0.17518,     0.17618,     0.17718,     0.17818,     0.17918,     0.18018,     0.18118,     0.18218,     0.18318,     0.18418,     0.18519,     0.18619,     0.18719,     0.18819,     0.18919,     0.19019,     0.19119,\n",
      "           0.19219,     0.19319,     0.19419,      0.1952,      0.1962,      0.1972,      0.1982,      0.1992,      0.2002,      0.2012,      0.2022,      0.2032,      0.2042,     0.20521,     0.20621,     0.20721,     0.20821,     0.20921,     0.21021,     0.21121,     0.21221,     0.21321,     0.21421,     0.21522,\n",
      "           0.21622,     0.21722,     0.21822,     0.21922,     0.22022,     0.22122,     0.22222,     0.22322,     0.22422,     0.22523,     0.22623,     0.22723,     0.22823,     0.22923,     0.23023,     0.23123,     0.23223,     0.23323,     0.23423,     0.23524,     0.23624,     0.23724,     0.23824,     0.23924,\n",
      "           0.24024,     0.24124,     0.24224,     0.24324,     0.24424,     0.24525,     0.24625,     0.24725,     0.24825,     0.24925,     0.25025,     0.25125,     0.25225,     0.25325,     0.25425,     0.25526,     0.25626,     0.25726,     0.25826,     0.25926,     0.26026,     0.26126,     0.26226,     0.26326,\n",
      "           0.26426,     0.26527,     0.26627,     0.26727,     0.26827,     0.26927,     0.27027,     0.27127,     0.27227,     0.27327,     0.27427,     0.27528,     0.27628,     0.27728,     0.27828,     0.27928,     0.28028,     0.28128,     0.28228,     0.28328,     0.28428,     0.28529,     0.28629,     0.28729,\n",
      "           0.28829,     0.28929,     0.29029,     0.29129,     0.29229,     0.29329,     0.29429,      0.2953,      0.2963,      0.2973,      0.2983,      0.2993,      0.3003,      0.3013,      0.3023,      0.3033,      0.3043,     0.30531,     0.30631,     0.30731,     0.30831,     0.30931,     0.31031,     0.31131,\n",
      "           0.31231,     0.31331,     0.31431,     0.31532,     0.31632,     0.31732,     0.31832,     0.31932,     0.32032,     0.32132,     0.32232,     0.32332,     0.32432,     0.32533,     0.32633,     0.32733,     0.32833,     0.32933,     0.33033,     0.33133,     0.33233,     0.33333,     0.33433,     0.33534,\n",
      "           0.33634,     0.33734,     0.33834,     0.33934,     0.34034,     0.34134,     0.34234,     0.34334,     0.34434,     0.34535,     0.34635,     0.34735,     0.34835,     0.34935,     0.35035,     0.35135,     0.35235,     0.35335,     0.35435,     0.35536,     0.35636,     0.35736,     0.35836,     0.35936,\n",
      "           0.36036,     0.36136,     0.36236,     0.36336,     0.36436,     0.36537,     0.36637,     0.36737,     0.36837,     0.36937,     0.37037,     0.37137,     0.37237,     0.37337,     0.37437,     0.37538,     0.37638,     0.37738,     0.37838,     0.37938,     0.38038,     0.38138,     0.38238,     0.38338,\n",
      "           0.38438,     0.38539,     0.38639,     0.38739,     0.38839,     0.38939,     0.39039,     0.39139,     0.39239,     0.39339,     0.39439,      0.3954,      0.3964,      0.3974,      0.3984,      0.3994,      0.4004,      0.4014,      0.4024,      0.4034,      0.4044,     0.40541,     0.40641,     0.40741,\n",
      "           0.40841,     0.40941,     0.41041,     0.41141,     0.41241,     0.41341,     0.41441,     0.41542,     0.41642,     0.41742,     0.41842,     0.41942,     0.42042,     0.42142,     0.42242,     0.42342,     0.42442,     0.42543,     0.42643,     0.42743,     0.42843,     0.42943,     0.43043,     0.43143,\n",
      "           0.43243,     0.43343,     0.43443,     0.43544,     0.43644,     0.43744,     0.43844,     0.43944,     0.44044,     0.44144,     0.44244,     0.44344,     0.44444,     0.44545,     0.44645,     0.44745,     0.44845,     0.44945,     0.45045,     0.45145,     0.45245,     0.45345,     0.45445,     0.45546,\n",
      "           0.45646,     0.45746,     0.45846,     0.45946,     0.46046,     0.46146,     0.46246,     0.46346,     0.46446,     0.46547,     0.46647,     0.46747,     0.46847,     0.46947,     0.47047,     0.47147,     0.47247,     0.47347,     0.47447,     0.47548,     0.47648,     0.47748,     0.47848,     0.47948,\n",
      "           0.48048,     0.48148,     0.48248,     0.48348,     0.48448,     0.48549,     0.48649,     0.48749,     0.48849,     0.48949,     0.49049,     0.49149,     0.49249,     0.49349,     0.49449,      0.4955,      0.4965,      0.4975,      0.4985,      0.4995,      0.5005,      0.5015,      0.5025,      0.5035,\n",
      "            0.5045,     0.50551,     0.50651,     0.50751,     0.50851,     0.50951,     0.51051,     0.51151,     0.51251,     0.51351,     0.51451,     0.51552,     0.51652,     0.51752,     0.51852,     0.51952,     0.52052,     0.52152,     0.52252,     0.52352,     0.52452,     0.52553,     0.52653,     0.52753,\n",
      "           0.52853,     0.52953,     0.53053,     0.53153,     0.53253,     0.53353,     0.53453,     0.53554,     0.53654,     0.53754,     0.53854,     0.53954,     0.54054,     0.54154,     0.54254,     0.54354,     0.54454,     0.54555,     0.54655,     0.54755,     0.54855,     0.54955,     0.55055,     0.55155,\n",
      "           0.55255,     0.55355,     0.55455,     0.55556,     0.55656,     0.55756,     0.55856,     0.55956,     0.56056,     0.56156,     0.56256,     0.56356,     0.56456,     0.56557,     0.56657,     0.56757,     0.56857,     0.56957,     0.57057,     0.57157,     0.57257,     0.57357,     0.57457,     0.57558,\n",
      "           0.57658,     0.57758,     0.57858,     0.57958,     0.58058,     0.58158,     0.58258,     0.58358,     0.58458,     0.58559,     0.58659,     0.58759,     0.58859,     0.58959,     0.59059,     0.59159,     0.59259,     0.59359,     0.59459,      0.5956,      0.5966,      0.5976,      0.5986,      0.5996,\n",
      "            0.6006,      0.6016,      0.6026,      0.6036,      0.6046,     0.60561,     0.60661,     0.60761,     0.60861,     0.60961,     0.61061,     0.61161,     0.61261,     0.61361,     0.61461,     0.61562,     0.61662,     0.61762,     0.61862,     0.61962,     0.62062,     0.62162,     0.62262,     0.62362,\n",
      "           0.62462,     0.62563,     0.62663,     0.62763,     0.62863,     0.62963,     0.63063,     0.63163,     0.63263,     0.63363,     0.63463,     0.63564,     0.63664,     0.63764,     0.63864,     0.63964,     0.64064,     0.64164,     0.64264,     0.64364,     0.64464,     0.64565,     0.64665,     0.64765,\n",
      "           0.64865,     0.64965,     0.65065,     0.65165,     0.65265,     0.65365,     0.65465,     0.65566,     0.65666,     0.65766,     0.65866,     0.65966,     0.66066,     0.66166,     0.66266,     0.66366,     0.66466,     0.66567,     0.66667,     0.66767,     0.66867,     0.66967,     0.67067,     0.67167,\n",
      "           0.67267,     0.67367,     0.67467,     0.67568,     0.67668,     0.67768,     0.67868,     0.67968,     0.68068,     0.68168,     0.68268,     0.68368,     0.68468,     0.68569,     0.68669,     0.68769,     0.68869,     0.68969,     0.69069,     0.69169,     0.69269,     0.69369,     0.69469,      0.6957,\n",
      "            0.6967,      0.6977,      0.6987,      0.6997,      0.7007,      0.7017,      0.7027,      0.7037,      0.7047,     0.70571,     0.70671,     0.70771,     0.70871,     0.70971,     0.71071,     0.71171,     0.71271,     0.71371,     0.71471,     0.71572,     0.71672,     0.71772,     0.71872,     0.71972,\n",
      "           0.72072,     0.72172,     0.72272,     0.72372,     0.72472,     0.72573,     0.72673,     0.72773,     0.72873,     0.72973,     0.73073,     0.73173,     0.73273,     0.73373,     0.73473,     0.73574,     0.73674,     0.73774,     0.73874,     0.73974,     0.74074,     0.74174,     0.74274,     0.74374,\n",
      "           0.74474,     0.74575,     0.74675,     0.74775,     0.74875,     0.74975,     0.75075,     0.75175,     0.75275,     0.75375,     0.75475,     0.75576,     0.75676,     0.75776,     0.75876,     0.75976,     0.76076,     0.76176,     0.76276,     0.76376,     0.76476,     0.76577,     0.76677,     0.76777,\n",
      "           0.76877,     0.76977,     0.77077,     0.77177,     0.77277,     0.77377,     0.77477,     0.77578,     0.77678,     0.77778,     0.77878,     0.77978,     0.78078,     0.78178,     0.78278,     0.78378,     0.78478,     0.78579,     0.78679,     0.78779,     0.78879,     0.78979,     0.79079,     0.79179,\n",
      "           0.79279,     0.79379,     0.79479,      0.7958,      0.7968,      0.7978,      0.7988,      0.7998,      0.8008,      0.8018,      0.8028,      0.8038,      0.8048,     0.80581,     0.80681,     0.80781,     0.80881,     0.80981,     0.81081,     0.81181,     0.81281,     0.81381,     0.81481,     0.81582,\n",
      "           0.81682,     0.81782,     0.81882,     0.81982,     0.82082,     0.82182,     0.82282,     0.82382,     0.82482,     0.82583,     0.82683,     0.82783,     0.82883,     0.82983,     0.83083,     0.83183,     0.83283,     0.83383,     0.83483,     0.83584,     0.83684,     0.83784,     0.83884,     0.83984,\n",
      "           0.84084,     0.84184,     0.84284,     0.84384,     0.84484,     0.84585,     0.84685,     0.84785,     0.84885,     0.84985,     0.85085,     0.85185,     0.85285,     0.85385,     0.85485,     0.85586,     0.85686,     0.85786,     0.85886,     0.85986,     0.86086,     0.86186,     0.86286,     0.86386,\n",
      "           0.86486,     0.86587,     0.86687,     0.86787,     0.86887,     0.86987,     0.87087,     0.87187,     0.87287,     0.87387,     0.87487,     0.87588,     0.87688,     0.87788,     0.87888,     0.87988,     0.88088,     0.88188,     0.88288,     0.88388,     0.88488,     0.88589,     0.88689,     0.88789,\n",
      "           0.88889,     0.88989,     0.89089,     0.89189,     0.89289,     0.89389,     0.89489,      0.8959,      0.8969,      0.8979,      0.8989,      0.8999,      0.9009,      0.9019,      0.9029,      0.9039,      0.9049,     0.90591,     0.90691,     0.90791,     0.90891,     0.90991,     0.91091,     0.91191,\n",
      "           0.91291,     0.91391,     0.91491,     0.91592,     0.91692,     0.91792,     0.91892,     0.91992,     0.92092,     0.92192,     0.92292,     0.92392,     0.92492,     0.92593,     0.92693,     0.92793,     0.92893,     0.92993,     0.93093,     0.93193,     0.93293,     0.93393,     0.93493,     0.93594,\n",
      "           0.93694,     0.93794,     0.93894,     0.93994,     0.94094,     0.94194,     0.94294,     0.94394,     0.94494,     0.94595,     0.94695,     0.94795,     0.94895,     0.94995,     0.95095,     0.95195,     0.95295,     0.95395,     0.95495,     0.95596,     0.95696,     0.95796,     0.95896,     0.95996,\n",
      "           0.96096,     0.96196,     0.96296,     0.96396,     0.96496,     0.96597,     0.96697,     0.96797,     0.96897,     0.96997,     0.97097,     0.97197,     0.97297,     0.97397,     0.97497,     0.97598,     0.97698,     0.97798,     0.97898,     0.97998,     0.98098,     0.98198,     0.98298,     0.98398,\n",
      "           0.98498,     0.98599,     0.98699,     0.98799,     0.98899,     0.98999,     0.99099,     0.99199,     0.99299,     0.99399,     0.99499,       0.996,       0.997,       0.998,       0.999,           1]), array([[    0.37173,     0.37184,     0.51798,     0.60218,     0.65197,     0.69305,     0.72459,     0.74831,     0.76653,     0.78152,     0.79421,     0.80592,     0.81454,     0.82392,     0.83249,     0.83906,     0.84697,     0.85205,     0.85646,     0.86078,     0.86327,     0.86686,     0.87048,\n",
      "            0.87379,     0.87788,     0.88059,      0.8821,     0.88482,     0.88607,     0.88824,     0.88957,     0.89176,     0.89397,     0.89564,     0.89755,     0.89853,     0.89983,     0.90154,      0.9022,     0.90387,      0.9051,     0.90746,     0.90897,     0.91034,     0.91113,     0.91233,\n",
      "            0.91322,     0.91465,     0.91659,     0.91714,     0.91809,     0.91943,     0.91997,     0.92097,     0.92143,     0.92246,     0.92287,     0.92366,     0.92375,      0.9242,     0.92469,     0.92538,     0.92563,     0.92606,     0.92614,     0.92709,     0.92749,     0.92794,     0.92888,\n",
      "            0.92873,      0.9288,     0.92912,     0.92951,     0.92986,     0.93049,     0.93092,     0.93169,     0.93211,     0.93283,     0.93294,      0.9335,     0.93375,     0.93395,     0.93423,      0.9344,     0.93454,     0.93464,     0.93503,     0.93518,     0.93539,     0.93598,     0.93621,\n",
      "            0.93664,      0.9367,      0.9369,     0.93697,      0.9371,     0.93748,     0.93757,     0.93769,     0.93756,     0.93827,     0.93851,     0.93928,     0.93959,     0.94002,     0.94034,     0.94036,     0.94041,     0.94089,     0.94095,       0.941,      0.9412,     0.94129,     0.94165,\n",
      "            0.94218,     0.94225,     0.94233,     0.94275,     0.94316,     0.94325,     0.94373,     0.94409,     0.94452,     0.94446,     0.94458,     0.94491,      0.9454,     0.94571,     0.94626,     0.94689,     0.94702,     0.94719,     0.94724,     0.94729,     0.94738,     0.94754,     0.94784,\n",
      "            0.94812,     0.94831,      0.9486,     0.94897,     0.94912,     0.94917,     0.94922,     0.94927,     0.94939,     0.94929,      0.9497,     0.95005,     0.95025,     0.95029,      0.9501,     0.95022,     0.95045,     0.95051,      0.9504,      0.9505,     0.95077,     0.95098,     0.95116,\n",
      "            0.95123,     0.95129,     0.95127,     0.95133,      0.9514,     0.95147,     0.95163,     0.95208,      0.9522,     0.95232,     0.95237,     0.95243,     0.95248,     0.95259,     0.95267,     0.95272,     0.95276,     0.95281,     0.95291,     0.95302,      0.9532,     0.95333,     0.95346,\n",
      "            0.95369,     0.95388,      0.9541,      0.9543,     0.95498,     0.95517,     0.95526,     0.95543,     0.95533,     0.95546,     0.95558,     0.95544,     0.95566,     0.95575,     0.95563,     0.95578,     0.95586,       0.956,     0.95592,     0.95611,     0.95618,     0.95608,     0.95617,\n",
      "            0.95642,      0.9565,     0.95674,     0.95689,     0.95693,     0.95697,     0.95701,     0.95705,     0.95714,     0.95706,      0.9571,     0.95714,     0.95718,     0.95738,     0.95749,     0.95758,     0.95764,      0.9577,     0.95776,     0.95781,     0.95786,     0.95791,     0.95796,\n",
      "            0.95801,     0.95817,     0.95809,     0.95827,     0.95834,     0.95829,     0.95824,     0.95819,     0.95837,     0.95857,     0.95867,      0.9586,     0.95851,     0.95876,     0.95884,     0.95887,     0.95889,     0.95892,     0.95894,     0.95897,     0.95899,     0.95918,     0.95925,\n",
      "            0.95932,     0.95968,     0.95965,     0.95963,      0.9596,     0.95958,     0.95956,     0.95953,     0.95951,     0.95953,      0.9596,     0.95972,     0.95988,     0.95995,     0.96004,     0.96016,     0.96012,     0.96008,     0.96005,     0.96001,     0.95995,     0.95982,     0.95985,\n",
      "             0.9599,     0.95996,     0.96003,      0.9601,     0.96028,     0.96039,     0.96048,     0.96088,     0.96092,     0.96082,     0.96103,     0.96112,     0.96124,     0.96118,     0.96122,     0.96113,     0.96145,     0.96151,     0.96157,     0.96163,     0.96169,     0.96176,     0.96186,\n",
      "              0.962,     0.96214,     0.96241,     0.96255,     0.96293,     0.96308,      0.9631,     0.96297,     0.96308,      0.9634,     0.96327,     0.96322,     0.96318,     0.96314,      0.9631,     0.96292,     0.96308,      0.9631,     0.96312,     0.96314,     0.96316,     0.96318,      0.9632,\n",
      "            0.96322,     0.96324,     0.96326,     0.96327,     0.96329,      0.9633,     0.96331,     0.96333,     0.96334,     0.96336,     0.96337,     0.96339,      0.9634,     0.96341,     0.96359,     0.96364,     0.96368,     0.96373,       0.964,     0.96416,     0.96423,     0.96424,     0.96416,\n",
      "             0.9641,     0.96414,     0.96419,     0.96424,     0.96416,     0.96426,     0.96435,     0.96446,     0.96458,     0.96453,     0.96448,     0.96443,     0.96446,     0.96455,     0.96462,     0.96469,     0.96475,     0.96479,     0.96483,     0.96487,     0.96491,     0.96476,      0.9649,\n",
      "            0.96485,      0.9648,     0.96476,      0.9647,     0.96462,     0.96455,      0.9647,     0.96464,     0.96458,     0.96449,     0.96431,     0.96425,     0.96418,      0.9643,     0.96426,     0.96421,     0.96416,      0.9642,     0.96428,      0.9645,     0.96453,     0.96457,      0.9646,\n",
      "            0.96464,     0.96461,     0.96448,     0.96481,     0.96477,     0.96471,     0.96466,      0.9647,     0.96481,     0.96485,     0.96489,     0.96494,     0.96498,     0.96501,     0.96504,     0.96506,     0.96509,     0.96512,     0.96515,     0.96539,     0.96548,     0.96559,     0.96549,\n",
      "            0.96545,     0.96541,     0.96538,     0.96534,     0.96531,     0.96531,     0.96534,     0.96536,     0.96538,     0.96541,     0.96543,     0.96546,      0.9655,     0.96555,      0.9656,     0.96561,     0.96535,     0.96532,     0.96539,     0.96544,     0.96535,     0.96527,     0.96517,\n",
      "            0.96507,     0.96504,       0.965,     0.96497,     0.96493,      0.9649,     0.96509,     0.96515,     0.96522,     0.96508,     0.96514,      0.9652,     0.96514,     0.96501,     0.96496,     0.96491,     0.96486,     0.96501,     0.96496,     0.96491,     0.96486,     0.96468,      0.9646,\n",
      "            0.96455,      0.9645,     0.96449,     0.96449,     0.96435,       0.964,     0.96386,     0.96383,     0.96379,     0.96375,     0.96371,     0.96392,     0.96399,     0.96409,      0.9642,     0.96406,     0.96413,     0.96442,     0.96471,     0.96457,     0.96468,     0.96481,      0.9647,\n",
      "            0.96475,      0.9648,     0.96486,     0.96481,     0.96476,     0.96471,     0.96471,     0.96479,     0.96491,     0.96497,     0.96486,     0.96474,     0.96483,     0.96491,       0.965,     0.96494,     0.96488,     0.96482,     0.96506,     0.96523,     0.96545,     0.96532,     0.96529,\n",
      "            0.96525,     0.96522,     0.96519,     0.96515,     0.96511,     0.96505,     0.96499,     0.96515,     0.96529,     0.96521,     0.96511,     0.96518,     0.96525,     0.96519,     0.96502,     0.96494,     0.96502,     0.96501,     0.96491,     0.96494,     0.96496,     0.96499,     0.96501,\n",
      "            0.96504,     0.96506,     0.96501,     0.96494,     0.96507,     0.96515,     0.96523,     0.96516,      0.9651,     0.96502,     0.96492,     0.96483,     0.96475,     0.96468,     0.96473,     0.96478,     0.96484,     0.96468,     0.96461,     0.96455,      0.9645,     0.96464,     0.96462,\n",
      "             0.9646,     0.96458,     0.96456,     0.96453,     0.96451,     0.96449,     0.96447,     0.96443,     0.96438,     0.96433,     0.96428,     0.96415,     0.96406,     0.96401,     0.96397,     0.96392,      0.9637,     0.96356,     0.96366,     0.96361,     0.96356,     0.96349,     0.96333,\n",
      "             0.9634,     0.96347,     0.96328,     0.96309,     0.96299,     0.96287,     0.96275,     0.96263,     0.96261,     0.96273,      0.9627,     0.96266,     0.96263,     0.96259,     0.96256,     0.96237,     0.96222,     0.96232,      0.9625,     0.96238,      0.9622,     0.96205,     0.96197,\n",
      "              0.962,     0.96203,     0.96206,     0.96209,     0.96212,     0.96188,     0.96172,     0.96144,     0.96135,      0.9613,     0.96125,      0.9612,     0.96117,     0.96115,     0.96112,      0.9611,     0.96107,     0.96104,     0.96102,     0.96117,       0.961,     0.96069,     0.96069,\n",
      "            0.96065,     0.96045,     0.96065,     0.96062,     0.96044,      0.9603,     0.96013,     0.96006,     0.95998,     0.95976,     0.95958,     0.95946,     0.95932,     0.95918,     0.95882,     0.95874,     0.95866,     0.95876,     0.95855,     0.95841,     0.95826,     0.95831,     0.95841,\n",
      "            0.95828,     0.95806,      0.9581,     0.95811,     0.95793,     0.95786,     0.95797,     0.95777,     0.95772,     0.95767,     0.95762,     0.95753,     0.95741,     0.95711,     0.95665,     0.95649,     0.95656,     0.95653,     0.95635,     0.95612,       0.956,     0.95593,     0.95586,\n",
      "            0.95576,     0.95565,     0.95553,     0.95542,     0.95531,     0.95488,     0.95476,     0.95486,     0.95481,     0.95475,     0.95464,     0.95444,     0.95433,     0.95406,     0.95381,     0.95348,     0.95338,     0.95314,     0.95296,     0.95291,     0.95287,     0.95283,     0.95279,\n",
      "            0.95272,     0.95264,     0.95255,     0.95245,      0.9523,     0.95201,     0.95187,     0.95159,      0.9513,     0.95109,     0.95119,     0.95096,     0.95066,     0.95051,     0.95038,     0.95021,     0.95003,     0.95011,     0.94959,     0.94919,      0.9491,       0.949,     0.94892,\n",
      "            0.94885,     0.94862,     0.94842,     0.94828,     0.94778,     0.94748,     0.94752,     0.94723,     0.94732,     0.94708,     0.94695,     0.94635,     0.94617,     0.94607,     0.94594,     0.94528,     0.94518,     0.94477,     0.94467,     0.94439,     0.94419,     0.94391,     0.94363,\n",
      "            0.94332,     0.94289,     0.94256,     0.94228,      0.9421,     0.94218,     0.94201,     0.94177,     0.94116,     0.94069,     0.94054,     0.94034,     0.94004,     0.93986,     0.93979,     0.93972,     0.93959,     0.93918,     0.93898,     0.93886,     0.93873,     0.93822,     0.93778,\n",
      "            0.93763,     0.93757,     0.93751,     0.93734,     0.93681,     0.93634,      0.9361,     0.93558,     0.93541,     0.93488,     0.93473,      0.9346,     0.93428,     0.93372,     0.93358,     0.93323,     0.93273,     0.93229,     0.93172,     0.93122,      0.9309,     0.93041,     0.93015,\n",
      "            0.92973,     0.92919,     0.92911,     0.92904,     0.92819,     0.92775,      0.9271,     0.92671,     0.92649,     0.92592,     0.92561,     0.92467,     0.92421,     0.92379,     0.92323,     0.92234,     0.92167,      0.9212,     0.92058,     0.92044,     0.91998,     0.91914,     0.91841,\n",
      "             0.9169,     0.91679,     0.91609,     0.91542,     0.91476,     0.91392,     0.91268,     0.91219,     0.91119,     0.91038,     0.91005,     0.90951,     0.90892,     0.90845,     0.90813,     0.90737,     0.90679,     0.90633,       0.906,     0.90532,     0.90461,     0.90429,     0.90367,\n",
      "            0.90257,     0.90191,     0.90162,     0.90113,     0.89992,     0.89975,     0.89958,     0.89934,       0.899,     0.89837,     0.89816,     0.89802,     0.89763,     0.89703,     0.89678,     0.89644,      0.8959,     0.89574,     0.89563,     0.89533,     0.89519,     0.89498,     0.89444,\n",
      "            0.89426,     0.89416,     0.89405,     0.89394,     0.89341,      0.8924,     0.89202,     0.89177,      0.8915,     0.89127,     0.89069,     0.89024,     0.88922,     0.88885,     0.88861,     0.88845,     0.88825,     0.88771,     0.88756,     0.88724,     0.88661,     0.88645,     0.88535,\n",
      "            0.88452,     0.88417,     0.88405,     0.88378,     0.88278,     0.88182,     0.88106,     0.88037,     0.87953,     0.87851,      0.8781,     0.87748,     0.87676,     0.87638,     0.87594,     0.87445,     0.87386,     0.87318,     0.87276,      0.8716,     0.87088,     0.87021,      0.8683,\n",
      "            0.86766,     0.86679,     0.86469,     0.86312,     0.86184,     0.86061,     0.85929,     0.85854,     0.85677,     0.85511,     0.85413,     0.85241,     0.85133,     0.84915,     0.84856,     0.84691,     0.84515,     0.84334,     0.83988,     0.83808,     0.83674,     0.83532,     0.83184,\n",
      "            0.83073,     0.82788,     0.82499,     0.82251,      0.8206,      0.8161,     0.81293,     0.80918,     0.80664,      0.8039,     0.80195,     0.79955,     0.79517,     0.79102,     0.78686,     0.78231,     0.77985,     0.77523,      0.7708,     0.76691,     0.76042,     0.75438,     0.75013,\n",
      "            0.74549,     0.73869,     0.73146,     0.72377,     0.71669,     0.71005,     0.69889,      0.6907,     0.68103,     0.67351,     0.66549,     0.65496,     0.64442,     0.63334,     0.62191,     0.61256,     0.60093,     0.58527,     0.56987,     0.55608,     0.53753,     0.51673,     0.49582,\n",
      "            0.47279,     0.45335,     0.42691,     0.39901,     0.36198,     0.33076,     0.29651,     0.25898,     0.22178,     0.18819,     0.15276,     0.11563,    0.091035,    0.067199,    0.046416,    0.029185,    0.016904,    0.011198,   0.0063996,   0.0044922,    0.003036,   0.0025079,    0.002092,\n",
      "          0.0017058,   0.0012719,           0,           0,           0,           0,           0,           0,           0,           0,           0]]), 'Confidence', 'F1'], [array([          0,    0.001001,    0.002002,    0.003003,    0.004004,    0.005005,    0.006006,    0.007007,    0.008008,    0.009009,     0.01001,    0.011011,    0.012012,    0.013013,    0.014014,    0.015015,    0.016016,    0.017017,    0.018018,    0.019019,     0.02002,    0.021021,    0.022022,    0.023023,\n",
      "          0.024024,    0.025025,    0.026026,    0.027027,    0.028028,    0.029029,     0.03003,    0.031031,    0.032032,    0.033033,    0.034034,    0.035035,    0.036036,    0.037037,    0.038038,    0.039039,     0.04004,    0.041041,    0.042042,    0.043043,    0.044044,    0.045045,    0.046046,    0.047047,\n",
      "          0.048048,    0.049049,     0.05005,    0.051051,    0.052052,    0.053053,    0.054054,    0.055055,    0.056056,    0.057057,    0.058058,    0.059059,     0.06006,    0.061061,    0.062062,    0.063063,    0.064064,    0.065065,    0.066066,    0.067067,    0.068068,    0.069069,     0.07007,    0.071071,\n",
      "          0.072072,    0.073073,    0.074074,    0.075075,    0.076076,    0.077077,    0.078078,    0.079079,     0.08008,    0.081081,    0.082082,    0.083083,    0.084084,    0.085085,    0.086086,    0.087087,    0.088088,    0.089089,     0.09009,    0.091091,    0.092092,    0.093093,    0.094094,    0.095095,\n",
      "          0.096096,    0.097097,    0.098098,    0.099099,      0.1001,      0.1011,      0.1021,      0.1031,      0.1041,     0.10511,     0.10611,     0.10711,     0.10811,     0.10911,     0.11011,     0.11111,     0.11211,     0.11311,     0.11411,     0.11512,     0.11612,     0.11712,     0.11812,     0.11912,\n",
      "           0.12012,     0.12112,     0.12212,     0.12312,     0.12412,     0.12513,     0.12613,     0.12713,     0.12813,     0.12913,     0.13013,     0.13113,     0.13213,     0.13313,     0.13413,     0.13514,     0.13614,     0.13714,     0.13814,     0.13914,     0.14014,     0.14114,     0.14214,     0.14314,\n",
      "           0.14414,     0.14515,     0.14615,     0.14715,     0.14815,     0.14915,     0.15015,     0.15115,     0.15215,     0.15315,     0.15415,     0.15516,     0.15616,     0.15716,     0.15816,     0.15916,     0.16016,     0.16116,     0.16216,     0.16316,     0.16416,     0.16517,     0.16617,     0.16717,\n",
      "           0.16817,     0.16917,     0.17017,     0.17117,     0.17217,     0.17317,     0.17417,     0.17518,     0.17618,     0.17718,     0.17818,     0.17918,     0.18018,     0.18118,     0.18218,     0.18318,     0.18418,     0.18519,     0.18619,     0.18719,     0.18819,     0.18919,     0.19019,     0.19119,\n",
      "           0.19219,     0.19319,     0.19419,      0.1952,      0.1962,      0.1972,      0.1982,      0.1992,      0.2002,      0.2012,      0.2022,      0.2032,      0.2042,     0.20521,     0.20621,     0.20721,     0.20821,     0.20921,     0.21021,     0.21121,     0.21221,     0.21321,     0.21421,     0.21522,\n",
      "           0.21622,     0.21722,     0.21822,     0.21922,     0.22022,     0.22122,     0.22222,     0.22322,     0.22422,     0.22523,     0.22623,     0.22723,     0.22823,     0.22923,     0.23023,     0.23123,     0.23223,     0.23323,     0.23423,     0.23524,     0.23624,     0.23724,     0.23824,     0.23924,\n",
      "           0.24024,     0.24124,     0.24224,     0.24324,     0.24424,     0.24525,     0.24625,     0.24725,     0.24825,     0.24925,     0.25025,     0.25125,     0.25225,     0.25325,     0.25425,     0.25526,     0.25626,     0.25726,     0.25826,     0.25926,     0.26026,     0.26126,     0.26226,     0.26326,\n",
      "           0.26426,     0.26527,     0.26627,     0.26727,     0.26827,     0.26927,     0.27027,     0.27127,     0.27227,     0.27327,     0.27427,     0.27528,     0.27628,     0.27728,     0.27828,     0.27928,     0.28028,     0.28128,     0.28228,     0.28328,     0.28428,     0.28529,     0.28629,     0.28729,\n",
      "           0.28829,     0.28929,     0.29029,     0.29129,     0.29229,     0.29329,     0.29429,      0.2953,      0.2963,      0.2973,      0.2983,      0.2993,      0.3003,      0.3013,      0.3023,      0.3033,      0.3043,     0.30531,     0.30631,     0.30731,     0.30831,     0.30931,     0.31031,     0.31131,\n",
      "           0.31231,     0.31331,     0.31431,     0.31532,     0.31632,     0.31732,     0.31832,     0.31932,     0.32032,     0.32132,     0.32232,     0.32332,     0.32432,     0.32533,     0.32633,     0.32733,     0.32833,     0.32933,     0.33033,     0.33133,     0.33233,     0.33333,     0.33433,     0.33534,\n",
      "           0.33634,     0.33734,     0.33834,     0.33934,     0.34034,     0.34134,     0.34234,     0.34334,     0.34434,     0.34535,     0.34635,     0.34735,     0.34835,     0.34935,     0.35035,     0.35135,     0.35235,     0.35335,     0.35435,     0.35536,     0.35636,     0.35736,     0.35836,     0.35936,\n",
      "           0.36036,     0.36136,     0.36236,     0.36336,     0.36436,     0.36537,     0.36637,     0.36737,     0.36837,     0.36937,     0.37037,     0.37137,     0.37237,     0.37337,     0.37437,     0.37538,     0.37638,     0.37738,     0.37838,     0.37938,     0.38038,     0.38138,     0.38238,     0.38338,\n",
      "           0.38438,     0.38539,     0.38639,     0.38739,     0.38839,     0.38939,     0.39039,     0.39139,     0.39239,     0.39339,     0.39439,      0.3954,      0.3964,      0.3974,      0.3984,      0.3994,      0.4004,      0.4014,      0.4024,      0.4034,      0.4044,     0.40541,     0.40641,     0.40741,\n",
      "           0.40841,     0.40941,     0.41041,     0.41141,     0.41241,     0.41341,     0.41441,     0.41542,     0.41642,     0.41742,     0.41842,     0.41942,     0.42042,     0.42142,     0.42242,     0.42342,     0.42442,     0.42543,     0.42643,     0.42743,     0.42843,     0.42943,     0.43043,     0.43143,\n",
      "           0.43243,     0.43343,     0.43443,     0.43544,     0.43644,     0.43744,     0.43844,     0.43944,     0.44044,     0.44144,     0.44244,     0.44344,     0.44444,     0.44545,     0.44645,     0.44745,     0.44845,     0.44945,     0.45045,     0.45145,     0.45245,     0.45345,     0.45445,     0.45546,\n",
      "           0.45646,     0.45746,     0.45846,     0.45946,     0.46046,     0.46146,     0.46246,     0.46346,     0.46446,     0.46547,     0.46647,     0.46747,     0.46847,     0.46947,     0.47047,     0.47147,     0.47247,     0.47347,     0.47447,     0.47548,     0.47648,     0.47748,     0.47848,     0.47948,\n",
      "           0.48048,     0.48148,     0.48248,     0.48348,     0.48448,     0.48549,     0.48649,     0.48749,     0.48849,     0.48949,     0.49049,     0.49149,     0.49249,     0.49349,     0.49449,      0.4955,      0.4965,      0.4975,      0.4985,      0.4995,      0.5005,      0.5015,      0.5025,      0.5035,\n",
      "            0.5045,     0.50551,     0.50651,     0.50751,     0.50851,     0.50951,     0.51051,     0.51151,     0.51251,     0.51351,     0.51451,     0.51552,     0.51652,     0.51752,     0.51852,     0.51952,     0.52052,     0.52152,     0.52252,     0.52352,     0.52452,     0.52553,     0.52653,     0.52753,\n",
      "           0.52853,     0.52953,     0.53053,     0.53153,     0.53253,     0.53353,     0.53453,     0.53554,     0.53654,     0.53754,     0.53854,     0.53954,     0.54054,     0.54154,     0.54254,     0.54354,     0.54454,     0.54555,     0.54655,     0.54755,     0.54855,     0.54955,     0.55055,     0.55155,\n",
      "           0.55255,     0.55355,     0.55455,     0.55556,     0.55656,     0.55756,     0.55856,     0.55956,     0.56056,     0.56156,     0.56256,     0.56356,     0.56456,     0.56557,     0.56657,     0.56757,     0.56857,     0.56957,     0.57057,     0.57157,     0.57257,     0.57357,     0.57457,     0.57558,\n",
      "           0.57658,     0.57758,     0.57858,     0.57958,     0.58058,     0.58158,     0.58258,     0.58358,     0.58458,     0.58559,     0.58659,     0.58759,     0.58859,     0.58959,     0.59059,     0.59159,     0.59259,     0.59359,     0.59459,      0.5956,      0.5966,      0.5976,      0.5986,      0.5996,\n",
      "            0.6006,      0.6016,      0.6026,      0.6036,      0.6046,     0.60561,     0.60661,     0.60761,     0.60861,     0.60961,     0.61061,     0.61161,     0.61261,     0.61361,     0.61461,     0.61562,     0.61662,     0.61762,     0.61862,     0.61962,     0.62062,     0.62162,     0.62262,     0.62362,\n",
      "           0.62462,     0.62563,     0.62663,     0.62763,     0.62863,     0.62963,     0.63063,     0.63163,     0.63263,     0.63363,     0.63463,     0.63564,     0.63664,     0.63764,     0.63864,     0.63964,     0.64064,     0.64164,     0.64264,     0.64364,     0.64464,     0.64565,     0.64665,     0.64765,\n",
      "           0.64865,     0.64965,     0.65065,     0.65165,     0.65265,     0.65365,     0.65465,     0.65566,     0.65666,     0.65766,     0.65866,     0.65966,     0.66066,     0.66166,     0.66266,     0.66366,     0.66466,     0.66567,     0.66667,     0.66767,     0.66867,     0.66967,     0.67067,     0.67167,\n",
      "           0.67267,     0.67367,     0.67467,     0.67568,     0.67668,     0.67768,     0.67868,     0.67968,     0.68068,     0.68168,     0.68268,     0.68368,     0.68468,     0.68569,     0.68669,     0.68769,     0.68869,     0.68969,     0.69069,     0.69169,     0.69269,     0.69369,     0.69469,      0.6957,\n",
      "            0.6967,      0.6977,      0.6987,      0.6997,      0.7007,      0.7017,      0.7027,      0.7037,      0.7047,     0.70571,     0.70671,     0.70771,     0.70871,     0.70971,     0.71071,     0.71171,     0.71271,     0.71371,     0.71471,     0.71572,     0.71672,     0.71772,     0.71872,     0.71972,\n",
      "           0.72072,     0.72172,     0.72272,     0.72372,     0.72472,     0.72573,     0.72673,     0.72773,     0.72873,     0.72973,     0.73073,     0.73173,     0.73273,     0.73373,     0.73473,     0.73574,     0.73674,     0.73774,     0.73874,     0.73974,     0.74074,     0.74174,     0.74274,     0.74374,\n",
      "           0.74474,     0.74575,     0.74675,     0.74775,     0.74875,     0.74975,     0.75075,     0.75175,     0.75275,     0.75375,     0.75475,     0.75576,     0.75676,     0.75776,     0.75876,     0.75976,     0.76076,     0.76176,     0.76276,     0.76376,     0.76476,     0.76577,     0.76677,     0.76777,\n",
      "           0.76877,     0.76977,     0.77077,     0.77177,     0.77277,     0.77377,     0.77477,     0.77578,     0.77678,     0.77778,     0.77878,     0.77978,     0.78078,     0.78178,     0.78278,     0.78378,     0.78478,     0.78579,     0.78679,     0.78779,     0.78879,     0.78979,     0.79079,     0.79179,\n",
      "           0.79279,     0.79379,     0.79479,      0.7958,      0.7968,      0.7978,      0.7988,      0.7998,      0.8008,      0.8018,      0.8028,      0.8038,      0.8048,     0.80581,     0.80681,     0.80781,     0.80881,     0.80981,     0.81081,     0.81181,     0.81281,     0.81381,     0.81481,     0.81582,\n",
      "           0.81682,     0.81782,     0.81882,     0.81982,     0.82082,     0.82182,     0.82282,     0.82382,     0.82482,     0.82583,     0.82683,     0.82783,     0.82883,     0.82983,     0.83083,     0.83183,     0.83283,     0.83383,     0.83483,     0.83584,     0.83684,     0.83784,     0.83884,     0.83984,\n",
      "           0.84084,     0.84184,     0.84284,     0.84384,     0.84484,     0.84585,     0.84685,     0.84785,     0.84885,     0.84985,     0.85085,     0.85185,     0.85285,     0.85385,     0.85485,     0.85586,     0.85686,     0.85786,     0.85886,     0.85986,     0.86086,     0.86186,     0.86286,     0.86386,\n",
      "           0.86486,     0.86587,     0.86687,     0.86787,     0.86887,     0.86987,     0.87087,     0.87187,     0.87287,     0.87387,     0.87487,     0.87588,     0.87688,     0.87788,     0.87888,     0.87988,     0.88088,     0.88188,     0.88288,     0.88388,     0.88488,     0.88589,     0.88689,     0.88789,\n",
      "           0.88889,     0.88989,     0.89089,     0.89189,     0.89289,     0.89389,     0.89489,      0.8959,      0.8969,      0.8979,      0.8989,      0.8999,      0.9009,      0.9019,      0.9029,      0.9039,      0.9049,     0.90591,     0.90691,     0.90791,     0.90891,     0.90991,     0.91091,     0.91191,\n",
      "           0.91291,     0.91391,     0.91491,     0.91592,     0.91692,     0.91792,     0.91892,     0.91992,     0.92092,     0.92192,     0.92292,     0.92392,     0.92492,     0.92593,     0.92693,     0.92793,     0.92893,     0.92993,     0.93093,     0.93193,     0.93293,     0.93393,     0.93493,     0.93594,\n",
      "           0.93694,     0.93794,     0.93894,     0.93994,     0.94094,     0.94194,     0.94294,     0.94394,     0.94494,     0.94595,     0.94695,     0.94795,     0.94895,     0.94995,     0.95095,     0.95195,     0.95295,     0.95395,     0.95495,     0.95596,     0.95696,     0.95796,     0.95896,     0.95996,\n",
      "           0.96096,     0.96196,     0.96296,     0.96396,     0.96496,     0.96597,     0.96697,     0.96797,     0.96897,     0.96997,     0.97097,     0.97197,     0.97297,     0.97397,     0.97497,     0.97598,     0.97698,     0.97798,     0.97898,     0.97998,     0.98098,     0.98198,     0.98298,     0.98398,\n",
      "           0.98498,     0.98599,     0.98699,     0.98799,     0.98899,     0.98999,     0.99099,     0.99199,     0.99299,     0.99399,     0.99499,       0.996,       0.997,       0.998,       0.999,           1]), array([[    0.22863,     0.22872,     0.35056,     0.43267,     0.48617,     0.53332,     0.57172,     0.60183,      0.6259,     0.64645,     0.66415,     0.68086,     0.69343,     0.70715,     0.72005,     0.72994,     0.74199,     0.74983,     0.75689,     0.76367,     0.76763,      0.7735,     0.77951,\n",
      "            0.78484,     0.79146,     0.79611,     0.79881,     0.80352,     0.80607,     0.80966,     0.81187,     0.81552,     0.81948,     0.82254,     0.82577,     0.82743,     0.82963,     0.83279,     0.83469,     0.83755,     0.83968,     0.84374,     0.84662,     0.84901,     0.85037,     0.85247,\n",
      "            0.85429,     0.85681,      0.8602,     0.86117,     0.86286,     0.86523,     0.86646,     0.86824,     0.86906,     0.87089,     0.87162,     0.87304,     0.87346,     0.87428,     0.87572,     0.87724,     0.87798,     0.87875,     0.87911,     0.88089,     0.88162,     0.88243,     0.88416,\n",
      "            0.88413,     0.88427,     0.88485,     0.88557,      0.8862,     0.88735,     0.88814,     0.88952,      0.8903,     0.89162,     0.89182,     0.89283,     0.89329,     0.89366,      0.8944,     0.89496,     0.89533,     0.89552,     0.89638,      0.8971,     0.89749,     0.89858,       0.899,\n",
      "            0.89979,      0.9002,     0.90058,     0.90101,     0.90124,     0.90195,     0.90213,     0.90242,     0.90239,     0.90372,     0.90416,      0.9056,     0.90618,     0.90698,     0.90773,     0.90792,      0.9083,     0.90921,     0.90932,     0.90942,     0.90979,     0.90996,     0.91063,\n",
      "            0.91162,     0.91176,     0.91189,     0.91269,     0.91346,     0.91363,     0.91453,      0.9152,     0.91601,     0.91612,     0.91645,     0.91705,     0.91799,     0.91857,     0.91961,      0.9208,     0.92103,     0.92136,     0.92146,     0.92156,     0.92173,     0.92203,     0.92259,\n",
      "            0.92313,     0.92381,     0.92437,     0.92506,     0.92534,     0.92543,     0.92553,     0.92562,     0.92594,     0.92593,     0.92676,     0.92744,     0.92781,      0.9281,     0.92807,      0.9284,     0.92884,       0.929,     0.92899,     0.92925,     0.92977,     0.93018,     0.93052,\n",
      "            0.93066,     0.93077,     0.93086,     0.93116,      0.9313,     0.93144,     0.93175,      0.9326,     0.93285,     0.93308,     0.93317,     0.93327,     0.93337,     0.93358,     0.93374,     0.93383,     0.93393,     0.93402,      0.9342,     0.93442,     0.93476,     0.93502,     0.93525,\n",
      "             0.9357,     0.93606,     0.93649,     0.93687,     0.93818,     0.93856,     0.93873,     0.93912,     0.93911,     0.93945,     0.93968,     0.93973,     0.94017,     0.94034,     0.94035,     0.94073,     0.94089,     0.94117,      0.9413,      0.9417,     0.94194,     0.94198,     0.94215,\n",
      "            0.94263,     0.94279,     0.94326,     0.94355,     0.94363,     0.94371,     0.94379,     0.94387,     0.94419,     0.94422,      0.9443,     0.94437,     0.94444,     0.94484,     0.94506,     0.94523,     0.94535,     0.94547,     0.94558,     0.94568,     0.94578,     0.94588,     0.94597,\n",
      "            0.94607,     0.94646,     0.94656,     0.94691,     0.94709,     0.94709,     0.94708,     0.94708,     0.94745,     0.94785,     0.94804,     0.94805,     0.94805,     0.94855,     0.94871,     0.94876,     0.94881,     0.94886,     0.94891,     0.94896,       0.949,     0.94938,     0.94951,\n",
      "            0.94964,     0.95035,     0.95034,     0.95034,     0.95034,     0.95034,     0.95034,     0.95033,     0.95033,     0.95039,     0.95053,     0.95077,     0.95109,     0.95122,      0.9514,     0.95165,     0.95165,     0.95164,     0.95164,     0.95164,     0.95163,     0.95162,     0.95171,\n",
      "            0.95181,     0.95192,     0.95206,     0.95221,     0.95256,     0.95277,     0.95295,     0.95374,     0.95394,     0.95393,     0.95437,     0.95456,     0.95479,     0.95492,     0.95509,     0.95526,      0.9559,     0.95602,     0.95613,     0.95625,     0.95638,      0.9565,     0.95671,\n",
      "            0.95698,     0.95726,     0.95779,     0.95808,     0.95884,     0.95925,     0.95958,     0.95961,     0.95983,     0.96047,     0.96056,     0.96056,     0.96056,     0.96055,     0.96055,     0.96055,     0.96088,     0.96092,     0.96096,       0.961,     0.96104,     0.96108,     0.96112,\n",
      "            0.96115,     0.96119,     0.96123,     0.96126,     0.96128,     0.96131,     0.96134,     0.96137,      0.9614,     0.96142,     0.96145,     0.96148,     0.96151,     0.96154,     0.96189,     0.96198,     0.96207,     0.96216,      0.9627,     0.96302,     0.96317,     0.96325,     0.96324,\n",
      "            0.96325,     0.96334,     0.96344,     0.96353,     0.96357,     0.96394,     0.96412,     0.96434,     0.96459,     0.96459,     0.96458,     0.96458,     0.96468,     0.96487,     0.96501,     0.96514,     0.96526,     0.96535,     0.96543,     0.96551,      0.9656,     0.96559,     0.96593,\n",
      "            0.96593,     0.96593,     0.96592,     0.96592,     0.96591,     0.96594,     0.96625,     0.96625,     0.96624,     0.96624,     0.96623,     0.96622,     0.96622,     0.96656,     0.96656,     0.96655,     0.96655,     0.96666,     0.96682,     0.96726,     0.96733,      0.9674,     0.96747,\n",
      "            0.96754,     0.96758,     0.96757,     0.96825,     0.96826,     0.96825,     0.96825,     0.96838,      0.9686,     0.96869,     0.96877,     0.96886,     0.96894,       0.969,     0.96906,     0.96911,     0.96917,     0.96923,     0.96928,     0.96977,     0.96996,     0.97032,     0.97032,\n",
      "            0.97031,     0.97031,     0.97031,     0.97031,      0.9703,     0.97033,     0.97038,     0.97043,     0.97048,     0.97053,     0.97058,     0.97063,     0.97071,     0.97081,     0.97091,       0.971,     0.97098,     0.97108,     0.97121,     0.97133,     0.97132,     0.97132,     0.97131,\n",
      "            0.97131,      0.9713,      0.9713,      0.9713,      0.9713,      0.9713,     0.97169,     0.97183,     0.97196,     0.97205,     0.97217,     0.97228,     0.97267,     0.97266,     0.97266,     0.97266,     0.97265,       0.973,       0.973,       0.973,     0.97299,     0.97298,     0.97298,\n",
      "            0.97298,     0.97298,     0.97304,     0.97332,     0.97331,     0.97329,     0.97328,     0.97328,     0.97328,     0.97328,     0.97328,     0.97371,     0.97386,     0.97407,     0.97433,     0.97432,     0.97487,     0.97548,     0.97607,     0.97614,     0.97638,     0.97664,     0.97677,\n",
      "            0.97689,     0.97701,     0.97712,     0.97712,     0.97712,     0.97712,     0.97718,     0.97735,     0.97759,     0.97782,     0.97782,     0.97781,     0.97817,     0.97835,     0.97852,     0.97852,     0.97852,     0.97851,     0.97903,     0.97937,     0.97983,     0.97993,     0.97993,\n",
      "            0.97993,     0.97993,     0.97993,     0.97993,     0.97993,     0.97992,     0.97992,     0.98034,     0.98062,     0.98063,     0.98063,     0.98077,     0.98092,     0.98098,     0.98098,     0.98103,     0.98121,     0.98133,     0.98135,     0.98141,     0.98146,     0.98151,     0.98157,\n",
      "            0.98162,     0.98167,     0.98168,     0.98168,     0.98206,     0.98223,      0.9824,      0.9824,     0.98239,     0.98239,     0.98239,     0.98238,     0.98238,     0.98238,     0.98249,     0.98261,     0.98273,     0.98273,     0.98273,     0.98273,     0.98273,     0.98309,     0.98309,\n",
      "            0.98309,     0.98309,     0.98309,     0.98308,     0.98308,     0.98308,     0.98308,     0.98308,     0.98308,     0.98308,     0.98308,     0.98307,     0.98307,     0.98307,     0.98307,     0.98306,     0.98306,     0.98305,     0.98341,     0.98341,     0.98341,     0.98341,     0.98342,\n",
      "            0.98356,     0.98371,     0.98376,     0.98375,     0.98375,     0.98374,     0.98374,     0.98374,     0.98385,      0.9841,      0.9841,      0.9841,     0.98409,     0.98409,     0.98409,     0.98409,     0.98419,     0.98439,     0.98481,      0.9848,      0.9848,     0.98479,     0.98482,\n",
      "            0.98488,     0.98494,       0.985,     0.98507,     0.98513,     0.98515,     0.98515,     0.98514,     0.98513,     0.98513,     0.98513,     0.98513,     0.98513,     0.98513,     0.98513,     0.98513,     0.98513,     0.98513,     0.98513,     0.98549,     0.98549,     0.98548,     0.98564,\n",
      "            0.98584,     0.98583,     0.98635,     0.98656,     0.98656,     0.98678,     0.98691,     0.98691,     0.98691,     0.98691,      0.9869,      0.9869,     0.98708,     0.98726,     0.98725,     0.98724,     0.98724,     0.98748,     0.98783,     0.98797,     0.98797,     0.98813,     0.98833,\n",
      "            0.98833,      0.9884,      0.9887,      0.9889,     0.98906,     0.98916,     0.98941,     0.98943,     0.98943,     0.98943,     0.98943,     0.98942,     0.98942,     0.98942,     0.98941,      0.9894,     0.98963,     0.98977,     0.98977,     0.98977,     0.98976,     0.98976,     0.98976,\n",
      "            0.98976,     0.98976,     0.98975,     0.98975,     0.98975,     0.98974,     0.98974,     0.99011,     0.99011,     0.99011,     0.99011,     0.99011,      0.9901,     0.99047,     0.99047,     0.99046,     0.99046,     0.99045,     0.99045,     0.99045,     0.99045,     0.99045,     0.99045,\n",
      "            0.99045,     0.99044,     0.99044,     0.99044,     0.99044,     0.99043,     0.99043,      0.9908,      0.9908,     0.99079,     0.99116,     0.99154,     0.99154,     0.99154,     0.99153,     0.99153,     0.99153,     0.99175,      0.9919,     0.99189,     0.99189,     0.99189,     0.99189,\n",
      "            0.99189,     0.99189,     0.99188,     0.99188,     0.99187,     0.99187,      0.9924,     0.99263,     0.99301,     0.99301,     0.99339,     0.99338,     0.99376,     0.99376,     0.99376,     0.99375,     0.99414,     0.99413,     0.99413,     0.99413,     0.99413,     0.99412,     0.99412,\n",
      "            0.99412,     0.99411,     0.99411,      0.9941,      0.9941,     0.99449,     0.99449,     0.99449,     0.99448,     0.99448,     0.99447,     0.99447,     0.99447,     0.99447,     0.99447,     0.99446,     0.99446,     0.99446,     0.99446,     0.99446,     0.99445,     0.99445,     0.99444,\n",
      "            0.99444,     0.99444,     0.99444,     0.99444,     0.99443,     0.99443,     0.99442,     0.99442,     0.99442,     0.99441,     0.99441,     0.99441,      0.9944,     0.99447,     0.99479,     0.99479,     0.99478,     0.99478,     0.99477,     0.99477,     0.99476,     0.99476,     0.99476,\n",
      "            0.99475,     0.99475,     0.99475,     0.99475,     0.99474,     0.99473,     0.99472,     0.99472,     0.99472,     0.99471,     0.99471,      0.9947,     0.99469,     0.99469,     0.99468,     0.99467,     0.99467,     0.99466,     0.99466,     0.99465,     0.99465,     0.99464,     0.99463,\n",
      "            0.99462,     0.99503,     0.99502,     0.99542,     0.99542,     0.99541,      0.9954,     0.99539,     0.99538,     0.99538,     0.99537,     0.99537,     0.99536,     0.99536,     0.99536,     0.99535,     0.99534,     0.99534,     0.99534,     0.99533,     0.99532,     0.99532,     0.99531,\n",
      "             0.9953,      0.9953,      0.9953,     0.99529,     0.99528,     0.99528,     0.99528,     0.99527,     0.99527,     0.99526,     0.99526,     0.99526,     0.99526,     0.99525,     0.99525,     0.99525,     0.99545,     0.99567,     0.99567,     0.99567,     0.99566,     0.99566,     0.99566,\n",
      "            0.99566,     0.99566,     0.99565,     0.99565,     0.99565,     0.99564,     0.99564,     0.99563,     0.99563,     0.99563,     0.99562,     0.99562,     0.99561,     0.99561,     0.99561,      0.9956,      0.9956,      0.9956,      0.9956,     0.99559,     0.99559,     0.99559,     0.99558,\n",
      "            0.99557,     0.99557,     0.99557,     0.99556,     0.99555,     0.99555,     0.99554,     0.99553,     0.99552,     0.99552,     0.99551,     0.99551,      0.9955,      0.9955,     0.99549,     0.99548,     0.99547,     0.99547,     0.99591,      0.9959,      0.9959,     0.99589,     0.99588,\n",
      "            0.99587,     0.99632,      0.9963,     0.99629,     0.99628,     0.99627,     0.99673,     0.99672,     0.99671,      0.9967,     0.99669,     0.99668,     0.99667,     0.99666,     0.99666,     0.99664,     0.99663,     0.99662,      0.9966,     0.99658,     0.99657,     0.99656,     0.99654,\n",
      "            0.99653,     0.99651,     0.99649,     0.99647,     0.99646,     0.99643,      0.9964,     0.99637,     0.99636,     0.99633,     0.99632,     0.99683,      0.9968,     0.99677,     0.99674,     0.99671,     0.99669,     0.99666,     0.99663,      0.9966,     0.99656,     0.99651,     0.99648,\n",
      "            0.99644,     0.99639,     0.99634,     0.99689,     0.99685,      0.9968,     0.99672,     0.99666,     0.99659,     0.99653,     0.99717,      0.9971,     0.99777,     0.99772,     0.99765,      0.9984,     0.99836,     0.99829,     0.99823,     0.99817,     0.99808,     0.99797,     0.99786,\n",
      "            0.99772,     0.99759,      0.9974,     0.99717,      0.9984,     0.99822,     0.99797,     0.99763,           1,           1,           1,           1,           1,           1,           1,           1,           1,           1,           1,           1,           1,           1,           1,\n",
      "                  1,           1,           1,           1,           1,           1,           1,           1,           1,           1,           1]]), 'Confidence', 'Precision'], [array([          0,    0.001001,    0.002002,    0.003003,    0.004004,    0.005005,    0.006006,    0.007007,    0.008008,    0.009009,     0.01001,    0.011011,    0.012012,    0.013013,    0.014014,    0.015015,    0.016016,    0.017017,    0.018018,    0.019019,     0.02002,    0.021021,    0.022022,    0.023023,\n",
      "          0.024024,    0.025025,    0.026026,    0.027027,    0.028028,    0.029029,     0.03003,    0.031031,    0.032032,    0.033033,    0.034034,    0.035035,    0.036036,    0.037037,    0.038038,    0.039039,     0.04004,    0.041041,    0.042042,    0.043043,    0.044044,    0.045045,    0.046046,    0.047047,\n",
      "          0.048048,    0.049049,     0.05005,    0.051051,    0.052052,    0.053053,    0.054054,    0.055055,    0.056056,    0.057057,    0.058058,    0.059059,     0.06006,    0.061061,    0.062062,    0.063063,    0.064064,    0.065065,    0.066066,    0.067067,    0.068068,    0.069069,     0.07007,    0.071071,\n",
      "          0.072072,    0.073073,    0.074074,    0.075075,    0.076076,    0.077077,    0.078078,    0.079079,     0.08008,    0.081081,    0.082082,    0.083083,    0.084084,    0.085085,    0.086086,    0.087087,    0.088088,    0.089089,     0.09009,    0.091091,    0.092092,    0.093093,    0.094094,    0.095095,\n",
      "          0.096096,    0.097097,    0.098098,    0.099099,      0.1001,      0.1011,      0.1021,      0.1031,      0.1041,     0.10511,     0.10611,     0.10711,     0.10811,     0.10911,     0.11011,     0.11111,     0.11211,     0.11311,     0.11411,     0.11512,     0.11612,     0.11712,     0.11812,     0.11912,\n",
      "           0.12012,     0.12112,     0.12212,     0.12312,     0.12412,     0.12513,     0.12613,     0.12713,     0.12813,     0.12913,     0.13013,     0.13113,     0.13213,     0.13313,     0.13413,     0.13514,     0.13614,     0.13714,     0.13814,     0.13914,     0.14014,     0.14114,     0.14214,     0.14314,\n",
      "           0.14414,     0.14515,     0.14615,     0.14715,     0.14815,     0.14915,     0.15015,     0.15115,     0.15215,     0.15315,     0.15415,     0.15516,     0.15616,     0.15716,     0.15816,     0.15916,     0.16016,     0.16116,     0.16216,     0.16316,     0.16416,     0.16517,     0.16617,     0.16717,\n",
      "           0.16817,     0.16917,     0.17017,     0.17117,     0.17217,     0.17317,     0.17417,     0.17518,     0.17618,     0.17718,     0.17818,     0.17918,     0.18018,     0.18118,     0.18218,     0.18318,     0.18418,     0.18519,     0.18619,     0.18719,     0.18819,     0.18919,     0.19019,     0.19119,\n",
      "           0.19219,     0.19319,     0.19419,      0.1952,      0.1962,      0.1972,      0.1982,      0.1992,      0.2002,      0.2012,      0.2022,      0.2032,      0.2042,     0.20521,     0.20621,     0.20721,     0.20821,     0.20921,     0.21021,     0.21121,     0.21221,     0.21321,     0.21421,     0.21522,\n",
      "           0.21622,     0.21722,     0.21822,     0.21922,     0.22022,     0.22122,     0.22222,     0.22322,     0.22422,     0.22523,     0.22623,     0.22723,     0.22823,     0.22923,     0.23023,     0.23123,     0.23223,     0.23323,     0.23423,     0.23524,     0.23624,     0.23724,     0.23824,     0.23924,\n",
      "           0.24024,     0.24124,     0.24224,     0.24324,     0.24424,     0.24525,     0.24625,     0.24725,     0.24825,     0.24925,     0.25025,     0.25125,     0.25225,     0.25325,     0.25425,     0.25526,     0.25626,     0.25726,     0.25826,     0.25926,     0.26026,     0.26126,     0.26226,     0.26326,\n",
      "           0.26426,     0.26527,     0.26627,     0.26727,     0.26827,     0.26927,     0.27027,     0.27127,     0.27227,     0.27327,     0.27427,     0.27528,     0.27628,     0.27728,     0.27828,     0.27928,     0.28028,     0.28128,     0.28228,     0.28328,     0.28428,     0.28529,     0.28629,     0.28729,\n",
      "           0.28829,     0.28929,     0.29029,     0.29129,     0.29229,     0.29329,     0.29429,      0.2953,      0.2963,      0.2973,      0.2983,      0.2993,      0.3003,      0.3013,      0.3023,      0.3033,      0.3043,     0.30531,     0.30631,     0.30731,     0.30831,     0.30931,     0.31031,     0.31131,\n",
      "           0.31231,     0.31331,     0.31431,     0.31532,     0.31632,     0.31732,     0.31832,     0.31932,     0.32032,     0.32132,     0.32232,     0.32332,     0.32432,     0.32533,     0.32633,     0.32733,     0.32833,     0.32933,     0.33033,     0.33133,     0.33233,     0.33333,     0.33433,     0.33534,\n",
      "           0.33634,     0.33734,     0.33834,     0.33934,     0.34034,     0.34134,     0.34234,     0.34334,     0.34434,     0.34535,     0.34635,     0.34735,     0.34835,     0.34935,     0.35035,     0.35135,     0.35235,     0.35335,     0.35435,     0.35536,     0.35636,     0.35736,     0.35836,     0.35936,\n",
      "           0.36036,     0.36136,     0.36236,     0.36336,     0.36436,     0.36537,     0.36637,     0.36737,     0.36837,     0.36937,     0.37037,     0.37137,     0.37237,     0.37337,     0.37437,     0.37538,     0.37638,     0.37738,     0.37838,     0.37938,     0.38038,     0.38138,     0.38238,     0.38338,\n",
      "           0.38438,     0.38539,     0.38639,     0.38739,     0.38839,     0.38939,     0.39039,     0.39139,     0.39239,     0.39339,     0.39439,      0.3954,      0.3964,      0.3974,      0.3984,      0.3994,      0.4004,      0.4014,      0.4024,      0.4034,      0.4044,     0.40541,     0.40641,     0.40741,\n",
      "           0.40841,     0.40941,     0.41041,     0.41141,     0.41241,     0.41341,     0.41441,     0.41542,     0.41642,     0.41742,     0.41842,     0.41942,     0.42042,     0.42142,     0.42242,     0.42342,     0.42442,     0.42543,     0.42643,     0.42743,     0.42843,     0.42943,     0.43043,     0.43143,\n",
      "           0.43243,     0.43343,     0.43443,     0.43544,     0.43644,     0.43744,     0.43844,     0.43944,     0.44044,     0.44144,     0.44244,     0.44344,     0.44444,     0.44545,     0.44645,     0.44745,     0.44845,     0.44945,     0.45045,     0.45145,     0.45245,     0.45345,     0.45445,     0.45546,\n",
      "           0.45646,     0.45746,     0.45846,     0.45946,     0.46046,     0.46146,     0.46246,     0.46346,     0.46446,     0.46547,     0.46647,     0.46747,     0.46847,     0.46947,     0.47047,     0.47147,     0.47247,     0.47347,     0.47447,     0.47548,     0.47648,     0.47748,     0.47848,     0.47948,\n",
      "           0.48048,     0.48148,     0.48248,     0.48348,     0.48448,     0.48549,     0.48649,     0.48749,     0.48849,     0.48949,     0.49049,     0.49149,     0.49249,     0.49349,     0.49449,      0.4955,      0.4965,      0.4975,      0.4985,      0.4995,      0.5005,      0.5015,      0.5025,      0.5035,\n",
      "            0.5045,     0.50551,     0.50651,     0.50751,     0.50851,     0.50951,     0.51051,     0.51151,     0.51251,     0.51351,     0.51451,     0.51552,     0.51652,     0.51752,     0.51852,     0.51952,     0.52052,     0.52152,     0.52252,     0.52352,     0.52452,     0.52553,     0.52653,     0.52753,\n",
      "           0.52853,     0.52953,     0.53053,     0.53153,     0.53253,     0.53353,     0.53453,     0.53554,     0.53654,     0.53754,     0.53854,     0.53954,     0.54054,     0.54154,     0.54254,     0.54354,     0.54454,     0.54555,     0.54655,     0.54755,     0.54855,     0.54955,     0.55055,     0.55155,\n",
      "           0.55255,     0.55355,     0.55455,     0.55556,     0.55656,     0.55756,     0.55856,     0.55956,     0.56056,     0.56156,     0.56256,     0.56356,     0.56456,     0.56557,     0.56657,     0.56757,     0.56857,     0.56957,     0.57057,     0.57157,     0.57257,     0.57357,     0.57457,     0.57558,\n",
      "           0.57658,     0.57758,     0.57858,     0.57958,     0.58058,     0.58158,     0.58258,     0.58358,     0.58458,     0.58559,     0.58659,     0.58759,     0.58859,     0.58959,     0.59059,     0.59159,     0.59259,     0.59359,     0.59459,      0.5956,      0.5966,      0.5976,      0.5986,      0.5996,\n",
      "            0.6006,      0.6016,      0.6026,      0.6036,      0.6046,     0.60561,     0.60661,     0.60761,     0.60861,     0.60961,     0.61061,     0.61161,     0.61261,     0.61361,     0.61461,     0.61562,     0.61662,     0.61762,     0.61862,     0.61962,     0.62062,     0.62162,     0.62262,     0.62362,\n",
      "           0.62462,     0.62563,     0.62663,     0.62763,     0.62863,     0.62963,     0.63063,     0.63163,     0.63263,     0.63363,     0.63463,     0.63564,     0.63664,     0.63764,     0.63864,     0.63964,     0.64064,     0.64164,     0.64264,     0.64364,     0.64464,     0.64565,     0.64665,     0.64765,\n",
      "           0.64865,     0.64965,     0.65065,     0.65165,     0.65265,     0.65365,     0.65465,     0.65566,     0.65666,     0.65766,     0.65866,     0.65966,     0.66066,     0.66166,     0.66266,     0.66366,     0.66466,     0.66567,     0.66667,     0.66767,     0.66867,     0.66967,     0.67067,     0.67167,\n",
      "           0.67267,     0.67367,     0.67467,     0.67568,     0.67668,     0.67768,     0.67868,     0.67968,     0.68068,     0.68168,     0.68268,     0.68368,     0.68468,     0.68569,     0.68669,     0.68769,     0.68869,     0.68969,     0.69069,     0.69169,     0.69269,     0.69369,     0.69469,      0.6957,\n",
      "            0.6967,      0.6977,      0.6987,      0.6997,      0.7007,      0.7017,      0.7027,      0.7037,      0.7047,     0.70571,     0.70671,     0.70771,     0.70871,     0.70971,     0.71071,     0.71171,     0.71271,     0.71371,     0.71471,     0.71572,     0.71672,     0.71772,     0.71872,     0.71972,\n",
      "           0.72072,     0.72172,     0.72272,     0.72372,     0.72472,     0.72573,     0.72673,     0.72773,     0.72873,     0.72973,     0.73073,     0.73173,     0.73273,     0.73373,     0.73473,     0.73574,     0.73674,     0.73774,     0.73874,     0.73974,     0.74074,     0.74174,     0.74274,     0.74374,\n",
      "           0.74474,     0.74575,     0.74675,     0.74775,     0.74875,     0.74975,     0.75075,     0.75175,     0.75275,     0.75375,     0.75475,     0.75576,     0.75676,     0.75776,     0.75876,     0.75976,     0.76076,     0.76176,     0.76276,     0.76376,     0.76476,     0.76577,     0.76677,     0.76777,\n",
      "           0.76877,     0.76977,     0.77077,     0.77177,     0.77277,     0.77377,     0.77477,     0.77578,     0.77678,     0.77778,     0.77878,     0.77978,     0.78078,     0.78178,     0.78278,     0.78378,     0.78478,     0.78579,     0.78679,     0.78779,     0.78879,     0.78979,     0.79079,     0.79179,\n",
      "           0.79279,     0.79379,     0.79479,      0.7958,      0.7968,      0.7978,      0.7988,      0.7998,      0.8008,      0.8018,      0.8028,      0.8038,      0.8048,     0.80581,     0.80681,     0.80781,     0.80881,     0.80981,     0.81081,     0.81181,     0.81281,     0.81381,     0.81481,     0.81582,\n",
      "           0.81682,     0.81782,     0.81882,     0.81982,     0.82082,     0.82182,     0.82282,     0.82382,     0.82482,     0.82583,     0.82683,     0.82783,     0.82883,     0.82983,     0.83083,     0.83183,     0.83283,     0.83383,     0.83483,     0.83584,     0.83684,     0.83784,     0.83884,     0.83984,\n",
      "           0.84084,     0.84184,     0.84284,     0.84384,     0.84484,     0.84585,     0.84685,     0.84785,     0.84885,     0.84985,     0.85085,     0.85185,     0.85285,     0.85385,     0.85485,     0.85586,     0.85686,     0.85786,     0.85886,     0.85986,     0.86086,     0.86186,     0.86286,     0.86386,\n",
      "           0.86486,     0.86587,     0.86687,     0.86787,     0.86887,     0.86987,     0.87087,     0.87187,     0.87287,     0.87387,     0.87487,     0.87588,     0.87688,     0.87788,     0.87888,     0.87988,     0.88088,     0.88188,     0.88288,     0.88388,     0.88488,     0.88589,     0.88689,     0.88789,\n",
      "           0.88889,     0.88989,     0.89089,     0.89189,     0.89289,     0.89389,     0.89489,      0.8959,      0.8969,      0.8979,      0.8989,      0.8999,      0.9009,      0.9019,      0.9029,      0.9039,      0.9049,     0.90591,     0.90691,     0.90791,     0.90891,     0.90991,     0.91091,     0.91191,\n",
      "           0.91291,     0.91391,     0.91491,     0.91592,     0.91692,     0.91792,     0.91892,     0.91992,     0.92092,     0.92192,     0.92292,     0.92392,     0.92492,     0.92593,     0.92693,     0.92793,     0.92893,     0.92993,     0.93093,     0.93193,     0.93293,     0.93393,     0.93493,     0.93594,\n",
      "           0.93694,     0.93794,     0.93894,     0.93994,     0.94094,     0.94194,     0.94294,     0.94394,     0.94494,     0.94595,     0.94695,     0.94795,     0.94895,     0.94995,     0.95095,     0.95195,     0.95295,     0.95395,     0.95495,     0.95596,     0.95696,     0.95796,     0.95896,     0.95996,\n",
      "           0.96096,     0.96196,     0.96296,     0.96396,     0.96496,     0.96597,     0.96697,     0.96797,     0.96897,     0.96997,     0.97097,     0.97197,     0.97297,     0.97397,     0.97497,     0.97598,     0.97698,     0.97798,     0.97898,     0.97998,     0.98098,     0.98198,     0.98298,     0.98398,\n",
      "           0.98498,     0.98599,     0.98699,     0.98799,     0.98899,     0.98999,     0.99099,     0.99199,     0.99299,     0.99399,     0.99499,       0.996,       0.997,       0.998,       0.999,           1]), array([[    0.99363,     0.99363,      0.9915,     0.99008,     0.98938,     0.98938,     0.98902,     0.98902,     0.98867,     0.98796,     0.98761,     0.98725,      0.9869,      0.9869,     0.98654,     0.98654,     0.98654,     0.98654,     0.98619,     0.98619,     0.98614,     0.98584,     0.98548,\n",
      "            0.98548,     0.98548,     0.98513,     0.98477,     0.98442,     0.98371,     0.98371,     0.98371,     0.98371,     0.98336,       0.983,       0.983,       0.983,       0.983,     0.98265,     0.98159,     0.98159,     0.98159,     0.98159,     0.98124,     0.98123,     0.98123,     0.98123,\n",
      "            0.98088,     0.98088,     0.98088,     0.98088,     0.98088,     0.98088,     0.98052,     0.98052,     0.98052,     0.98052,     0.98052,     0.98052,     0.98018,     0.98017,     0.97946,     0.97911,     0.97875,     0.97875,      0.9785,      0.9784,      0.9784,      0.9784,     0.97837,\n",
      "            0.97808,     0.97805,     0.97805,     0.97805,     0.97805,     0.97805,     0.97805,     0.97805,     0.97805,     0.97805,     0.97805,     0.97805,     0.97805,     0.97805,     0.97776,     0.97749,     0.97734,     0.97734,     0.97717,     0.97663,     0.97663,     0.97663,     0.97663,\n",
      "            0.97663,     0.97627,     0.97627,     0.97592,     0.97592,     0.97592,     0.97592,     0.97583,     0.97557,     0.97557,     0.97557,     0.97557,     0.97557,     0.97557,     0.97539,     0.97521,     0.97486,     0.97486,     0.97486,     0.97486,     0.97486,     0.97486,     0.97486,\n",
      "            0.97486,     0.97486,     0.97486,     0.97486,     0.97486,     0.97486,     0.97486,     0.97486,     0.97486,     0.97461,      0.9745,      0.9745,      0.9745,      0.9745,      0.9745,      0.9745,      0.9745,      0.9745,      0.9745,      0.9745,      0.9745,      0.9745,      0.9745,\n",
      "             0.9745,     0.97415,     0.97415,     0.97415,     0.97415,     0.97415,     0.97415,     0.97415,     0.97406,     0.97387,      0.9738,      0.9738,      0.9738,     0.97356,     0.97319,     0.97309,     0.97309,     0.97303,     0.97281,     0.97273,     0.97273,     0.97273,     0.97273,\n",
      "            0.97273,     0.97273,     0.97259,     0.97238,     0.97238,     0.97238,     0.97238,     0.97238,     0.97238,     0.97238,     0.97238,     0.97238,     0.97238,     0.97238,     0.97238,     0.97238,     0.97238,     0.97238,     0.97238,     0.97238,     0.97238,     0.97238,     0.97238,\n",
      "            0.97238,     0.97238,     0.97238,     0.97238,     0.97238,     0.97238,     0.97238,     0.97231,     0.97211,     0.97203,     0.97203,     0.97169,     0.97167,     0.97167,      0.9714,     0.97132,     0.97132,     0.97132,     0.97101,     0.97096,     0.97086,     0.97061,     0.97061,\n",
      "            0.97061,     0.97061,     0.97061,     0.97061,     0.97061,     0.97061,     0.97061,     0.97061,     0.97045,     0.97025,     0.97025,     0.97025,     0.97025,     0.97025,     0.97025,     0.97025,     0.97025,     0.97025,     0.97025,     0.97025,     0.97025,     0.97025,     0.97025,\n",
      "            0.97025,     0.97017,      0.9699,      0.9699,     0.96986,     0.96976,     0.96967,     0.96957,     0.96955,     0.96955,     0.96955,     0.96938,     0.96919,     0.96919,     0.96919,     0.96919,     0.96919,     0.96919,     0.96919,     0.96919,     0.96919,     0.96919,     0.96919,\n",
      "            0.96919,     0.96919,     0.96914,      0.9691,     0.96905,       0.969,     0.96896,     0.96891,     0.96886,     0.96884,     0.96884,     0.96884,     0.96884,     0.96884,     0.96884,     0.96882,     0.96875,     0.96868,     0.96861,     0.96854,     0.96842,     0.96817,     0.96813,\n",
      "            0.96813,     0.96813,     0.96813,     0.96813,     0.96813,     0.96813,     0.96813,     0.96813,     0.96801,     0.96781,     0.96778,     0.96778,     0.96778,     0.96752,     0.96742,     0.96707,     0.96707,     0.96707,     0.96707,     0.96707,     0.96707,     0.96707,     0.96707,\n",
      "            0.96707,     0.96707,     0.96707,     0.96707,     0.96707,     0.96694,     0.96666,     0.96636,     0.96636,     0.96636,     0.96599,      0.9659,     0.96582,     0.96574,     0.96566,      0.9653,      0.9653,      0.9653,      0.9653,      0.9653,      0.9653,      0.9653,      0.9653,\n",
      "             0.9653,      0.9653,      0.9653,      0.9653,      0.9653,      0.9653,      0.9653,      0.9653,      0.9653,      0.9653,      0.9653,      0.9653,      0.9653,      0.9653,      0.9653,      0.9653,      0.9653,      0.9653,      0.9653,      0.9653,      0.9653,     0.96523,     0.96507,\n",
      "            0.96494,     0.96494,     0.96494,     0.96494,     0.96476,     0.96459,     0.96459,     0.96459,     0.96457,     0.96447,     0.96438,     0.96428,     0.96424,     0.96424,     0.96424,     0.96424,     0.96424,     0.96424,     0.96424,     0.96424,     0.96424,     0.96393,     0.96386,\n",
      "            0.96377,     0.96368,     0.96359,     0.96348,     0.96332,     0.96317,     0.96316,     0.96304,     0.96292,     0.96275,     0.96241,     0.96228,     0.96216,     0.96206,     0.96197,     0.96188,     0.96179,     0.96176,     0.96176,     0.96176,     0.96176,     0.96176,     0.96176,\n",
      "            0.96176,     0.96166,     0.96141,      0.9614,      0.9613,      0.9612,      0.9611,     0.96105,     0.96105,     0.96105,     0.96105,     0.96105,     0.96105,     0.96105,     0.96105,     0.96105,     0.96105,     0.96105,     0.96105,     0.96105,     0.96105,      0.9609,     0.96072,\n",
      "            0.96064,     0.96057,      0.9605,     0.96043,     0.96037,     0.96034,     0.96034,     0.96034,     0.96034,     0.96034,     0.96034,     0.96034,     0.96034,     0.96034,     0.96034,     0.96028,     0.95978,     0.95963,     0.95963,     0.95962,     0.95946,      0.9593,     0.95911,\n",
      "            0.95892,     0.95885,     0.95878,     0.95871,     0.95865,     0.95858,     0.95857,     0.95857,     0.95857,     0.95822,     0.95822,     0.95822,     0.95772,     0.95747,     0.95738,     0.95728,     0.95718,     0.95715,     0.95706,     0.95696,     0.95686,     0.95652,     0.95636,\n",
      "            0.95627,     0.95617,     0.95609,     0.95582,     0.95555,     0.95489,     0.95463,     0.95455,     0.95448,      0.9544,     0.95433,     0.95432,     0.95432,     0.95432,     0.95427,     0.95401,     0.95361,     0.95361,     0.95361,     0.95326,     0.95326,     0.95326,     0.95293,\n",
      "             0.9529,      0.9529,      0.9529,      0.9528,     0.95271,     0.95261,     0.95255,     0.95255,     0.95255,     0.95245,     0.95224,       0.952,     0.95184,     0.95184,     0.95184,     0.95173,     0.95161,      0.9515,     0.95149,     0.95149,     0.95149,     0.95113,     0.95107,\n",
      "            0.95101,     0.95094,     0.95088,     0.95082,     0.95074,     0.95063,     0.95051,     0.95042,     0.95042,     0.95026,     0.95008,     0.95007,     0.95007,     0.94989,     0.94958,     0.94936,     0.94936,     0.94922,     0.94901,     0.94901,     0.94901,     0.94901,     0.94901,\n",
      "            0.94901,     0.94901,      0.9489,     0.94877,     0.94865,     0.94865,     0.94865,     0.94853,      0.9484,     0.94826,     0.94807,      0.9479,     0.94775,      0.9476,     0.94759,     0.94759,     0.94759,     0.94728,     0.94714,     0.94704,     0.94693,     0.94687,     0.94683,\n",
      "            0.94679,     0.94675,     0.94671,     0.94667,     0.94663,     0.94659,     0.94655,     0.94648,     0.94639,     0.94629,      0.9462,     0.94594,     0.94577,     0.94569,      0.9456,     0.94551,     0.94509,     0.94482,     0.94469,     0.94459,     0.94449,     0.94436,     0.94405,\n",
      "            0.94405,     0.94405,     0.94363,     0.94329,     0.94309,     0.94287,     0.94265,     0.94242,     0.94228,     0.94227,     0.94221,     0.94214,     0.94208,     0.94201,     0.94195,     0.94159,     0.94122,     0.94122,     0.94118,     0.94095,     0.94062,     0.94032,     0.94016,\n",
      "            0.94016,     0.94016,     0.94016,     0.94016,     0.94016,     0.93969,     0.93938,     0.93885,     0.93868,     0.93859,      0.9385,     0.93841,     0.93835,      0.9383,     0.93826,     0.93821,     0.93816,     0.93811,     0.93807,     0.93802,      0.9377,     0.93712,     0.93697,\n",
      "            0.93672,     0.93634,     0.93626,     0.93601,     0.93567,      0.9352,     0.93475,     0.93462,     0.93448,     0.93407,     0.93373,     0.93352,     0.93307,     0.93266,     0.93199,     0.93184,     0.93169,     0.93166,     0.93095,     0.93056,     0.93029,     0.93024,     0.93024,\n",
      "            0.93001,     0.92953,     0.92933,     0.92918,     0.92869,     0.92847,     0.92847,     0.92807,     0.92798,     0.92789,      0.9278,     0.92763,     0.92741,     0.92685,     0.92599,     0.92569,     0.92564,     0.92545,     0.92512,     0.92469,     0.92446,     0.92433,      0.9242,\n",
      "            0.92401,     0.92382,      0.9236,     0.92339,     0.92318,     0.92238,     0.92218,     0.92204,     0.92193,     0.92183,     0.92163,     0.92125,     0.92106,     0.92023,     0.91978,     0.91916,     0.91897,     0.91854,      0.9182,     0.91812,     0.91804,     0.91796,     0.91789,\n",
      "            0.91777,     0.91761,     0.91744,     0.91727,     0.91699,     0.91645,     0.91621,     0.91536,     0.91483,     0.91446,     0.91431,     0.91356,     0.91302,     0.91275,      0.9125,     0.91219,     0.91187,     0.91183,     0.91074,     0.91002,     0.90984,     0.90967,     0.90953,\n",
      "            0.90938,     0.90897,     0.90861,     0.90836,     0.90745,     0.90689,     0.90652,     0.90581,     0.90565,     0.90521,     0.90465,     0.90357,     0.90292,     0.90274,     0.90251,     0.90132,     0.90082,     0.90008,      0.8999,      0.8994,     0.89904,     0.89852,     0.89802,\n",
      "            0.89746,     0.89669,     0.89609,     0.89559,     0.89527,     0.89509,     0.89479,     0.89436,     0.89327,     0.89242,     0.89216,      0.8918,     0.89126,     0.89093,     0.89081,     0.89069,     0.89045,     0.88972,     0.88937,     0.88916,     0.88892,     0.88801,     0.88722,\n",
      "            0.88696,     0.88685,     0.88674,     0.88644,     0.88551,     0.88466,     0.88424,     0.88332,     0.88302,     0.88207,     0.88181,     0.88158,     0.88102,     0.87996,     0.87947,     0.87884,     0.87796,     0.87718,     0.87619,     0.87531,     0.87474,     0.87387,     0.87343,\n",
      "            0.87269,     0.87173,     0.87161,     0.87148,     0.86999,     0.86922,     0.86808,      0.8674,     0.86703,     0.86603,     0.86548,     0.86385,     0.86305,     0.86232,     0.86135,     0.85981,     0.85866,     0.85784,     0.85678,     0.85653,     0.85574,      0.8543,     0.85304,\n",
      "            0.85045,     0.84996,     0.84877,     0.84732,     0.84619,     0.84477,     0.84266,     0.84182,     0.84012,     0.83875,     0.83819,     0.83729,     0.83629,      0.8355,     0.83496,     0.83369,     0.83271,     0.83193,     0.83137,     0.83024,     0.82904,     0.82852,     0.82748,\n",
      "            0.82565,     0.82454,     0.82406,     0.82324,     0.82124,     0.82095,     0.82068,     0.82027,     0.81971,     0.81867,     0.81833,     0.81808,     0.81744,     0.81646,     0.81604,     0.81548,     0.81445,     0.81405,     0.81386,     0.81336,     0.81313,     0.81278,      0.8119,\n",
      "            0.81161,     0.81144,     0.81127,     0.81108,     0.81022,     0.80855,     0.80793,     0.80752,     0.80709,     0.80672,     0.80577,     0.80503,     0.80337,     0.80277,     0.80237,     0.80212,     0.80179,     0.80092,     0.80067,     0.80016,     0.79913,     0.79887,      0.7971,\n",
      "            0.79576,      0.7952,     0.79499,     0.79456,     0.79296,     0.79142,      0.7902,     0.78908,     0.78774,     0.78611,     0.78547,     0.78447,     0.78332,     0.78273,     0.78203,     0.77966,     0.77873,     0.77766,     0.77672,     0.77488,     0.77374,     0.77269,      0.7697,\n",
      "             0.7687,     0.76706,     0.76379,     0.76135,     0.75937,     0.75746,     0.75517,     0.75401,     0.75129,     0.74874,     0.74725,     0.74462,     0.74298,     0.73968,     0.73879,     0.73629,     0.73364,     0.73092,     0.72576,     0.72308,     0.72109,     0.71898,     0.71385,\n",
      "            0.71223,     0.70806,     0.70385,     0.70025,     0.69751,     0.69104,     0.68652,      0.6812,     0.67762,     0.67377,     0.67104,     0.66745,     0.66139,     0.65568,        0.65,     0.64382,      0.6405,      0.6343,      0.6284,     0.62327,     0.61475,     0.60692,     0.60144,\n",
      "            0.59551,      0.5869,     0.57784,     0.56811,     0.55945,     0.55143,      0.5381,     0.52847,     0.51725,     0.50863,     0.49938,     0.48763,     0.47589,     0.46392,     0.45176,     0.44181,     0.42983,     0.41399,     0.39876,     0.38539,     0.36781,     0.34862,     0.32986,\n",
      "             0.3098,     0.29333,     0.27158,      0.2494,     0.22106,     0.19822,     0.17412,     0.14881,     0.12472,     0.10387,    0.082694,    0.061363,    0.047688,    0.034768,    0.023759,    0.014809,   0.0085243,   0.0056307,   0.0032101,   0.0022512,   0.0015203,   0.0012555,   0.0010471,\n",
      "         0.00085364,  0.00063636,           0,           0,           0,           0,           0,           0,           0,           0,           0]]), 'Confidence', 'Recall']]\n",
      "fitness: np.float64(0.9250303967573958)\n",
      "keys: ['metrics/precision(B)', 'metrics/recall(B)', 'metrics/mAP50(B)', 'metrics/mAP50-95(B)']\n",
      "maps: array([    0.91839,     0.91839])\n",
      "names: {0: 'fire', 1: 'no_fire'}\n",
      "plot: True\n",
      "results_dict: {'metrics/precision(B)': np.float64(0.9692840879428527), 'metrics/recall(B)': np.float64(0.9610481586402266), 'metrics/mAP50(B)': np.float64(0.9848228311847711), 'metrics/mAP50-95(B)': np.float64(0.918386792932132), 'fitness': np.float64(0.9250303967573958)}\n",
      "save_dir: PosixPath('runs/detect/train102')\n",
      "speed: {'preprocess': 0.3730428338410836, 'inference': 0.7854244535960855, 'loss': 0.0004433256166571682, 'postprocess': 0.599989019867878}\n",
      "task: 'detect'\n"
     ]
    }
   ],
   "source": [
    "metrics = model.val()\n",
    "print(metrics)"
   ]
  },
  {
   "cell_type": "code",
   "execution_count": 4,
   "metadata": {},
   "outputs": [
    {
     "name": "stdout",
     "output_type": "stream",
     "text": [
      "\n",
      "image 1/1 /Users/jjnotinotp/Documents/Fire-Detection-Model/2568-03-10_22.24.48.png: 416x640 (no detections), 47.2ms\n",
      "Speed: 3.0ms preprocess, 47.2ms inference, 0.3ms postprocess per image at shape (1, 3, 416, 640)\n",
      "Results saved to \u001b[1m/Users/jjnotinotp/runs/detect/predict2\u001b[0m\n"
     ]
    }
   ],
   "source": [
    "model = YOLO(r\"runs/detect/train10/weights/best.pt\")\n",
    "\n",
    "# Detect fire, smoke, and no fire in a new image\n",
    "#results = model(r\"fire_dataset/test/images/241_jpg.rf.8c75090fc507d836d71d8b40f527058b.jpg\", save=True)\n",
    "results = model(r\"2568-03-10_22.24.48.png\", save=True)\n",
    "\n",
    "# Display results\n",
    "results[0].show()"
   ]
  },
  {
   "cell_type": "code",
   "execution_count": 12,
   "metadata": {},
   "outputs": [
    {
     "name": "stdout",
     "output_type": "stream",
     "text": [
      "   epoch      time  train/box_loss  train/cls_loss  train/dfl_loss  \\\n",
      "0      1   44.0616         1.12790         1.77247         1.30976   \n",
      "1      2   85.7285         1.09503         1.28036         1.28695   \n",
      "2      3  127.5090         1.06476         1.17095         1.27576   \n",
      "3      4  170.1970         1.02313         1.10390         1.25486   \n",
      "4      5  213.5760         0.98567         1.05367         1.22980   \n",
      "\n",
      "   metrics/precision(B)  metrics/recall(B)  metrics/mAP50(B)  \\\n",
      "0               0.84331            0.78902           0.87745   \n",
      "1               0.90786            0.77479           0.87627   \n",
      "2               0.91038            0.83455           0.90992   \n",
      "3               0.90887            0.86013           0.91847   \n",
      "4               0.91427            0.85305           0.92823   \n",
      "\n",
      "   metrics/mAP50-95(B)  val/box_loss  val/cls_loss  val/dfl_loss    lr/pg0  \\\n",
      "0              0.70761       1.04271       1.19791       1.19090  0.000554   \n",
      "1              0.71564       1.11985       1.11129       1.25003  0.001096   \n",
      "2              0.74722       1.08440       0.87493       1.22841  0.001624   \n",
      "3              0.78025       0.96502       0.89064       1.16693  0.001605   \n",
      "4              0.78384       0.97213       0.80581       1.14838  0.001584   \n",
      "\n",
      "     lr/pg1    lr/pg2  \n",
      "0  0.000554  0.000554  \n",
      "1  0.001096  0.001096  \n",
      "2  0.001624  0.001624  \n",
      "3  0.001605  0.001605  \n",
      "4  0.001584  0.001584  \n",
      "\n",
      "Summary of the Results:\n",
      "Final Epoch: 80\n",
      "Avg Train Box Loss: 0.75710075\n",
      "Avg Train Class Loss: 0.7038338749999999\n",
      "Avg Train DFL Loss: 1.099906875\n",
      "Avg Val Box Loss: 0.7113413749999999\n",
      "Avg Val Class Loss: 0.49311725000000006\n",
      "Avg Val DFL Loss: 1.014433875\n",
      "Final Train mAP50: 0.98509\n",
      "Final Train mAP50-95: 0.91771\n",
      "Final Train Precision: 0.97308\n",
      "Final Train Recall: 0.95991\n",
      "Avg Learning Rate PG0: 0.0008313496787500001\n",
      "Avg Learning Rate PG1: 0.0008313496787500001\n",
      "Avg Learning Rate PG2: 0.0008313496787500001\n"
     ]
    },
    {
     "data": {
      "image/png": "[encoded data removed]",
      "text/plain": [
       "<Figure size 1000x600 with 3 Axes>"
      ]
     },
     "metadata": {},
     "output_type": "display_data"
    }
   ],
   "source": [
    "import pandas as pd\n",
    "import matplotlib.pyplot as plt\n",
    "\n",
    "# Load the CSV file\n",
    "df = pd.read_csv('runs/detect/train10/results.csv')\n",
    "\n",
    "# Print the first few rows to understand the structure\n",
    "print(df.head())\n",
    "\n",
    "# Summary of key metrics (Average or Final Epoch values)\n",
    "summary = {\n",
    "    'Final Epoch': df['epoch'].iloc[-1],\n",
    "    'Avg Train Box Loss': df['train/box_loss'].mean(),\n",
    "    'Avg Train Class Loss': df['train/cls_loss'].mean(),\n",
    "    'Avg Train DFL Loss': df['train/dfl_loss'].mean(),\n",
    "    'Avg Val Box Loss': df['val/box_loss'].mean(),\n",
    "    'Avg Val Class Loss': df['val/cls_loss'].mean(),\n",
    "    'Avg Val DFL Loss': df['val/dfl_loss'].mean(),\n",
    "    'Final Train mAP50': df['metrics/mAP50(B)'].iloc[-1],\n",
    "    'Final Train mAP50-95': df['metrics/mAP50-95(B)'].iloc[-1],\n",
    "    'Final Train Precision': df['metrics/precision(B)'].iloc[-1],\n",
    "    'Final Train Recall': df['metrics/recall(B)'].iloc[-1],\n",
    "    'Avg Learning Rate PG0': df['lr/pg0'].mean(),\n",
    "    'Avg Learning Rate PG1': df['lr/pg1'].mean(),\n",
    "    'Avg Learning Rate PG2': df['lr/pg2'].mean(),\n",
    "}\n",
    "\n",
    "print(\"\\nSummary of the Results:\")\n",
    "for key, value in summary.items():\n",
    "    print(f\"{key}: {value}\")\n",
    "\n",
    "# Plot metrics over epochs\n",
    "plt.figure(figsize=(10, 6))\n",
    "\n",
    "# Precision, Recall, and mAP50-95\n",
    "plt.subplot(3, 1, 1)\n",
    "plt.plot(df['epoch'], df['metrics/precision(B)'], label='Precision', color='b')\n",
    "plt.plot(df['epoch'], df['metrics/recall(B)'], label='Recall', color='r')\n",
    "plt.plot(df['epoch'], df['metrics/mAP50-95(B)'], label='mAP50-95', color='g')\n",
    "plt.xlabel('Epochs')\n",
    "plt.ylabel('Metric Value')\n",
    "plt.legend()\n",
    "plt.title('Precision, Recall, and mAP50-95 Over Epochs')\n",
    "\n",
    "# Losses (Training and Validation)\n",
    "plt.subplot(3, 1, 2)\n",
    "plt.plot(df['epoch'], df['train/box_loss'], label='Train Box Loss', color='b')\n",
    "plt.plot(df['epoch'], df['val/box_loss'], label='Val Box Loss', color='r')\n",
    "plt.xlabel('Epochs')\n",
    "plt.ylabel('Loss')\n",
    "plt.legend()\n",
    "plt.title('Losses Over Epochs')\n",
    "\n",
    "# Learning Rate\n",
    "plt.subplot(3, 1, 3)\n",
    "plt.plot(df['epoch'], df['lr/pg0'], label='LR PG0', color='b')\n",
    "plt.plot(df['epoch'], df['lr/pg1'], label='LR PG1', color='g')\n",
    "plt.plot(df['epoch'], df['lr/pg2'], label='LR PG2', color='r')\n",
    "plt.xlabel('Epochs')\n",
    "plt.ylabel('Learning Rate')\n",
    "plt.legend()\n",
    "plt.title('Learning Rate Over Epochs')\n",
    "\n",
    "# Show plots\n",
    "plt.tight_layout()\n",
    "plt.show()"
   ]
  },
  {
   "cell_type": "code",
   "execution_count": 26,
   "metadata": {},
   "outputs": [
    {
     "name": "stdout",
     "output_type": "stream",
     "text": [
      "Ultralytics 8.3.86 🚀 Python-3.11.10 torch-2.5.1+cu121 CUDA:0 (NVIDIA GeForce RTX 4090, 23995MiB)\n",
      "Model summary (fused): 72 layers, 3,006,038 parameters, 0 gradients, 8.1 GFLOPs\n"
     ]
    },
    {
     "name": "stderr",
     "output_type": "stream",
     "text": [
      "\u001b[34m\u001b[1mval: \u001b[0mScanning /fire-detection-project/fire_dataset/valid/labels.cache... 1159 images, 0 backgrounds, 0 corrupt: 100%|██████████| 1159/1159 [00:00<?, ?it/s]\n",
      "                 Class     Images  Instances      Box(P          R      mAP50  mAP50-95): 100%|██████████| 73/73 [00:04<00:00, 15.00it/s]\n"
     ]
    },
    {
     "name": "stdout",
     "output_type": "stream",
     "text": [
      "                   all       1159       2824      0.969      0.961      0.985      0.918\n",
      "                  fire       1159       2824      0.969      0.961      0.985      0.918\n",
      "Speed: 0.3ms preprocess, 0.5ms inference, 0.0ms loss, 0.6ms postprocess per image\n",
      "Results saved to \u001b[1mruns/detect/val9\u001b[0m\n",
      "Test Results:\n",
      "Test Precision: 0.9692840879428527\n",
      "Test Recall: 0.9610481586402266\n",
      "Test mAP@50: 0.9848228311847711\n",
      "Test mAP@50-95: 0.918386792932132\n",
      "F1 Score: 0.9651\n"
     ]
    }
   ],
   "source": [
    "from ultralytics import YOLO\n",
    "\n",
    "# โหลดโมเดลที่ได้ฝึกแล้ว\n",
    "model = YOLO(r\"runs/detect/train10/weights/best.pt\")\n",
    "\n",
    "# ทดสอบโมเดลกับข้อมูลทดสอบ\n",
    "results = model.val(data='data.yaml')  # ให้ใส่ไฟล์ .yaml ที่อธิบายชุดข้อมูลทดสอบ\n",
    "\n",
    "print(\"Test Results:\")\n",
    "results_dict = results.results_dict  # ใช้ผลลัพธ์ที่อยู่ใน results_dict\n",
    "\n",
    "print(f\"Test Precision: {results_dict['metrics/precision(B)']}\")\n",
    "print(f\"Test Recall: {results_dict['metrics/recall(B)']}\")\n",
    "print(f\"Test mAP@50: {results_dict['metrics/mAP50(B)']}\")\n",
    "print(f\"Test mAP@50-95: {results_dict['metrics/mAP50-95(B)']}\")\n",
    "\n",
    "precision = results_dict['metrics/precision(B)']\n",
    "recall = results_dict['metrics/recall(B)']\n",
    "\n",
    "f1_score = 2 * (precision * recall) / (precision + recall)\n",
    "\n",
    "print(f\"F1 Score: {f1_score:.4f}\")\n",
    "\n"
   ]
  }
 ],
 "metadata": {
  "kernelspec": {
   "display_name": "dl_env",
   "language": "python",
   "name": "dl_env"
  },
  "language_info": {
   "codemirror_mode": {
    "name": "ipython",
    "version": 3
   },
   "file_extension": ".py",
   "mimetype": "text/x-python",
   "name": "python",
   "nbconvert_exporter": "python",
   "pygments_lexer": "ipython3",
   "version": "3.10.16"
  }
 },
 "nbformat": 4,
 "nbformat_minor": 4
}
